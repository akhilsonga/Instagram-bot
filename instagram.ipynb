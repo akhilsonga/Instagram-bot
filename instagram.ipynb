{
 "cells": [
  {
   "cell_type": "code",
   "execution_count": 1,
   "id": "cc3f0d4b",
   "metadata": {},
   "outputs": [],
   "source": [
    "import requests\n",
    "\n",
    "# Replace 'video_url' with the URL of the Instagram video you want to download\n",
    "video_url = 'https://www.instagram.com/p/CmztKshIBci/'\n",
    "\n",
    "# Send an HTTP GET request to the video URL\n",
    "response = requests.get(video_url)\n",
    "\n",
    "# Save the video to a file\n",
    "with open('instagram_video.mp4', 'wb') as f:\n",
    "    f.write(response.content)\n"
   ]
  },
  {
   "cell_type": "code",
   "execution_count": 2,
   "id": "f922ab2d",
   "metadata": {},
   "outputs": [
    {
     "name": "stdout",
     "output_type": "stream",
     "text": [
      "Collecting insta-scrape\n",
      "  Downloading insta_scrape-2.1.2-py3-none-any.whl (26 kB)\n",
      "Requirement already satisfied: requests in c:\\users\\akhil\\anaconda3\\lib\\site-packages (from insta-scrape) (2.25.1)\n",
      "Requirement already satisfied: beautifulsoup4 in c:\\users\\akhil\\anaconda3\\lib\\site-packages (from insta-scrape) (4.9.3)\n",
      "Requirement already satisfied: soupsieve>1.2 in c:\\users\\akhil\\anaconda3\\lib\\site-packages (from beautifulsoup4->insta-scrape) (2.3.1)\n",
      "Requirement already satisfied: idna<3,>=2.5 in c:\\users\\akhil\\anaconda3\\lib\\site-packages (from requests->insta-scrape) (2.10)\n",
      "Requirement already satisfied: certifi>=2017.4.17 in c:\\users\\akhil\\anaconda3\\lib\\site-packages (from requests->insta-scrape) (2022.9.24)\n",
      "Requirement already satisfied: chardet<5,>=3.0.2 in c:\\users\\akhil\\anaconda3\\lib\\site-packages (from requests->insta-scrape) (4.0.0)\n",
      "Requirement already satisfied: urllib3<1.27,>=1.21.1 in c:\\users\\akhil\\anaconda3\\lib\\site-packages (from requests->insta-scrape) (1.26.9)\n",
      "Installing collected packages: insta-scrape\n",
      "Successfully installed insta-scrape-2.1.2\n"
     ]
    }
   ],
   "source": [
    "!pip install insta-scrape\n",
    "\n"
   ]
  },
  {
   "cell_type": "code",
   "execution_count": 3,
   "id": "b00f80f2",
   "metadata": {},
   "outputs": [
    {
     "ename": "JSONDecodeError",
     "evalue": "Expecting property name enclosed in double quotes: line 1 column 2 (char 1)",
     "output_type": "error",
     "traceback": [
      "\u001b[1;31m---------------------------------------------------------------------------\u001b[0m",
      "\u001b[1;31mJSONDecodeError\u001b[0m                           Traceback (most recent call last)",
      "Input \u001b[1;32mIn [3]\u001b[0m, in \u001b[0;36m<cell line: 19>\u001b[1;34m()\u001b[0m\n\u001b[0;32m     16\u001b[0m insta_reel \u001b[38;5;241m=\u001b[39m Reel(\u001b[38;5;124m'\u001b[39m\u001b[38;5;124mhttps://www.instagram.com/p/CmztKshIBci/\u001b[39m\u001b[38;5;124m'\u001b[39m)\n\u001b[0;32m     18\u001b[0m \u001b[38;5;66;03m# Using scrape function and passing the headers\u001b[39;00m\n\u001b[1;32m---> 19\u001b[0m \u001b[43minsta_reel\u001b[49m\u001b[38;5;241;43m.\u001b[39;49m\u001b[43mscrape\u001b[49m\u001b[43m(\u001b[49m\u001b[43mheaders\u001b[49m\u001b[38;5;241;43m=\u001b[39;49m\u001b[43mheaders\u001b[49m\u001b[43m)\u001b[49m\n\u001b[0;32m     21\u001b[0m \u001b[38;5;66;03m# Giving path where we want to download reel to the\u001b[39;00m\n\u001b[0;32m     22\u001b[0m \u001b[38;5;66;03m# download function\u001b[39;00m\n\u001b[0;32m     23\u001b[0m insta_reel\u001b[38;5;241m.\u001b[39mdownload(fp\u001b[38;5;241m=\u001b[39m\u001b[38;5;124mf\u001b[39m\u001b[38;5;124m\"\u001b[39m\u001b[38;5;124m.\u001b[39m\u001b[38;5;130;01m\\\\\u001b[39;00m\u001b[38;5;124mDesktop\u001b[39m\u001b[38;5;130;01m\\\\\u001b[39;00m\u001b[38;5;124mreel\u001b[39m\u001b[38;5;132;01m{\u001b[39;00m\u001b[38;5;28mint\u001b[39m(time\u001b[38;5;241m.\u001b[39mtime())\u001b[38;5;132;01m}\u001b[39;00m\u001b[38;5;124m.mp4\u001b[39m\u001b[38;5;124m\"\u001b[39m)\n",
      "File \u001b[1;32m~\\anaconda3\\lib\\site-packages\\instascrape\\scrapers\\post.py:73\u001b[0m, in \u001b[0;36mPost.scrape\u001b[1;34m(self, mapping, keys, exclude, headers, inplace, session, webdriver)\u001b[0m\n\u001b[0;32m     71\u001b[0m \u001b[38;5;28;01mif\u001b[39;00m \u001b[38;5;28mhasattr\u001b[39m(\u001b[38;5;28mself\u001b[39m, \u001b[38;5;124m\"\u001b[39m\u001b[38;5;124mshortcode\u001b[39m\u001b[38;5;124m\"\u001b[39m):\n\u001b[0;32m     72\u001b[0m     \u001b[38;5;28mself\u001b[39m\u001b[38;5;241m.\u001b[39msource \u001b[38;5;241m=\u001b[39m \u001b[38;5;28mself\u001b[39m\u001b[38;5;241m.\u001b[39mshortcode\n\u001b[1;32m---> 73\u001b[0m return_instance \u001b[38;5;241m=\u001b[39m \u001b[38;5;28;43msuper\u001b[39;49m\u001b[43m(\u001b[49m\u001b[43m)\u001b[49m\u001b[38;5;241;43m.\u001b[39;49m\u001b[43mscrape\u001b[49m\u001b[43m(\u001b[49m\n\u001b[0;32m     74\u001b[0m \u001b[43m                    \u001b[49m\u001b[43mmapping\u001b[49m\u001b[38;5;241;43m=\u001b[39;49m\u001b[43mmapping\u001b[49m\u001b[43m,\u001b[49m\n\u001b[0;32m     75\u001b[0m \u001b[43m                    \u001b[49m\u001b[43mkeys\u001b[49m\u001b[38;5;241;43m=\u001b[39;49m\u001b[43mkeys\u001b[49m\u001b[43m,\u001b[49m\n\u001b[0;32m     76\u001b[0m \u001b[43m                    \u001b[49m\u001b[43mexclude\u001b[49m\u001b[38;5;241;43m=\u001b[39;49m\u001b[43mexclude\u001b[49m\u001b[43m,\u001b[49m\n\u001b[0;32m     77\u001b[0m \u001b[43m                    \u001b[49m\u001b[43mheaders\u001b[49m\u001b[38;5;241;43m=\u001b[39;49m\u001b[43mheaders\u001b[49m\u001b[43m,\u001b[49m\n\u001b[0;32m     78\u001b[0m \u001b[43m                    \u001b[49m\u001b[43minplace\u001b[49m\u001b[38;5;241;43m=\u001b[39;49m\u001b[43minplace\u001b[49m\u001b[43m,\u001b[49m\n\u001b[0;32m     79\u001b[0m \u001b[43m                    \u001b[49m\u001b[43msession\u001b[49m\u001b[38;5;241;43m=\u001b[39;49m\u001b[43msession\u001b[49m\u001b[43m,\u001b[49m\n\u001b[0;32m     80\u001b[0m \u001b[43m                    \u001b[49m\u001b[43mwebdriver\u001b[49m\u001b[38;5;241;43m=\u001b[39;49m\u001b[43mwebdriver\u001b[49m\n\u001b[0;32m     81\u001b[0m \u001b[43m                \u001b[49m\u001b[43m)\u001b[49m\n\u001b[0;32m     82\u001b[0m \u001b[38;5;28;01mif\u001b[39;00m return_instance \u001b[38;5;129;01mis\u001b[39;00m \u001b[38;5;28;01mNone\u001b[39;00m:\n\u001b[0;32m     83\u001b[0m     return_instance \u001b[38;5;241m=\u001b[39m \u001b[38;5;28mself\u001b[39m\n",
      "File \u001b[1;32m~\\anaconda3\\lib\\site-packages\\instascrape\\core\\_static_scraper.py:144\u001b[0m, in \u001b[0;36m_StaticHtmlScraper.scrape\u001b[1;34m(self, mapping, keys, exclude, headers, inplace, session, webdriver)\u001b[0m\n\u001b[0;32m    142\u001b[0m     scraped_dict \u001b[38;5;241m=\u001b[39m \u001b[38;5;28mself\u001b[39m\u001b[38;5;241m.\u001b[39msource\u001b[38;5;241m.\u001b[39mto_dict()\n\u001b[0;32m    143\u001b[0m \u001b[38;5;28;01melse\u001b[39;00m:\n\u001b[1;32m--> 144\u001b[0m     return_data \u001b[38;5;241m=\u001b[39m \u001b[38;5;28;43mself\u001b[39;49m\u001b[38;5;241;43m.\u001b[39;49m\u001b[43m_get_json_from_source\u001b[49m\u001b[43m(\u001b[49m\u001b[38;5;28;43mself\u001b[39;49m\u001b[38;5;241;43m.\u001b[39;49m\u001b[43msource\u001b[49m\u001b[43m,\u001b[49m\u001b[43m \u001b[49m\u001b[43mheaders\u001b[49m\u001b[38;5;241;43m=\u001b[39;49m\u001b[43mheaders\u001b[49m\u001b[43m,\u001b[49m\u001b[43m \u001b[49m\u001b[43msession\u001b[49m\u001b[38;5;241;43m=\u001b[39;49m\u001b[43msession\u001b[49m\u001b[43m)\u001b[49m\n\u001b[0;32m    145\u001b[0m     flat_json_dict \u001b[38;5;241m=\u001b[39m flatten_dict(return_data[\u001b[38;5;124m\"\u001b[39m\u001b[38;5;124mjson_dict\u001b[39m\u001b[38;5;124m\"\u001b[39m])\n\u001b[0;32m    147\u001b[0m     \u001b[38;5;66;03m#HACK: patch mapping to fix the profile pic scrape when a sessionid is present\u001b[39;00m\n",
      "File \u001b[1;32m~\\anaconda3\\lib\\site-packages\\instascrape\\core\\_static_scraper.py:260\u001b[0m, in \u001b[0;36m_StaticHtmlScraper._get_json_from_source\u001b[1;34m(self, source, headers, session)\u001b[0m\n\u001b[0;32m    258\u001b[0m \u001b[38;5;28;01mif\u001b[39;00m initial_type:\n\u001b[0;32m    259\u001b[0m     soup \u001b[38;5;241m=\u001b[39m \u001b[38;5;28mself\u001b[39m\u001b[38;5;241m.\u001b[39msource\n\u001b[1;32m--> 260\u001b[0m json_dict_arr \u001b[38;5;241m=\u001b[39m \u001b[43mjson_from_soup\u001b[49m\u001b[43m(\u001b[49m\u001b[43msoup\u001b[49m\u001b[43m)\u001b[49m\n\u001b[0;32m    261\u001b[0m \u001b[38;5;28;01mif\u001b[39;00m \u001b[38;5;28mlen\u001b[39m(json_dict_arr) \u001b[38;5;241m==\u001b[39m \u001b[38;5;241m1\u001b[39m:\n\u001b[0;32m    262\u001b[0m     json_dict \u001b[38;5;241m=\u001b[39m json_dict_arr[\u001b[38;5;241m0\u001b[39m]\n",
      "File \u001b[1;32m~\\anaconda3\\lib\\site-packages\\instascrape\\scrapers\\scrape_tools.py:94\u001b[0m, in \u001b[0;36mjson_from_soup\u001b[1;34m(source, as_dict, flatten)\u001b[0m\n\u001b[0;32m     91\u001b[0m json_data \u001b[38;5;241m=\u001b[39m _parse_json_str(source\u001b[38;5;241m=\u001b[39msource)\n\u001b[0;32m     93\u001b[0m \u001b[38;5;28;01mif\u001b[39;00m as_dict:\n\u001b[1;32m---> 94\u001b[0m     json_data \u001b[38;5;241m=\u001b[39m [json\u001b[38;5;241m.\u001b[39mloads(json_str) \u001b[38;5;28;01mfor\u001b[39;00m json_str \u001b[38;5;129;01min\u001b[39;00m json_data]\n\u001b[0;32m     95\u001b[0m \u001b[38;5;28;01mif\u001b[39;00m flatten:\n\u001b[0;32m     96\u001b[0m     json_data \u001b[38;5;241m=\u001b[39m [flatten_dict(json_dict) \u001b[38;5;28;01mfor\u001b[39;00m json_dict \u001b[38;5;129;01min\u001b[39;00m json_data]\n",
      "File \u001b[1;32m~\\anaconda3\\lib\\site-packages\\instascrape\\scrapers\\scrape_tools.py:94\u001b[0m, in \u001b[0;36m<listcomp>\u001b[1;34m(.0)\u001b[0m\n\u001b[0;32m     91\u001b[0m json_data \u001b[38;5;241m=\u001b[39m _parse_json_str(source\u001b[38;5;241m=\u001b[39msource)\n\u001b[0;32m     93\u001b[0m \u001b[38;5;28;01mif\u001b[39;00m as_dict:\n\u001b[1;32m---> 94\u001b[0m     json_data \u001b[38;5;241m=\u001b[39m [\u001b[43mjson\u001b[49m\u001b[38;5;241;43m.\u001b[39;49m\u001b[43mloads\u001b[49m\u001b[43m(\u001b[49m\u001b[43mjson_str\u001b[49m\u001b[43m)\u001b[49m \u001b[38;5;28;01mfor\u001b[39;00m json_str \u001b[38;5;129;01min\u001b[39;00m json_data]\n\u001b[0;32m     95\u001b[0m \u001b[38;5;28;01mif\u001b[39;00m flatten:\n\u001b[0;32m     96\u001b[0m     json_data \u001b[38;5;241m=\u001b[39m [flatten_dict(json_dict) \u001b[38;5;28;01mfor\u001b[39;00m json_dict \u001b[38;5;129;01min\u001b[39;00m json_data]\n",
      "File \u001b[1;32m~\\anaconda3\\lib\\json\\__init__.py:346\u001b[0m, in \u001b[0;36mloads\u001b[1;34m(s, cls, object_hook, parse_float, parse_int, parse_constant, object_pairs_hook, **kw)\u001b[0m\n\u001b[0;32m    341\u001b[0m     s \u001b[38;5;241m=\u001b[39m s\u001b[38;5;241m.\u001b[39mdecode(detect_encoding(s), \u001b[38;5;124m'\u001b[39m\u001b[38;5;124msurrogatepass\u001b[39m\u001b[38;5;124m'\u001b[39m)\n\u001b[0;32m    343\u001b[0m \u001b[38;5;28;01mif\u001b[39;00m (\u001b[38;5;28mcls\u001b[39m \u001b[38;5;129;01mis\u001b[39;00m \u001b[38;5;28;01mNone\u001b[39;00m \u001b[38;5;129;01mand\u001b[39;00m object_hook \u001b[38;5;129;01mis\u001b[39;00m \u001b[38;5;28;01mNone\u001b[39;00m \u001b[38;5;129;01mand\u001b[39;00m\n\u001b[0;32m    344\u001b[0m         parse_int \u001b[38;5;129;01mis\u001b[39;00m \u001b[38;5;28;01mNone\u001b[39;00m \u001b[38;5;129;01mand\u001b[39;00m parse_float \u001b[38;5;129;01mis\u001b[39;00m \u001b[38;5;28;01mNone\u001b[39;00m \u001b[38;5;129;01mand\u001b[39;00m\n\u001b[0;32m    345\u001b[0m         parse_constant \u001b[38;5;129;01mis\u001b[39;00m \u001b[38;5;28;01mNone\u001b[39;00m \u001b[38;5;129;01mand\u001b[39;00m object_pairs_hook \u001b[38;5;129;01mis\u001b[39;00m \u001b[38;5;28;01mNone\u001b[39;00m \u001b[38;5;129;01mand\u001b[39;00m \u001b[38;5;129;01mnot\u001b[39;00m kw):\n\u001b[1;32m--> 346\u001b[0m     \u001b[38;5;28;01mreturn\u001b[39;00m \u001b[43m_default_decoder\u001b[49m\u001b[38;5;241;43m.\u001b[39;49m\u001b[43mdecode\u001b[49m\u001b[43m(\u001b[49m\u001b[43ms\u001b[49m\u001b[43m)\u001b[49m\n\u001b[0;32m    347\u001b[0m \u001b[38;5;28;01mif\u001b[39;00m \u001b[38;5;28mcls\u001b[39m \u001b[38;5;129;01mis\u001b[39;00m \u001b[38;5;28;01mNone\u001b[39;00m:\n\u001b[0;32m    348\u001b[0m     \u001b[38;5;28mcls\u001b[39m \u001b[38;5;241m=\u001b[39m JSONDecoder\n",
      "File \u001b[1;32m~\\anaconda3\\lib\\json\\decoder.py:337\u001b[0m, in \u001b[0;36mJSONDecoder.decode\u001b[1;34m(self, s, _w)\u001b[0m\n\u001b[0;32m    332\u001b[0m \u001b[38;5;28;01mdef\u001b[39;00m \u001b[38;5;21mdecode\u001b[39m(\u001b[38;5;28mself\u001b[39m, s, _w\u001b[38;5;241m=\u001b[39mWHITESPACE\u001b[38;5;241m.\u001b[39mmatch):\n\u001b[0;32m    333\u001b[0m     \u001b[38;5;124;03m\"\"\"Return the Python representation of ``s`` (a ``str`` instance\u001b[39;00m\n\u001b[0;32m    334\u001b[0m \u001b[38;5;124;03m    containing a JSON document).\u001b[39;00m\n\u001b[0;32m    335\u001b[0m \n\u001b[0;32m    336\u001b[0m \u001b[38;5;124;03m    \"\"\"\u001b[39;00m\n\u001b[1;32m--> 337\u001b[0m     obj, end \u001b[38;5;241m=\u001b[39m \u001b[38;5;28;43mself\u001b[39;49m\u001b[38;5;241;43m.\u001b[39;49m\u001b[43mraw_decode\u001b[49m\u001b[43m(\u001b[49m\u001b[43ms\u001b[49m\u001b[43m,\u001b[49m\u001b[43m \u001b[49m\u001b[43midx\u001b[49m\u001b[38;5;241;43m=\u001b[39;49m\u001b[43m_w\u001b[49m\u001b[43m(\u001b[49m\u001b[43ms\u001b[49m\u001b[43m,\u001b[49m\u001b[43m \u001b[49m\u001b[38;5;241;43m0\u001b[39;49m\u001b[43m)\u001b[49m\u001b[38;5;241;43m.\u001b[39;49m\u001b[43mend\u001b[49m\u001b[43m(\u001b[49m\u001b[43m)\u001b[49m\u001b[43m)\u001b[49m\n\u001b[0;32m    338\u001b[0m     end \u001b[38;5;241m=\u001b[39m _w(s, end)\u001b[38;5;241m.\u001b[39mend()\n\u001b[0;32m    339\u001b[0m     \u001b[38;5;28;01mif\u001b[39;00m end \u001b[38;5;241m!=\u001b[39m \u001b[38;5;28mlen\u001b[39m(s):\n",
      "File \u001b[1;32m~\\anaconda3\\lib\\json\\decoder.py:353\u001b[0m, in \u001b[0;36mJSONDecoder.raw_decode\u001b[1;34m(self, s, idx)\u001b[0m\n\u001b[0;32m    344\u001b[0m \u001b[38;5;124;03m\"\"\"Decode a JSON document from ``s`` (a ``str`` beginning with\u001b[39;00m\n\u001b[0;32m    345\u001b[0m \u001b[38;5;124;03ma JSON document) and return a 2-tuple of the Python\u001b[39;00m\n\u001b[0;32m    346\u001b[0m \u001b[38;5;124;03mrepresentation and the index in ``s`` where the document ended.\u001b[39;00m\n\u001b[1;32m   (...)\u001b[0m\n\u001b[0;32m    350\u001b[0m \n\u001b[0;32m    351\u001b[0m \u001b[38;5;124;03m\"\"\"\u001b[39;00m\n\u001b[0;32m    352\u001b[0m \u001b[38;5;28;01mtry\u001b[39;00m:\n\u001b[1;32m--> 353\u001b[0m     obj, end \u001b[38;5;241m=\u001b[39m \u001b[38;5;28;43mself\u001b[39;49m\u001b[38;5;241;43m.\u001b[39;49m\u001b[43mscan_once\u001b[49m\u001b[43m(\u001b[49m\u001b[43ms\u001b[49m\u001b[43m,\u001b[49m\u001b[43m \u001b[49m\u001b[43midx\u001b[49m\u001b[43m)\u001b[49m\n\u001b[0;32m    354\u001b[0m \u001b[38;5;28;01mexcept\u001b[39;00m \u001b[38;5;167;01mStopIteration\u001b[39;00m \u001b[38;5;28;01mas\u001b[39;00m err:\n\u001b[0;32m    355\u001b[0m     \u001b[38;5;28;01mraise\u001b[39;00m JSONDecodeError(\u001b[38;5;124m\"\u001b[39m\u001b[38;5;124mExpecting value\u001b[39m\u001b[38;5;124m\"\u001b[39m, s, err\u001b[38;5;241m.\u001b[39mvalue) \u001b[38;5;28;01mfrom\u001b[39;00m \u001b[38;5;28mNone\u001b[39m\n",
      "\u001b[1;31mJSONDecodeError\u001b[0m: Expecting property name enclosed in double quotes: line 1 column 2 (char 1)"
     ]
    }
   ],
   "source": [
    "from instascrape import Reel\n",
    "import time\n",
    "\n",
    "# session id\n",
    "SESSIONID = \"57435367058%3AUfH9qOzDRVBUnv%3A13%3AAYfvlu3awBROE5qEghsgKQymB0nIzjcOIJbqqSuqkQ\"\n",
    "\n",
    "# Header with session id\n",
    "headers = {\n",
    "    \"User-Agent\": \"Mozilla/5.0 (Windows NT 10.0; Win64; x64)\\\n",
    "    AppleWebKit/537.36 (KHTML, like Gecko) Chrome/79.0.3945.74 \\\n",
    "    Safari/537.36 Edg/79.0.309.43\",\n",
    "    \"cookie\": f'sessionid={SESSIONID};'\n",
    "}\n",
    "\n",
    "# Passing Instagram reel link as argument in Reel Module\n",
    "insta_reel = Reel('https://www.instagram.com/p/CmztKshIBci/')\n",
    "\n",
    "# Using scrape function and passing the headers\n",
    "insta_reel.scrape(headers=headers)\n",
    "\n",
    "# Giving path where we want to download reel to the\n",
    "# download function\n",
    "insta_reel.download(fp=f\".\\\\Desktop\\\\reel{int(time.time())}.mp4\")\n",
    "\n",
    "# printing success Message\n",
    "print('Downloaded Successfully.')\n"
   ]
  },
  {
   "cell_type": "code",
   "execution_count": 6,
   "id": "638d702c",
   "metadata": {},
   "outputs": [
    {
     "ename": "JSONDecodeError",
     "evalue": "Expecting property name enclosed in double quotes: line 1 column 2 (char 1)",
     "output_type": "error",
     "traceback": [
      "\u001b[1;31m---------------------------------------------------------------------------\u001b[0m",
      "\u001b[1;31mJSONDecodeError\u001b[0m                           Traceback (most recent call last)",
      "Input \u001b[1;32mIn [6]\u001b[0m, in \u001b[0;36m<cell line: 23>\u001b[1;34m()\u001b[0m\n\u001b[0;32m     19\u001b[0m insta_reel \u001b[38;5;241m=\u001b[39m Reel(\n\u001b[0;32m     20\u001b[0m \t\u001b[38;5;124m'\u001b[39m\u001b[38;5;124mhttps://www.instagram.com/reel/CKWDdesgv2l/?utm_source=ig_web_copy_link\u001b[39m\u001b[38;5;124m'\u001b[39m)\n\u001b[0;32m     22\u001b[0m \u001b[38;5;66;03m# Using scrape function and passing the headers\u001b[39;00m\n\u001b[1;32m---> 23\u001b[0m \u001b[43minsta_reel\u001b[49m\u001b[38;5;241;43m.\u001b[39;49m\u001b[43mscrape\u001b[49m\u001b[43m(\u001b[49m\u001b[43mheaders\u001b[49m\u001b[38;5;241;43m=\u001b[39;49m\u001b[43mheaders\u001b[49m\u001b[43m)\u001b[49m\n\u001b[0;32m     25\u001b[0m \u001b[38;5;66;03m# Giving path where we want to download reel to the\u001b[39;00m\n\u001b[0;32m     26\u001b[0m \u001b[38;5;66;03m# download function\u001b[39;00m\n\u001b[0;32m     27\u001b[0m insta_reel\u001b[38;5;241m.\u001b[39mdownload(fp\u001b[38;5;241m=\u001b[39m\u001b[38;5;124mf\u001b[39m\u001b[38;5;124m\"\u001b[39m\u001b[38;5;124m.\u001b[39m\u001b[38;5;130;01m\\\\\u001b[39;00m\u001b[38;5;124mDesktop\u001b[39m\u001b[38;5;130;01m\\\\\u001b[39;00m\u001b[38;5;124mreel\u001b[39m\u001b[38;5;132;01m{\u001b[39;00m\u001b[38;5;28mint\u001b[39m(time\u001b[38;5;241m.\u001b[39mtime())\u001b[38;5;132;01m}\u001b[39;00m\u001b[38;5;124m.mp4\u001b[39m\u001b[38;5;124m\"\u001b[39m)\n",
      "File \u001b[1;32m~\\anaconda3\\lib\\site-packages\\instascrape\\scrapers\\post.py:73\u001b[0m, in \u001b[0;36mPost.scrape\u001b[1;34m(self, mapping, keys, exclude, headers, inplace, session, webdriver)\u001b[0m\n\u001b[0;32m     71\u001b[0m \u001b[38;5;28;01mif\u001b[39;00m \u001b[38;5;28mhasattr\u001b[39m(\u001b[38;5;28mself\u001b[39m, \u001b[38;5;124m\"\u001b[39m\u001b[38;5;124mshortcode\u001b[39m\u001b[38;5;124m\"\u001b[39m):\n\u001b[0;32m     72\u001b[0m     \u001b[38;5;28mself\u001b[39m\u001b[38;5;241m.\u001b[39msource \u001b[38;5;241m=\u001b[39m \u001b[38;5;28mself\u001b[39m\u001b[38;5;241m.\u001b[39mshortcode\n\u001b[1;32m---> 73\u001b[0m return_instance \u001b[38;5;241m=\u001b[39m \u001b[38;5;28;43msuper\u001b[39;49m\u001b[43m(\u001b[49m\u001b[43m)\u001b[49m\u001b[38;5;241;43m.\u001b[39;49m\u001b[43mscrape\u001b[49m\u001b[43m(\u001b[49m\n\u001b[0;32m     74\u001b[0m \u001b[43m                    \u001b[49m\u001b[43mmapping\u001b[49m\u001b[38;5;241;43m=\u001b[39;49m\u001b[43mmapping\u001b[49m\u001b[43m,\u001b[49m\n\u001b[0;32m     75\u001b[0m \u001b[43m                    \u001b[49m\u001b[43mkeys\u001b[49m\u001b[38;5;241;43m=\u001b[39;49m\u001b[43mkeys\u001b[49m\u001b[43m,\u001b[49m\n\u001b[0;32m     76\u001b[0m \u001b[43m                    \u001b[49m\u001b[43mexclude\u001b[49m\u001b[38;5;241;43m=\u001b[39;49m\u001b[43mexclude\u001b[49m\u001b[43m,\u001b[49m\n\u001b[0;32m     77\u001b[0m \u001b[43m                    \u001b[49m\u001b[43mheaders\u001b[49m\u001b[38;5;241;43m=\u001b[39;49m\u001b[43mheaders\u001b[49m\u001b[43m,\u001b[49m\n\u001b[0;32m     78\u001b[0m \u001b[43m                    \u001b[49m\u001b[43minplace\u001b[49m\u001b[38;5;241;43m=\u001b[39;49m\u001b[43minplace\u001b[49m\u001b[43m,\u001b[49m\n\u001b[0;32m     79\u001b[0m \u001b[43m                    \u001b[49m\u001b[43msession\u001b[49m\u001b[38;5;241;43m=\u001b[39;49m\u001b[43msession\u001b[49m\u001b[43m,\u001b[49m\n\u001b[0;32m     80\u001b[0m \u001b[43m                    \u001b[49m\u001b[43mwebdriver\u001b[49m\u001b[38;5;241;43m=\u001b[39;49m\u001b[43mwebdriver\u001b[49m\n\u001b[0;32m     81\u001b[0m \u001b[43m                \u001b[49m\u001b[43m)\u001b[49m\n\u001b[0;32m     82\u001b[0m \u001b[38;5;28;01mif\u001b[39;00m return_instance \u001b[38;5;129;01mis\u001b[39;00m \u001b[38;5;28;01mNone\u001b[39;00m:\n\u001b[0;32m     83\u001b[0m     return_instance \u001b[38;5;241m=\u001b[39m \u001b[38;5;28mself\u001b[39m\n",
      "File \u001b[1;32m~\\anaconda3\\lib\\site-packages\\instascrape\\core\\_static_scraper.py:144\u001b[0m, in \u001b[0;36m_StaticHtmlScraper.scrape\u001b[1;34m(self, mapping, keys, exclude, headers, inplace, session, webdriver)\u001b[0m\n\u001b[0;32m    142\u001b[0m     scraped_dict \u001b[38;5;241m=\u001b[39m \u001b[38;5;28mself\u001b[39m\u001b[38;5;241m.\u001b[39msource\u001b[38;5;241m.\u001b[39mto_dict()\n\u001b[0;32m    143\u001b[0m \u001b[38;5;28;01melse\u001b[39;00m:\n\u001b[1;32m--> 144\u001b[0m     return_data \u001b[38;5;241m=\u001b[39m \u001b[38;5;28;43mself\u001b[39;49m\u001b[38;5;241;43m.\u001b[39;49m\u001b[43m_get_json_from_source\u001b[49m\u001b[43m(\u001b[49m\u001b[38;5;28;43mself\u001b[39;49m\u001b[38;5;241;43m.\u001b[39;49m\u001b[43msource\u001b[49m\u001b[43m,\u001b[49m\u001b[43m \u001b[49m\u001b[43mheaders\u001b[49m\u001b[38;5;241;43m=\u001b[39;49m\u001b[43mheaders\u001b[49m\u001b[43m,\u001b[49m\u001b[43m \u001b[49m\u001b[43msession\u001b[49m\u001b[38;5;241;43m=\u001b[39;49m\u001b[43msession\u001b[49m\u001b[43m)\u001b[49m\n\u001b[0;32m    145\u001b[0m     flat_json_dict \u001b[38;5;241m=\u001b[39m flatten_dict(return_data[\u001b[38;5;124m\"\u001b[39m\u001b[38;5;124mjson_dict\u001b[39m\u001b[38;5;124m\"\u001b[39m])\n\u001b[0;32m    147\u001b[0m     \u001b[38;5;66;03m#HACK: patch mapping to fix the profile pic scrape when a sessionid is present\u001b[39;00m\n",
      "File \u001b[1;32m~\\anaconda3\\lib\\site-packages\\instascrape\\core\\_static_scraper.py:260\u001b[0m, in \u001b[0;36m_StaticHtmlScraper._get_json_from_source\u001b[1;34m(self, source, headers, session)\u001b[0m\n\u001b[0;32m    258\u001b[0m \u001b[38;5;28;01mif\u001b[39;00m initial_type:\n\u001b[0;32m    259\u001b[0m     soup \u001b[38;5;241m=\u001b[39m \u001b[38;5;28mself\u001b[39m\u001b[38;5;241m.\u001b[39msource\n\u001b[1;32m--> 260\u001b[0m json_dict_arr \u001b[38;5;241m=\u001b[39m \u001b[43mjson_from_soup\u001b[49m\u001b[43m(\u001b[49m\u001b[43msoup\u001b[49m\u001b[43m)\u001b[49m\n\u001b[0;32m    261\u001b[0m \u001b[38;5;28;01mif\u001b[39;00m \u001b[38;5;28mlen\u001b[39m(json_dict_arr) \u001b[38;5;241m==\u001b[39m \u001b[38;5;241m1\u001b[39m:\n\u001b[0;32m    262\u001b[0m     json_dict \u001b[38;5;241m=\u001b[39m json_dict_arr[\u001b[38;5;241m0\u001b[39m]\n",
      "File \u001b[1;32m~\\anaconda3\\lib\\site-packages\\instascrape\\scrapers\\scrape_tools.py:94\u001b[0m, in \u001b[0;36mjson_from_soup\u001b[1;34m(source, as_dict, flatten)\u001b[0m\n\u001b[0;32m     91\u001b[0m json_data \u001b[38;5;241m=\u001b[39m _parse_json_str(source\u001b[38;5;241m=\u001b[39msource)\n\u001b[0;32m     93\u001b[0m \u001b[38;5;28;01mif\u001b[39;00m as_dict:\n\u001b[1;32m---> 94\u001b[0m     json_data \u001b[38;5;241m=\u001b[39m [json\u001b[38;5;241m.\u001b[39mloads(json_str) \u001b[38;5;28;01mfor\u001b[39;00m json_str \u001b[38;5;129;01min\u001b[39;00m json_data]\n\u001b[0;32m     95\u001b[0m \u001b[38;5;28;01mif\u001b[39;00m flatten:\n\u001b[0;32m     96\u001b[0m     json_data \u001b[38;5;241m=\u001b[39m [flatten_dict(json_dict) \u001b[38;5;28;01mfor\u001b[39;00m json_dict \u001b[38;5;129;01min\u001b[39;00m json_data]\n",
      "File \u001b[1;32m~\\anaconda3\\lib\\site-packages\\instascrape\\scrapers\\scrape_tools.py:94\u001b[0m, in \u001b[0;36m<listcomp>\u001b[1;34m(.0)\u001b[0m\n\u001b[0;32m     91\u001b[0m json_data \u001b[38;5;241m=\u001b[39m _parse_json_str(source\u001b[38;5;241m=\u001b[39msource)\n\u001b[0;32m     93\u001b[0m \u001b[38;5;28;01mif\u001b[39;00m as_dict:\n\u001b[1;32m---> 94\u001b[0m     json_data \u001b[38;5;241m=\u001b[39m [\u001b[43mjson\u001b[49m\u001b[38;5;241;43m.\u001b[39;49m\u001b[43mloads\u001b[49m\u001b[43m(\u001b[49m\u001b[43mjson_str\u001b[49m\u001b[43m)\u001b[49m \u001b[38;5;28;01mfor\u001b[39;00m json_str \u001b[38;5;129;01min\u001b[39;00m json_data]\n\u001b[0;32m     95\u001b[0m \u001b[38;5;28;01mif\u001b[39;00m flatten:\n\u001b[0;32m     96\u001b[0m     json_data \u001b[38;5;241m=\u001b[39m [flatten_dict(json_dict) \u001b[38;5;28;01mfor\u001b[39;00m json_dict \u001b[38;5;129;01min\u001b[39;00m json_data]\n",
      "File \u001b[1;32m~\\anaconda3\\lib\\json\\__init__.py:346\u001b[0m, in \u001b[0;36mloads\u001b[1;34m(s, cls, object_hook, parse_float, parse_int, parse_constant, object_pairs_hook, **kw)\u001b[0m\n\u001b[0;32m    341\u001b[0m     s \u001b[38;5;241m=\u001b[39m s\u001b[38;5;241m.\u001b[39mdecode(detect_encoding(s), \u001b[38;5;124m'\u001b[39m\u001b[38;5;124msurrogatepass\u001b[39m\u001b[38;5;124m'\u001b[39m)\n\u001b[0;32m    343\u001b[0m \u001b[38;5;28;01mif\u001b[39;00m (\u001b[38;5;28mcls\u001b[39m \u001b[38;5;129;01mis\u001b[39;00m \u001b[38;5;28;01mNone\u001b[39;00m \u001b[38;5;129;01mand\u001b[39;00m object_hook \u001b[38;5;129;01mis\u001b[39;00m \u001b[38;5;28;01mNone\u001b[39;00m \u001b[38;5;129;01mand\u001b[39;00m\n\u001b[0;32m    344\u001b[0m         parse_int \u001b[38;5;129;01mis\u001b[39;00m \u001b[38;5;28;01mNone\u001b[39;00m \u001b[38;5;129;01mand\u001b[39;00m parse_float \u001b[38;5;129;01mis\u001b[39;00m \u001b[38;5;28;01mNone\u001b[39;00m \u001b[38;5;129;01mand\u001b[39;00m\n\u001b[0;32m    345\u001b[0m         parse_constant \u001b[38;5;129;01mis\u001b[39;00m \u001b[38;5;28;01mNone\u001b[39;00m \u001b[38;5;129;01mand\u001b[39;00m object_pairs_hook \u001b[38;5;129;01mis\u001b[39;00m \u001b[38;5;28;01mNone\u001b[39;00m \u001b[38;5;129;01mand\u001b[39;00m \u001b[38;5;129;01mnot\u001b[39;00m kw):\n\u001b[1;32m--> 346\u001b[0m     \u001b[38;5;28;01mreturn\u001b[39;00m \u001b[43m_default_decoder\u001b[49m\u001b[38;5;241;43m.\u001b[39;49m\u001b[43mdecode\u001b[49m\u001b[43m(\u001b[49m\u001b[43ms\u001b[49m\u001b[43m)\u001b[49m\n\u001b[0;32m    347\u001b[0m \u001b[38;5;28;01mif\u001b[39;00m \u001b[38;5;28mcls\u001b[39m \u001b[38;5;129;01mis\u001b[39;00m \u001b[38;5;28;01mNone\u001b[39;00m:\n\u001b[0;32m    348\u001b[0m     \u001b[38;5;28mcls\u001b[39m \u001b[38;5;241m=\u001b[39m JSONDecoder\n",
      "File \u001b[1;32m~\\anaconda3\\lib\\json\\decoder.py:337\u001b[0m, in \u001b[0;36mJSONDecoder.decode\u001b[1;34m(self, s, _w)\u001b[0m\n\u001b[0;32m    332\u001b[0m \u001b[38;5;28;01mdef\u001b[39;00m \u001b[38;5;21mdecode\u001b[39m(\u001b[38;5;28mself\u001b[39m, s, _w\u001b[38;5;241m=\u001b[39mWHITESPACE\u001b[38;5;241m.\u001b[39mmatch):\n\u001b[0;32m    333\u001b[0m     \u001b[38;5;124;03m\"\"\"Return the Python representation of ``s`` (a ``str`` instance\u001b[39;00m\n\u001b[0;32m    334\u001b[0m \u001b[38;5;124;03m    containing a JSON document).\u001b[39;00m\n\u001b[0;32m    335\u001b[0m \n\u001b[0;32m    336\u001b[0m \u001b[38;5;124;03m    \"\"\"\u001b[39;00m\n\u001b[1;32m--> 337\u001b[0m     obj, end \u001b[38;5;241m=\u001b[39m \u001b[38;5;28;43mself\u001b[39;49m\u001b[38;5;241;43m.\u001b[39;49m\u001b[43mraw_decode\u001b[49m\u001b[43m(\u001b[49m\u001b[43ms\u001b[49m\u001b[43m,\u001b[49m\u001b[43m \u001b[49m\u001b[43midx\u001b[49m\u001b[38;5;241;43m=\u001b[39;49m\u001b[43m_w\u001b[49m\u001b[43m(\u001b[49m\u001b[43ms\u001b[49m\u001b[43m,\u001b[49m\u001b[43m \u001b[49m\u001b[38;5;241;43m0\u001b[39;49m\u001b[43m)\u001b[49m\u001b[38;5;241;43m.\u001b[39;49m\u001b[43mend\u001b[49m\u001b[43m(\u001b[49m\u001b[43m)\u001b[49m\u001b[43m)\u001b[49m\n\u001b[0;32m    338\u001b[0m     end \u001b[38;5;241m=\u001b[39m _w(s, end)\u001b[38;5;241m.\u001b[39mend()\n\u001b[0;32m    339\u001b[0m     \u001b[38;5;28;01mif\u001b[39;00m end \u001b[38;5;241m!=\u001b[39m \u001b[38;5;28mlen\u001b[39m(s):\n",
      "File \u001b[1;32m~\\anaconda3\\lib\\json\\decoder.py:353\u001b[0m, in \u001b[0;36mJSONDecoder.raw_decode\u001b[1;34m(self, s, idx)\u001b[0m\n\u001b[0;32m    344\u001b[0m \u001b[38;5;124;03m\"\"\"Decode a JSON document from ``s`` (a ``str`` beginning with\u001b[39;00m\n\u001b[0;32m    345\u001b[0m \u001b[38;5;124;03ma JSON document) and return a 2-tuple of the Python\u001b[39;00m\n\u001b[0;32m    346\u001b[0m \u001b[38;5;124;03mrepresentation and the index in ``s`` where the document ended.\u001b[39;00m\n\u001b[1;32m   (...)\u001b[0m\n\u001b[0;32m    350\u001b[0m \n\u001b[0;32m    351\u001b[0m \u001b[38;5;124;03m\"\"\"\u001b[39;00m\n\u001b[0;32m    352\u001b[0m \u001b[38;5;28;01mtry\u001b[39;00m:\n\u001b[1;32m--> 353\u001b[0m     obj, end \u001b[38;5;241m=\u001b[39m \u001b[38;5;28;43mself\u001b[39;49m\u001b[38;5;241;43m.\u001b[39;49m\u001b[43mscan_once\u001b[49m\u001b[43m(\u001b[49m\u001b[43ms\u001b[49m\u001b[43m,\u001b[49m\u001b[43m \u001b[49m\u001b[43midx\u001b[49m\u001b[43m)\u001b[49m\n\u001b[0;32m    354\u001b[0m \u001b[38;5;28;01mexcept\u001b[39;00m \u001b[38;5;167;01mStopIteration\u001b[39;00m \u001b[38;5;28;01mas\u001b[39;00m err:\n\u001b[0;32m    355\u001b[0m     \u001b[38;5;28;01mraise\u001b[39;00m JSONDecodeError(\u001b[38;5;124m\"\u001b[39m\u001b[38;5;124mExpecting value\u001b[39m\u001b[38;5;124m\"\u001b[39m, s, err\u001b[38;5;241m.\u001b[39mvalue) \u001b[38;5;28;01mfrom\u001b[39;00m \u001b[38;5;28mNone\u001b[39m\n",
      "\u001b[1;31mJSONDecodeError\u001b[0m: Expecting property name enclosed in double quotes: line 1 column 2 (char 1)"
     ]
    }
   ],
   "source": [
    "from instascrape import Reel\n",
    "import time\n",
    "\n",
    "# session id\n",
    "SESSIONID = \"57435367058%3AUfH9qOzDRVBUnv%3A13%3AAYfvlu3awBROE5qEghsgKQymB0nIzjcOIJbqqSuqkQ\"\n",
    "\n",
    "# Header with session id\n",
    "\n",
    "#Mozilla/5.0 (Windows NT 10.0) AppleWebKit/537.36 (KHTML, like Gecko) Chrome/39.0.2171.71 Safari/537.36 Edge/12.0\n",
    "\n",
    "headers = {\n",
    "    \"User-Agent\": \"Mozilla/5.0 (Windows NT 10.0; Win64; x64)\\\n",
    "    AppleWebKit/537.36 (KHTML, like Gecko) Chrome/79.0.3945.74 \\\n",
    "    Safari/537.36 Edg/79.0.309.43\",\n",
    "    \"cookie\": f'sessionid={SESSIONID};'\n",
    "}\n",
    "\n",
    "# Passing Instagram reel link as argument in Reel Module\n",
    "insta_reel = Reel(\n",
    "\t'https://www.instagram.com/reel/CKWDdesgv2l/?utm_source=ig_web_copy_link')\n",
    "\n",
    "# Using scrape function and passing the headers\n",
    "insta_reel.scrape(headers=headers)\n",
    "\n",
    "# Giving path where we want to download reel to the\n",
    "# download function\n",
    "insta_reel.download(fp=f\".\\\\Desktop\\\\reel{int(time.time())}.mp4\")\n",
    "\n",
    "# printing success Message\n",
    "print('Downloaded Successfully.')\n"
   ]
  },
  {
   "cell_type": "code",
   "execution_count": 8,
   "id": "f5305e29",
   "metadata": {},
   "outputs": [
    {
     "ename": "MissingSchema",
     "evalue": "Invalid URL '-f': No schema supplied. Perhaps you meant http://-f?",
     "output_type": "error",
     "traceback": [
      "\u001b[1;31m---------------------------------------------------------------------------\u001b[0m",
      "\u001b[1;31mMissingSchema\u001b[0m                             Traceback (most recent call last)",
      "Input \u001b[1;32mIn [8]\u001b[0m, in \u001b[0;36m<cell line: 37>\u001b[1;34m()\u001b[0m\n\u001b[0;32m     38\u001b[0m arg \u001b[38;5;241m=\u001b[39m [\u001b[38;5;124m\"\u001b[39m\u001b[38;5;124mhttps://www.instagram.com/p/CmztKshIBci/\u001b[39m\u001b[38;5;124m\"\u001b[39m, \u001b[38;5;124m\"\u001b[39m\u001b[38;5;124mPOST_TEST\u001b[39m\u001b[38;5;124m\"\u001b[39m]\n\u001b[0;32m     39\u001b[0m \u001b[38;5;28;01mif\u001b[39;00m \u001b[38;5;28mlen\u001b[39m(arg) \u001b[38;5;241m==\u001b[39m \u001b[38;5;241m2\u001b[39m:\n\u001b[1;32m---> 40\u001b[0m     \u001b[43mmain\u001b[49m\u001b[43m(\u001b[49m\u001b[43m)\u001b[49m\n\u001b[0;32m     41\u001b[0m \u001b[38;5;28;01melse\u001b[39;00m:\n\u001b[0;32m     42\u001b[0m     \u001b[38;5;28mprint\u001b[39m(\u001b[38;5;124m'\u001b[39m\u001b[38;5;124mUsage: instagram-downloader.py link_to_photo\u001b[39m\u001b[38;5;124m'\u001b[39m)\n",
      "Input \u001b[1;32mIn [8]\u001b[0m, in \u001b[0;36mmain\u001b[1;34m()\u001b[0m\n\u001b[0;32m     14\u001b[0m \u001b[38;5;28;01mdef\u001b[39;00m \u001b[38;5;21mmain\u001b[39m():\n\u001b[0;32m     15\u001b[0m     url \u001b[38;5;241m=\u001b[39m argv[\u001b[38;5;241m1\u001b[39m]\n\u001b[1;32m---> 16\u001b[0m     r \u001b[38;5;241m=\u001b[39m \u001b[43mrequests\u001b[49m\u001b[38;5;241;43m.\u001b[39;49m\u001b[43mget\u001b[49m\u001b[43m(\u001b[49m\u001b[43murl\u001b[49m\u001b[43m,\u001b[49m\u001b[43m \u001b[49m\u001b[43mparams\u001b[49m\u001b[38;5;241;43m=\u001b[39;49m\u001b[43m{\u001b[49m\u001b[38;5;124;43m'\u001b[39;49m\u001b[38;5;124;43m__a\u001b[39;49m\u001b[38;5;124;43m'\u001b[39;49m\u001b[43m:\u001b[49m\u001b[43m \u001b[49m\u001b[38;5;241;43m1\u001b[39;49m\u001b[43m}\u001b[49m\u001b[43m)\u001b[49m\n\u001b[0;32m     17\u001b[0m     \u001b[38;5;28;01mif\u001b[39;00m (\n\u001b[0;32m     18\u001b[0m         (r\u001b[38;5;241m.\u001b[39mheaders[\u001b[38;5;124m'\u001b[39m\u001b[38;5;124mcontent-type\u001b[39m\u001b[38;5;124m'\u001b[39m] \u001b[38;5;241m!=\u001b[39m \u001b[38;5;124m'\u001b[39m\u001b[38;5;124mapplication/json\u001b[39m\u001b[38;5;124m'\u001b[39m) \u001b[38;5;129;01mor\u001b[39;00m\n\u001b[0;32m     19\u001b[0m         (\u001b[38;5;129;01mnot\u001b[39;00m \u001b[38;5;124m'\u001b[39m\u001b[38;5;124mgraphql\u001b[39m\u001b[38;5;124m'\u001b[39m \u001b[38;5;129;01min\u001b[39;00m r\u001b[38;5;241m.\u001b[39mjson())\n\u001b[0;32m     20\u001b[0m     ):\n\u001b[0;32m     21\u001b[0m         \u001b[38;5;28;01mraise\u001b[39;00m \u001b[38;5;167;01mException\u001b[39;00m(\u001b[38;5;124m'\u001b[39m\u001b[38;5;124mWrong link\u001b[39m\u001b[38;5;124m'\u001b[39m)\n",
      "File \u001b[1;32m~\\anaconda3\\lib\\site-packages\\requests\\api.py:76\u001b[0m, in \u001b[0;36mget\u001b[1;34m(url, params, **kwargs)\u001b[0m\n\u001b[0;32m     65\u001b[0m \u001b[38;5;124mr\u001b[39m\u001b[38;5;124;03m\"\"\"Sends a GET request.\u001b[39;00m\n\u001b[0;32m     66\u001b[0m \n\u001b[0;32m     67\u001b[0m \u001b[38;5;124;03m:param url: URL for the new :class:`Request` object.\u001b[39;00m\n\u001b[1;32m   (...)\u001b[0m\n\u001b[0;32m     72\u001b[0m \u001b[38;5;124;03m:rtype: requests.Response\u001b[39;00m\n\u001b[0;32m     73\u001b[0m \u001b[38;5;124;03m\"\"\"\u001b[39;00m\n\u001b[0;32m     75\u001b[0m kwargs\u001b[38;5;241m.\u001b[39msetdefault(\u001b[38;5;124m'\u001b[39m\u001b[38;5;124mallow_redirects\u001b[39m\u001b[38;5;124m'\u001b[39m, \u001b[38;5;28;01mTrue\u001b[39;00m)\n\u001b[1;32m---> 76\u001b[0m \u001b[38;5;28;01mreturn\u001b[39;00m request(\u001b[38;5;124m'\u001b[39m\u001b[38;5;124mget\u001b[39m\u001b[38;5;124m'\u001b[39m, url, params\u001b[38;5;241m=\u001b[39mparams, \u001b[38;5;241m*\u001b[39m\u001b[38;5;241m*\u001b[39mkwargs)\n",
      "File \u001b[1;32m~\\anaconda3\\lib\\site-packages\\requests\\api.py:61\u001b[0m, in \u001b[0;36mrequest\u001b[1;34m(method, url, **kwargs)\u001b[0m\n\u001b[0;32m     57\u001b[0m \u001b[38;5;66;03m# By using the 'with' statement we are sure the session is closed, thus we\u001b[39;00m\n\u001b[0;32m     58\u001b[0m \u001b[38;5;66;03m# avoid leaving sockets open which can trigger a ResourceWarning in some\u001b[39;00m\n\u001b[0;32m     59\u001b[0m \u001b[38;5;66;03m# cases, and look like a memory leak in others.\u001b[39;00m\n\u001b[0;32m     60\u001b[0m \u001b[38;5;28;01mwith\u001b[39;00m sessions\u001b[38;5;241m.\u001b[39mSession() \u001b[38;5;28;01mas\u001b[39;00m session:\n\u001b[1;32m---> 61\u001b[0m     \u001b[38;5;28;01mreturn\u001b[39;00m session\u001b[38;5;241m.\u001b[39mrequest(method\u001b[38;5;241m=\u001b[39mmethod, url\u001b[38;5;241m=\u001b[39murl, \u001b[38;5;241m*\u001b[39m\u001b[38;5;241m*\u001b[39mkwargs)\n",
      "File \u001b[1;32m~\\anaconda3\\lib\\site-packages\\requests\\sessions.py:528\u001b[0m, in \u001b[0;36mSession.request\u001b[1;34m(self, method, url, params, data, headers, cookies, files, auth, timeout, allow_redirects, proxies, hooks, stream, verify, cert, json)\u001b[0m\n\u001b[0;32m    515\u001b[0m \u001b[38;5;66;03m# Create the Request.\u001b[39;00m\n\u001b[0;32m    516\u001b[0m req \u001b[38;5;241m=\u001b[39m Request(\n\u001b[0;32m    517\u001b[0m     method\u001b[38;5;241m=\u001b[39mmethod\u001b[38;5;241m.\u001b[39mupper(),\n\u001b[0;32m    518\u001b[0m     url\u001b[38;5;241m=\u001b[39murl,\n\u001b[1;32m   (...)\u001b[0m\n\u001b[0;32m    526\u001b[0m     hooks\u001b[38;5;241m=\u001b[39mhooks,\n\u001b[0;32m    527\u001b[0m )\n\u001b[1;32m--> 528\u001b[0m prep \u001b[38;5;241m=\u001b[39m \u001b[38;5;28;43mself\u001b[39;49m\u001b[38;5;241;43m.\u001b[39;49m\u001b[43mprepare_request\u001b[49m\u001b[43m(\u001b[49m\u001b[43mreq\u001b[49m\u001b[43m)\u001b[49m\n\u001b[0;32m    530\u001b[0m proxies \u001b[38;5;241m=\u001b[39m proxies \u001b[38;5;129;01mor\u001b[39;00m {}\n\u001b[0;32m    532\u001b[0m settings \u001b[38;5;241m=\u001b[39m \u001b[38;5;28mself\u001b[39m\u001b[38;5;241m.\u001b[39mmerge_environment_settings(\n\u001b[0;32m    533\u001b[0m     prep\u001b[38;5;241m.\u001b[39murl, proxies, stream, verify, cert\n\u001b[0;32m    534\u001b[0m )\n",
      "File \u001b[1;32m~\\anaconda3\\lib\\site-packages\\requests\\sessions.py:456\u001b[0m, in \u001b[0;36mSession.prepare_request\u001b[1;34m(self, request)\u001b[0m\n\u001b[0;32m    453\u001b[0m     auth \u001b[38;5;241m=\u001b[39m get_netrc_auth(request\u001b[38;5;241m.\u001b[39murl)\n\u001b[0;32m    455\u001b[0m p \u001b[38;5;241m=\u001b[39m PreparedRequest()\n\u001b[1;32m--> 456\u001b[0m \u001b[43mp\u001b[49m\u001b[38;5;241;43m.\u001b[39;49m\u001b[43mprepare\u001b[49m\u001b[43m(\u001b[49m\n\u001b[0;32m    457\u001b[0m \u001b[43m    \u001b[49m\u001b[43mmethod\u001b[49m\u001b[38;5;241;43m=\u001b[39;49m\u001b[43mrequest\u001b[49m\u001b[38;5;241;43m.\u001b[39;49m\u001b[43mmethod\u001b[49m\u001b[38;5;241;43m.\u001b[39;49m\u001b[43mupper\u001b[49m\u001b[43m(\u001b[49m\u001b[43m)\u001b[49m\u001b[43m,\u001b[49m\n\u001b[0;32m    458\u001b[0m \u001b[43m    \u001b[49m\u001b[43murl\u001b[49m\u001b[38;5;241;43m=\u001b[39;49m\u001b[43mrequest\u001b[49m\u001b[38;5;241;43m.\u001b[39;49m\u001b[43murl\u001b[49m\u001b[43m,\u001b[49m\n\u001b[0;32m    459\u001b[0m \u001b[43m    \u001b[49m\u001b[43mfiles\u001b[49m\u001b[38;5;241;43m=\u001b[39;49m\u001b[43mrequest\u001b[49m\u001b[38;5;241;43m.\u001b[39;49m\u001b[43mfiles\u001b[49m\u001b[43m,\u001b[49m\n\u001b[0;32m    460\u001b[0m \u001b[43m    \u001b[49m\u001b[43mdata\u001b[49m\u001b[38;5;241;43m=\u001b[39;49m\u001b[43mrequest\u001b[49m\u001b[38;5;241;43m.\u001b[39;49m\u001b[43mdata\u001b[49m\u001b[43m,\u001b[49m\n\u001b[0;32m    461\u001b[0m \u001b[43m    \u001b[49m\u001b[43mjson\u001b[49m\u001b[38;5;241;43m=\u001b[39;49m\u001b[43mrequest\u001b[49m\u001b[38;5;241;43m.\u001b[39;49m\u001b[43mjson\u001b[49m\u001b[43m,\u001b[49m\n\u001b[0;32m    462\u001b[0m \u001b[43m    \u001b[49m\u001b[43mheaders\u001b[49m\u001b[38;5;241;43m=\u001b[39;49m\u001b[43mmerge_setting\u001b[49m\u001b[43m(\u001b[49m\u001b[43mrequest\u001b[49m\u001b[38;5;241;43m.\u001b[39;49m\u001b[43mheaders\u001b[49m\u001b[43m,\u001b[49m\u001b[43m \u001b[49m\u001b[38;5;28;43mself\u001b[39;49m\u001b[38;5;241;43m.\u001b[39;49m\u001b[43mheaders\u001b[49m\u001b[43m,\u001b[49m\u001b[43m \u001b[49m\u001b[43mdict_class\u001b[49m\u001b[38;5;241;43m=\u001b[39;49m\u001b[43mCaseInsensitiveDict\u001b[49m\u001b[43m)\u001b[49m\u001b[43m,\u001b[49m\n\u001b[0;32m    463\u001b[0m \u001b[43m    \u001b[49m\u001b[43mparams\u001b[49m\u001b[38;5;241;43m=\u001b[39;49m\u001b[43mmerge_setting\u001b[49m\u001b[43m(\u001b[49m\u001b[43mrequest\u001b[49m\u001b[38;5;241;43m.\u001b[39;49m\u001b[43mparams\u001b[49m\u001b[43m,\u001b[49m\u001b[43m \u001b[49m\u001b[38;5;28;43mself\u001b[39;49m\u001b[38;5;241;43m.\u001b[39;49m\u001b[43mparams\u001b[49m\u001b[43m)\u001b[49m\u001b[43m,\u001b[49m\n\u001b[0;32m    464\u001b[0m \u001b[43m    \u001b[49m\u001b[43mauth\u001b[49m\u001b[38;5;241;43m=\u001b[39;49m\u001b[43mmerge_setting\u001b[49m\u001b[43m(\u001b[49m\u001b[43mauth\u001b[49m\u001b[43m,\u001b[49m\u001b[43m \u001b[49m\u001b[38;5;28;43mself\u001b[39;49m\u001b[38;5;241;43m.\u001b[39;49m\u001b[43mauth\u001b[49m\u001b[43m)\u001b[49m\u001b[43m,\u001b[49m\n\u001b[0;32m    465\u001b[0m \u001b[43m    \u001b[49m\u001b[43mcookies\u001b[49m\u001b[38;5;241;43m=\u001b[39;49m\u001b[43mmerged_cookies\u001b[49m\u001b[43m,\u001b[49m\n\u001b[0;32m    466\u001b[0m \u001b[43m    \u001b[49m\u001b[43mhooks\u001b[49m\u001b[38;5;241;43m=\u001b[39;49m\u001b[43mmerge_hooks\u001b[49m\u001b[43m(\u001b[49m\u001b[43mrequest\u001b[49m\u001b[38;5;241;43m.\u001b[39;49m\u001b[43mhooks\u001b[49m\u001b[43m,\u001b[49m\u001b[43m \u001b[49m\u001b[38;5;28;43mself\u001b[39;49m\u001b[38;5;241;43m.\u001b[39;49m\u001b[43mhooks\u001b[49m\u001b[43m)\u001b[49m\u001b[43m,\u001b[49m\n\u001b[0;32m    467\u001b[0m \u001b[43m\u001b[49m\u001b[43m)\u001b[49m\n\u001b[0;32m    468\u001b[0m \u001b[38;5;28;01mreturn\u001b[39;00m p\n",
      "File \u001b[1;32m~\\anaconda3\\lib\\site-packages\\requests\\models.py:316\u001b[0m, in \u001b[0;36mPreparedRequest.prepare\u001b[1;34m(self, method, url, headers, files, data, params, auth, cookies, hooks, json)\u001b[0m\n\u001b[0;32m    313\u001b[0m \u001b[38;5;124;03m\"\"\"Prepares the entire request with the given parameters.\"\"\"\u001b[39;00m\n\u001b[0;32m    315\u001b[0m \u001b[38;5;28mself\u001b[39m\u001b[38;5;241m.\u001b[39mprepare_method(method)\n\u001b[1;32m--> 316\u001b[0m \u001b[38;5;28;43mself\u001b[39;49m\u001b[38;5;241;43m.\u001b[39;49m\u001b[43mprepare_url\u001b[49m\u001b[43m(\u001b[49m\u001b[43murl\u001b[49m\u001b[43m,\u001b[49m\u001b[43m \u001b[49m\u001b[43mparams\u001b[49m\u001b[43m)\u001b[49m\n\u001b[0;32m    317\u001b[0m \u001b[38;5;28mself\u001b[39m\u001b[38;5;241m.\u001b[39mprepare_headers(headers)\n\u001b[0;32m    318\u001b[0m \u001b[38;5;28mself\u001b[39m\u001b[38;5;241m.\u001b[39mprepare_cookies(cookies)\n",
      "File \u001b[1;32m~\\anaconda3\\lib\\site-packages\\requests\\models.py:390\u001b[0m, in \u001b[0;36mPreparedRequest.prepare_url\u001b[1;34m(self, url, params)\u001b[0m\n\u001b[0;32m    387\u001b[0m     error \u001b[38;5;241m=\u001b[39m (\u001b[38;5;124m\"\u001b[39m\u001b[38;5;124mInvalid URL \u001b[39m\u001b[38;5;132;01m{0!r}\u001b[39;00m\u001b[38;5;124m: No schema supplied. Perhaps you meant http://\u001b[39m\u001b[38;5;132;01m{0}\u001b[39;00m\u001b[38;5;124m?\u001b[39m\u001b[38;5;124m\"\u001b[39m)\n\u001b[0;32m    388\u001b[0m     error \u001b[38;5;241m=\u001b[39m error\u001b[38;5;241m.\u001b[39mformat(to_native_string(url, \u001b[38;5;124m'\u001b[39m\u001b[38;5;124mutf8\u001b[39m\u001b[38;5;124m'\u001b[39m))\n\u001b[1;32m--> 390\u001b[0m     \u001b[38;5;28;01mraise\u001b[39;00m MissingSchema(error)\n\u001b[0;32m    392\u001b[0m \u001b[38;5;28;01mif\u001b[39;00m \u001b[38;5;129;01mnot\u001b[39;00m host:\n\u001b[0;32m    393\u001b[0m     \u001b[38;5;28;01mraise\u001b[39;00m InvalidURL(\u001b[38;5;124m\"\u001b[39m\u001b[38;5;124mInvalid URL \u001b[39m\u001b[38;5;132;01m%r\u001b[39;00m\u001b[38;5;124m: No host supplied\u001b[39m\u001b[38;5;124m\"\u001b[39m \u001b[38;5;241m%\u001b[39m url)\n",
      "\u001b[1;31mMissingSchema\u001b[0m: Invalid URL '-f': No schema supplied. Perhaps you meant http://-f?"
     ]
    }
   ],
   "source": [
    "import requests\n",
    "import os\n",
    "from sys import argv\n",
    "\n",
    "def download(url, local_filename):\n",
    "    r = requests.get(url, stream=True)\n",
    "    with open(os.getcwd()+\"/\"+local_filename, 'wb') as f:\n",
    "        for chunk in r.iter_content(1024):\n",
    "            if chunk:\n",
    "                f.write(chunk)\n",
    "                f.flush()\n",
    "    return local_filename\n",
    "\n",
    "def main():\n",
    "    url = argv[1]\n",
    "    r = requests.get(url, params={'__a': 1})\n",
    "    if (\n",
    "        (r.headers['content-type'] != 'application/json') or\n",
    "        (not 'graphql' in r.json())\n",
    "    ):\n",
    "        raise Exception('Wrong link')\n",
    "\n",
    "    media = r.json()['graphql']['shortcode_media']\n",
    "    if media['is_video']:\n",
    "        print('Saved as ' + download(media['video_url'],\n",
    "                                     media['shortcode'] + '.mp4') + '!')\n",
    "    else:\n",
    "        if media.get('edge_sidecar_to_children',None):\n",
    "            print('Downloading mutiple images of this post')\n",
    "            for child_node in media['edge_sidecar_to_children']['edges']:\n",
    "                print('Saved as ' + download(child_node['node']['display_url'],\n",
    "                                             child_node['node']['shortcode'] + '.jpg') + '!')\n",
    "        else:\n",
    "            print('Saved as ' + download(media['display_url'],\n",
    "                                         media['shortcode'] + '.jpg') + '!')\n",
    "\n",
    "if __name__ == '__main__':\n",
    "    arg = [\"https://www.instagram.com/p/CmztKshIBci/\", \"POST_TEST\"]\n",
    "    if len(arg) == 2:\n",
    "        main()\n",
    "    else:\n",
    "        print('Usage: instagram-downloader.py link_to_photo')"
   ]
  },
  {
   "cell_type": "code",
   "execution_count": 9,
   "id": "f03e9c1a",
   "metadata": {},
   "outputs": [
    {
     "name": "stdout",
     "output_type": "stream",
     "text": [
      "Usage: instagram-downloader.py link_to_photo\n"
     ]
    }
   ],
   "source": [
    "#!/usr/bin/python3\n",
    "import requests\n",
    "import os\n",
    "from sys import argv\n",
    "\n",
    "def download(url, local_filename):\n",
    "    r = requests.get(url, stream=True)\n",
    "    with open(os.getcwd()+\"/\"+local_filename, 'wb') as f:\n",
    "        for chunk in r.iter_content(1024):\n",
    "            if chunk:\n",
    "                f.write(chunk)\n",
    "                f.flush()\n",
    "    return local_filename\n",
    "\n",
    "def main():\n",
    "    url = argv[1]\n",
    "    r = requests.get(url, params={'__a': 1})\n",
    "    if (\n",
    "        (r.headers['content-type'] != 'application/json') or\n",
    "        (not 'graphql' in r.json())\n",
    "    ):\n",
    "        raise Exception('Wrong link')\n",
    "\n",
    "    media = r.json()['graphql']['shortcode_media']\n",
    "    if media['is_video']:\n",
    "        print('Saved as ' + download(media['video_url'],\n",
    "                                     media['shortcode'] + '.mp4') + '!')\n",
    "    else:\n",
    "        if media.get('edge_sidecar_to_children',None):\n",
    "            print('Downloading mutiple images of this post')\n",
    "            for child_node in media['edge_sidecar_to_children']['edges']:\n",
    "                print('Saved as ' + download(child_node['node']['display_url'],\n",
    "                                             child_node['node']['shortcode'] + '.jpg') + '!')\n",
    "        else:\n",
    "            print('Saved as ' + download(media['display_url'],\n",
    "                                         media['shortcode'] + '.jpg') + '!')\n",
    "\n",
    "if __name__ == '__main__':\n",
    "    if len(argv) == 2:\n",
    "        main()\n",
    "    else:\n",
    "        print('Usage: instagram-downloader.py link_to_photo')"
   ]
  },
  {
   "cell_type": "code",
   "execution_count": 10,
   "id": "f92abf99",
   "metadata": {},
   "outputs": [
    {
     "name": "stderr",
     "output_type": "stream",
     "text": [
      "'wget' is not recognized as an internal or external command,\n",
      "operable program or batch file.\n",
      "chmod: cannot access 'instagram-downloader.py': No such file or directory\n",
      "'.' is not recognized as an internal or external command,\n",
      "operable program or batch file.\n"
     ]
    }
   ],
   "source": [
    "!wget 'https://raw.githubusercontent.com/vitalyavolyn/instagram-downloader/master/instagram-downloader.py'\n",
    "!chmod +x instagram-downloader.py\n",
    "!./instagram-downloader.py https://instagram.com/p/BRdwSlFg1QX/"
   ]
  },
  {
   "cell_type": "code",
   "execution_count": 16,
   "id": "7aa181e2",
   "metadata": {},
   "outputs": [
    {
     "name": "stderr",
     "output_type": "stream",
     "text": [
      "Traceback (most recent call last):\n",
      "  File \"C:\\Users\\akhil\\OneDrive\\Desktop\\insta_test.py\", line 40, in <module>\n",
      "    main()\n",
      "  File \"C:\\Users\\akhil\\OneDrive\\Desktop\\insta_test.py\", line 22, in main\n",
      "    raise Exception('Wrong link')\n",
      "Exception: Wrong link\n"
     ]
    }
   ],
   "source": [
    "!python insta_test.py https://www.instagram.com/p/CnG4RsVIiu7/"
   ]
  },
  {
   "cell_type": "code",
   "execution_count": 13,
   "id": "2054c31f",
   "metadata": {},
   "outputs": [],
   "source": [
    "import os\n",
    " \n",
    "os.chdir(r\"C:\\\\Users\\\\akhil\\\\OneDrive\\\\Desktop\")"
   ]
  },
  {
   "cell_type": "code",
   "execution_count": 32,
   "id": "6699432e",
   "metadata": {},
   "outputs": [
    {
     "name": "stderr",
     "output_type": "stream",
     "text": [
      "C:\\Users\\akhil\\AppData\\Local\\Temp\\ipykernel_24944\\305698512.py:14: DeprecationWarning: executable_path has been deprecated, please pass in a Service object\n",
      "  driver=webdriver.Chrome(ChromeDriverManager().install())\n"
     ]
    },
    {
     "name": "stdout",
     "output_type": "stream",
     "text": [
      "_______________________________________________________\n",
      "driver:  [<input aria-required=\"true\" class=\"form-control\" id=\"instagramdownloaderform-search\" name=\"InstagramDownloaderForm[search]\" type=\"text\"/>, <input class=\"form-control\" id=\"instagramdownloaderform-recaptcha\" name=\"InstagramDownloaderForm[reCaptcha]\" type=\"hidden\"/>]\n"
     ]
    },
    {
     "ename": "AttributeError",
     "evalue": "ResultSet object has no attribute 'send_keys'. You're probably treating a list of elements like a single element. Did you call find_all() when you meant to call find()?",
     "output_type": "error",
     "traceback": [
      "\u001b[1;31m---------------------------------------------------------------------------\u001b[0m",
      "\u001b[1;31mAttributeError\u001b[0m                            Traceback (most recent call last)",
      "Input \u001b[1;32mIn [32]\u001b[0m, in \u001b[0;36m<cell line: 25>\u001b[1;34m()\u001b[0m\n\u001b[0;32m     23\u001b[0m temp \u001b[38;5;241m=\u001b[39m data\u001b[38;5;241m.\u001b[39mfind_all(\u001b[38;5;124m\"\u001b[39m\u001b[38;5;124minput\u001b[39m\u001b[38;5;124m\"\u001b[39m,{\u001b[38;5;124m\"\u001b[39m\u001b[38;5;124mclass\u001b[39m\u001b[38;5;124m\"\u001b[39m:\u001b[38;5;124m\"\u001b[39m\u001b[38;5;124mform-control\u001b[39m\u001b[38;5;124m\"\u001b[39m})\n\u001b[0;32m     24\u001b[0m \u001b[38;5;28mprint\u001b[39m(\u001b[38;5;124m\"\u001b[39m\u001b[38;5;124mdriver: \u001b[39m\u001b[38;5;124m\"\u001b[39m, temp)\n\u001b[1;32m---> 25\u001b[0m \u001b[43mtemp\u001b[49m\u001b[38;5;241;43m.\u001b[39;49m\u001b[43msend_keys\u001b[49m(\u001b[38;5;124m'\u001b[39m\u001b[38;5;124mhttps://www.instagram.com/p/CnG4RsVIiu7/\u001b[39m\u001b[38;5;124m'\u001b[39m)\n\u001b[0;32m     26\u001b[0m temp\u001b[38;5;241m.\u001b[39msend_keys(Keys\u001b[38;5;241m.\u001b[39mENTER)\n",
      "File \u001b[1;32m~\\anaconda3\\lib\\site-packages\\bs4\\element.py:2173\u001b[0m, in \u001b[0;36mResultSet.__getattr__\u001b[1;34m(self, key)\u001b[0m\n\u001b[0;32m   2171\u001b[0m \u001b[38;5;28;01mdef\u001b[39;00m \u001b[38;5;21m__getattr__\u001b[39m(\u001b[38;5;28mself\u001b[39m, key):\n\u001b[0;32m   2172\u001b[0m     \u001b[38;5;124;03m\"\"\"Raise a helpful exception to explain a common code fix.\"\"\"\u001b[39;00m\n\u001b[1;32m-> 2173\u001b[0m     \u001b[38;5;28;01mraise\u001b[39;00m \u001b[38;5;167;01mAttributeError\u001b[39;00m(\n\u001b[0;32m   2174\u001b[0m         \u001b[38;5;124m\"\u001b[39m\u001b[38;5;124mResultSet object has no attribute \u001b[39m\u001b[38;5;124m'\u001b[39m\u001b[38;5;132;01m%s\u001b[39;00m\u001b[38;5;124m'\u001b[39m\u001b[38;5;124m. You\u001b[39m\u001b[38;5;124m'\u001b[39m\u001b[38;5;124mre probably treating a list of elements like a single element. Did you call find_all() when you meant to call find()?\u001b[39m\u001b[38;5;124m\"\u001b[39m \u001b[38;5;241m%\u001b[39m key\n\u001b[0;32m   2175\u001b[0m     )\n",
      "\u001b[1;31mAttributeError\u001b[0m: ResultSet object has no attribute 'send_keys'. You're probably treating a list of elements like a single element. Did you call find_all() when you meant to call find()?"
     ]
    }
   ],
   "source": [
    "from selenium import webdriver\n",
    "from selenium.webdriver.common.by import By\n",
    "from selenium.webdriver.support.ui import WebDriverWait\n",
    "from selenium.webdriver.support import expected_conditions as EC \n",
    "import time\n",
    "from webdriver_manager.chrome import ChromeDriverManager\n",
    "import re\n",
    "from bs4 import BeautifulSoup\n",
    "import urllib\n",
    "from selenium.webdriver.common.keys import Keys\n",
    "\n",
    "\n",
    "\n",
    "driver=webdriver.Chrome(ChromeDriverManager().install())\n",
    "driver.get(\"https://toolzu.com/downloader/instagram/video/\")\n",
    "#driver.maximize_window()\n",
    "#element = WebDriverWait(driver, 10).until(EC.presence_of_element_located((By.CLASS_NAME, \"tbl-feed-header-text\")))\n",
    "page_source = driver.page_source\n",
    "data = BeautifulSoup(page_source, 'lxml')\n",
    "print(\"_______________________________________________________\")\n",
    "#print(data)\n",
    "#login_form = driver.find_element(\"id\",\"url\") #driver.find_element(By.ID, 'url')\n",
    "temp = data.find_all(\"input\",{\"class\":\"form-control\"})\n",
    "print(\"driver: \", temp)\n",
    "temp.send_keys('https://www.instagram.com/p/CnG4RsVIiu7/')\n",
    "temp.send_keys(Keys.ENTER)\n",
    "#driver.find_element_by_name(\"formurl\").send_keys(Keys.RETURN)\n",
    "\n",
    "#"
   ]
  },
  {
   "cell_type": "code",
   "execution_count": null,
   "id": "30099897",
   "metadata": {},
   "outputs": [],
   "source": [
    "login_form = driver.find_element(\"id\",\"url\") #driver.find_element(By.ID, 'url')\n",
    "temp = data.find_all(\"input\",{\"class\":\"form-control\"})\n",
    "print(\"driver: \", temp)"
   ]
  },
  {
   "cell_type": "code",
   "execution_count": 60,
   "id": "b41edc1e",
   "metadata": {},
   "outputs": [
    {
     "name": "stderr",
     "output_type": "stream",
     "text": [
      "C:\\Users\\akhil\\AppData\\Local\\Temp\\ipykernel_24944\\1107603467.py:15: DeprecationWarning: executable_path has been deprecated, please pass in a Service object\n",
      "  driver=webdriver.Chrome(ChromeDriverManager().install())\n"
     ]
    },
    {
     "name": "stdout",
     "output_type": "stream",
     "text": [
      "scrolled\n",
      "ucedd\n",
      "[<div class=\"bg-light instagram-downloader-results\" id=\"ajax-results\"></div>]\n"
     ]
    }
   ],
   "source": [
    "from selenium import webdriver\n",
    "from selenium.webdriver.common.by import By\n",
    "from selenium.webdriver.support.ui import WebDriverWait\n",
    "from selenium.webdriver.support import expected_conditions as EC \n",
    "import time\n",
    "from webdriver_manager.chrome import ChromeDriverManager\n",
    "import re\n",
    "from bs4 import BeautifulSoup\n",
    "import urllib\n",
    "from selenium.webdriver.common.keys import Keys\n",
    "import requests \n",
    "\n",
    "\n",
    "\n",
    "driver=webdriver.Chrome(ChromeDriverManager().install())\n",
    "driver.get('https://toolzu.com/downloader/instagram/video/')\n",
    "text_area = driver.find_element(By.ID, \"instagramdownloaderform-search\")\n",
    "text_area.send_keys(\"https://www.instagram.com/p/CnG4RsVIiu7/\")\n",
    "text_area.send_keys(Keys.ENTER)\n",
    "\n",
    "\n",
    "driver.execute_script(\"window.scrollBy(0,500)\",\"\")\n",
    "print(\"scrolled\")#container space-top-2\n",
    "print(\"ucedd\")\n",
    "page_source1 = driver.page_source\n",
    "data = BeautifulSoup(page_source1, 'lxml')\n",
    "#print(data)\n",
    "content = driver.execute_script(\"return document.getElementsByTagName('html')[0].innerHTML\")\n",
    "mydivs = data.find_all(\"div\", {\"class\": \"bg-light instagram-downloader-results\"})\n",
    "print(mydivs)"
   ]
  },
  {
   "cell_type": "code",
   "execution_count": 59,
   "id": "c7ba9e46",
   "metadata": {},
   "outputs": [
    {
     "name": "stdout",
     "output_type": "stream",
     "text": [
      "[<div class=\"bg-light instagram-downloader-results\" id=\"ajax-results\"></div>]\n"
     ]
    }
   ],
   "source": [
    "driver.get('https://toolzu.com/downloader/instagram/video/')\n",
    "mydivs = data.find_all(\"div\", {\"class\": \"bg-light instagram-downloader-results\"})\n",
    "print(mydivs)"
   ]
  },
  {
   "cell_type": "code",
   "execution_count": 61,
   "id": "612777d5",
   "metadata": {},
   "outputs": [
    {
     "data": {
      "text/plain": [
       "'<head>\\n    <title>Video Downloader for Instagram — Save Videos For Free</title>\\n    <meta charset=\"UTF-8\">\\n    <meta http-equiv=\"X-UA-Compatible\" content=\"IE=edge\">\\n    <meta name=\"viewport\" content=\"width=device-width, initial-scale=1, shrink-to-fit=no\">\\n          <!-- Google tag (gtag.js) -->\\n      <script type=\"text/javascript\" async=\"\" src=\"https://www.gstatic.com/recaptcha/releases/3C26as6M4VSToERvXebyPDu8/recaptcha__en.js\" crossorigin=\"anonymous\" integrity=\"sha384-WxTJI2b6J3+UVuI74Mcs10bZgnQaCfRQQhkmXmTcByEmeFvsjT5KVH3ZQ1jctWjX\"></script><script src=\"//www.google.com/recaptcha/api.js?render=6LfVYaYUAAAAAD3jLXKKj0wkbokonLGDLlMlrUAq&amp;onload=onloadRecaptchaCallbackwegkf79825\"></script><script src=\"https://pagead2.googlesyndication.com/pagead/managed/js/adsense/m202212010101/reactive_library_fy2021.js\"></script><script src=\"https://rules.quantcount.com/rules-p-y4_4efpWXK0jR.js\" async=\"\"></script><script src=\"https://partner.googleadservices.com/gampad/cookie.js?domain=toolzu.com&amp;callback=_gfp_s_&amp;client=ca-pub-6494255769646459&amp;gpid_exp=1\"></script><script src=\"https://secure.quantserve.com/quant.js\" async=\"\" type=\"text/javascript\"></script><script async=\"\" type=\"text/javascript\" src=\"https://quantcast.mgr.consensu.org/tcfv2/cmp2.js?referer=toolzu.com\"></script><script src=\"https://pagead2.googlesyndication.com/pagead/managed/js/adsense/m202212010101/show_ads_impl_fy2021.js\" id=\"google_shimpl\"></script><script type=\"text/javascript\" async=\"\" src=\"https://www.google-analytics.com/analytics.js\"></script><script async=\"\" type=\"text/javascript\" src=\"https://quantcast.mgr.consensu.org/choice/y4_4efpWXK0jR/toolzu.com/choice.js\"></script><script async=\"\" src=\"https://www.googletagmanager.com/gtag/js?id=UA-159174116-1\"></script>\\n      <script>\\n        window.dataLayer = window.dataLayer || [];\\n        function gtag(){dataLayer.push(arguments);}\\n        gtag(\\'js\\', new Date());\\n\\n        gtag(\\'config\\', \\'UA-159174116-1\\');\\n      </script>\\n    \\n    <meta name=\"csrf-param\" content=\"_csrf\">\\n<meta name=\"csrf-token\" content=\"IRTGmcwsAuUpLWS6IXY8N0JFmqReQov-5T0ceagUqb1EW5DQoGhFjnMYA99UN3VtJxTg_mkj-YuwS0sLnU3qxA==\">\\n    <link rel=\"preload\" href=\"/theme/vendor/font-awesome/webfonts/poppins/fa-poppins-300.woff2\" as=\"font\" type=\"font/woff2\" crossorigin=\"\">\\n    <link rel=\"preload\" href=\"/theme/vendor/font-awesome/webfonts/poppins/fa-poppins-400.woff2\" as=\"font\" type=\"font/woff2\" crossorigin=\"\">\\n    <link rel=\"preload\" href=\"/theme/vendor/font-awesome/webfonts/poppins/fa-poppins-500.woff2\" as=\"font\" type=\"font/woff2\" crossorigin=\"\">\\n    <link rel=\"preload\" href=\"/theme/vendor/font-awesome/webfonts/poppins/fa-poppins-600.woff2\" as=\"font\" type=\"font/woff2\" crossorigin=\"\">\\n    <link rel=\"preload\" href=\"/theme/vendor/font-awesome/webfonts/poppins/fa-poppins-700.woff2\" as=\"font\" type=\"font/woff2\" crossorigin=\"\">\\n    <link rel=\"preload\" href=\"/theme/vendor/font-awesome/webfonts/fa-brands-400.woff2\" as=\"font\" type=\"font/woff2\" crossorigin=\"\">\\n    <link rel=\"preload\" href=\"/theme/vendor/font-awesome/webfonts/fa-solid-900.woff2\" as=\"font\" type=\"font/woff2\" crossorigin=\"\">\\n    <link rel=\"apple-touch-icon\" sizes=\"180x180\" href=\"/apple-touch-icon.png\">\\n    <link rel=\"icon\" type=\"image/png\" sizes=\"32x32\" href=\"/favicon-32x32.png\">\\n    <link rel=\"icon\" type=\"image/png\" sizes=\"16x16\" href=\"/favicon-16x16.png\">\\n    <link rel=\"manifest\" href=\"/site.webmanifest\">\\n    <link rel=\"mask-icon\" href=\"/safari-pinned-tab.svg\" color=\"#5bbad5\">\\n    <meta name=\"msapplication-TileColor\" content=\"#da532c\">\\n    <meta name=\"theme-color\" content=\"#ffffff\">\\n    \\n                  <link rel=\"alternate\" hreflang=\"de\" href=\"https://toolzu.com/de/downloader/instagram/video/\">\\n              <link rel=\"alternate\" hreflang=\"en\" href=\"https://toolzu.com/downloader/instagram/video/\">\\n          \\n            <script async=\"\" src=\"https://pagead2.googlesyndication.com/pagead/js/adsbygoogle.js?client=ca-pub-6494255769646459\" crossorigin=\"anonymous\" data-checked-head=\"true\"></script>\\n  <!-- Quantcast Choice. Consent Manager Tag v2.0 (for TCF 2.0) -->\\n  <script type=\"text/javascript\" async=\"true\">\\n    (function() {\\n      var host = window.location.hostname;\\n      var element = document.createElement(\\'script\\');\\n      var firstScript = document.getElementsByTagName(\\'script\\')[0];\\n      var url = \\'https://quantcast.mgr.consensu.org\\'\\n        .concat(\\'/choice/\\', \\'y4_4efpWXK0jR\\', \\'/\\', host, \\'/choice.js\\')\\n      var uspTries = 0;\\n      var uspTriesLimit = 3;\\n      element.async = true;\\n      element.type = \\'text/javascript\\';\\n      element.src = url;\\n\\n      firstScript.parentNode.insertBefore(element, firstScript);\\n\\n      function makeStub() {\\n        var TCF_LOCATOR_NAME = \\'__tcfapiLocator\\';\\n        var queue = [];\\n        var win = window;\\n        var cmpFrame;\\n\\n        function addFrame() {\\n          var doc = win.document;\\n          var otherCMP = !!(win.frames[TCF_LOCATOR_NAME]);\\n\\n          if (!otherCMP) {\\n            if (doc.body) {\\n              var iframe = doc.createElement(\\'iframe\\');\\n\\n              iframe.style.cssText = \\'display:none\\';\\n              iframe.name = TCF_LOCATOR_NAME;\\n              doc.body.appendChild(iframe);\\n            } else {\\n              setTimeout(addFrame, 5);\\n            }\\n          }\\n          return !otherCMP;\\n        }\\n\\n        function tcfAPIHandler() {\\n          var gdprApplies;\\n          var args = arguments;\\n\\n          if (!args.length) {\\n            return queue;\\n          } else if (args[0] === \\'setGdprApplies\\') {\\n            if (\\n              args.length > 3 &&\\n              args[2] === 2 &&\\n              typeof args[3] === \\'boolean\\'\\n            ) {\\n              gdprApplies = args[3];\\n              if (typeof args[2] === \\'function\\') {\\n                args[2](\\'set\\', true);\\n              }\\n            }\\n          } else if (args[0] === \\'ping\\') {\\n            var retr = {\\n              gdprApplies: gdprApplies,\\n              cmpLoaded: false,\\n              cmpStatus: \\'stub\\'\\n            };\\n\\n            if (typeof args[2] === \\'function\\') {\\n              args[2](retr);\\n            }\\n          } else {\\n            queue.push(args);\\n          }\\n        }\\n\\n        function postMessageEventHandler(event) {\\n          var msgIsString = typeof event.data === \\'string\\';\\n          var json = {};\\n\\n          try {\\n            if (msgIsString) {\\n              json = JSON.parse(event.data);\\n            } else {\\n              json = event.data;\\n            }\\n          } catch (ignore) {}\\n\\n          var payload = json.__tcfapiCall;\\n\\n          if (payload) {\\n            window.__tcfapi(\\n              payload.command,\\n              payload.version,\\n              function(retValue, success) {\\n                var returnMsg = {\\n                  __tcfapiReturn: {\\n                    returnValue: retValue,\\n                    success: success,\\n                    callId: payload.callId\\n                  }\\n                };\\n                if (msgIsString) {\\n                  returnMsg = JSON.stringify(returnMsg);\\n                }\\n                if (event && event.source && event.source.postMessage) {\\n                  event.source.postMessage(returnMsg, \\'*\\');\\n                }\\n              },\\n              payload.parameter\\n            );\\n          }\\n        }\\n\\n        while (win) {\\n          try {\\n            if (win.frames[TCF_LOCATOR_NAME]) {\\n              cmpFrame = win;\\n              break;\\n            }\\n          } catch (ignore) {}\\n\\n          if (win === window.top) {\\n            break;\\n          }\\n          win = win.parent;\\n        }\\n        if (!cmpFrame) {\\n          addFrame();\\n          win.__tcfapi = tcfAPIHandler;\\n          win.addEventListener(\\'message\\', postMessageEventHandler, false);\\n        }\\n      };\\n\\n      makeStub();\\n\\n      var uspStubFunction = function() {\\n        var arg = arguments;\\n        if (typeof window.__uspapi !== uspStubFunction) {\\n          setTimeout(function() {\\n            if (typeof window.__uspapi !== \\'undefined\\') {\\n              window.__uspapi.apply(window.__uspapi, arg);\\n            }\\n          }, 500);\\n        }\\n      };\\n\\n      var checkIfUspIsReady = function() {\\n        uspTries++;\\n        if (window.__uspapi === uspStubFunction && uspTries < uspTriesLimit) {\\n          console.warn(\\'USP is not accessible\\');\\n        } else {\\n          clearInterval(uspInterval);\\n        }\\n      };\\n\\n      if (typeof window.__uspapi === \\'undefined\\') {\\n        window.__uspapi = uspStubFunction;\\n        var uspInterval = setInterval(checkIfUspIsReady, 6000);\\n      }\\n    })();\\n  </script>\\n  <!-- End Quantcast Choice. Consent Manager Tag v2.0 (for TCF 2.0) -->\\n\\n  <style>\\n      ins.adsbygoogle[data-ad-status=\"unfilled\"] {\\n          height: auto!important;\\n      }\\n      ins.adsbygoogle[data-ad-status=\"unfilled\"] .banners-block {\\n          display: block!important;\\n      }\\n      ins.adsbygoogle[data-ad-status=\"unfilled\"] > * {\\n          display: none!important;\\n      }\\n  </style>\\n        <meta name=\"description\" content=\"Download videos from Instagram easily.  High-resolution. No registration and fee.\">\\n<meta property=\"og:title\" content=\"Video Downloader for Instagram — Save Videos For Free\">\\n<meta name=\"og:description\" content=\"Download videos from Instagram easily.  High-resolution. No registration and fee.\">\\n<meta name=\"robots\" content=\"index, follow, max-snippet:-1, max-image-preview:large, max-video-preview:-1\">\\n<meta property=\"og:url\" content=\"https://toolzu.com/downloader/instagram/video/\">\\n<meta name=\"twitter:title\" content=\"Video Downloader for Instagram — Save Videos For Free\">\\n<meta name=\"twitter:description\" content=\"Download videos from Instagram easily.  High-resolution. No registration and fee.\">\\n<meta property=\"og:locale\" content=\"en\">\\n<meta property=\"og:type\" content=\"article\">\\n<meta property=\"og:site_name\" content=\"Toolzu\">\\n<meta property=\"og:image\" content=\"https://toolzu.com/apple-touch-icon.png\">\\n<meta property=\"og:image:width\" content=\"180\">\\n<meta property=\"og:image:height\" content=\"180\">\\n<meta name=\"twitter:card\" content=\"summary_large_image\">\\n<meta name=\"twitter:image\" content=\"https://toolzu.com/apple-touch-icon.png\">\\n<link href=\"https://toolzu.com/downloader/instagram/video/\" rel=\"canonical\">\\n<link href=\"/theme/vendor/font-awesome/css/fontawesome-all.min.css?v=1620927001\" rel=\"stylesheet\">\\n<link href=\"/theme/vendor/animate.css/animate.min.css?v=1582705136\" rel=\"stylesheet\">\\n<link href=\"/theme/vendor/hs-megamenu/src/hs.megamenu.min.css?v=1620927001\" rel=\"stylesheet\">\\n<link href=\"/theme/vendor/fancybox/jquery.fancybox.min.css?v=1582705136\" rel=\"stylesheet\">\\n<link href=\"/theme/vendor/slick-carousel/slick/slick.min.css?v=1620927001\" rel=\"stylesheet\">\\n<link href=\"/theme/vendor/cubeportfolio/css/cubeportfolio.min.css?v=1582705136\" rel=\"stylesheet\">\\n<link href=\"/theme/css/theme.min.css?v=1665733395\" rel=\"stylesheet\">\\n<link href=\"/assets/df5eb9b2/scss/app.css?v=1669017094\" rel=\"stylesheet\">\\n<link href=\"/assets/df5eb9b2/scss/instagram-downloader.css?v=1669017090\" rel=\"stylesheet\">\\n<link href=\"/assets/3f5b56a1/scss/captcha.css?v=1642675683\" rel=\"stylesheet\">\\n<script>window.dataLayer = window.dataLayer || []; dataLayer.push({\"expId\":\"AdsProviders1\",\"expVar\":2});</script>\\n<script type=\"application/ld+json\">{\"@context\":\"https://schema.org\",\"@type\":\"FAQPage\",\"mainEntity\":[{\"@type\":\"Question\",\"name\":\"What is a video downloader?\",\"acceptedAnswer\":{\"@type\":\"Answer\",\"text\":\"It is a modern, one-of-a-kind <b>Instagram video download</b> service, with which you can quickly save videos from IG in the highest quality possible. There is no need to register or pay for it. You can use it freely wherever you are, anytime.\"}},{\"@type\":\"Question\",\"name\":\"How to use video downloader online?\",\"acceptedAnswer\":{\"@type\":\"Answer\",\"text\":\"It is easy. It will take just 3 steps to save any video you want to any of your devices. Open a video on Instagram and copy its link. Paste the link to the input line on the <b>Instagram video downloader page</b> and click <b>Download</b>. Click <b>Download</b> once again to confirm the action. The download will start immediately. Now enjoy the video anytime.\"}},{\"@type\":\"Question\",\"name\":\"Is it a Free video downloader?\",\"acceptedAnswer\":{\"@type\":\"Answer\",\"text\":\"Yes, you can download Instagram videos for free. Save for a Starbucks coffee with us — saving an unlimited number of videos will cost you nothing.\"}},{\"@type\":\"Question\",\"name\":\"Is using IG video downloader legal?\",\"acceptedAnswer\":{\"@type\":\"Answer\",\"text\":\"Yes. We are 100% safe and legal. But the way you use this video matters. If it’s for your personal use, it’s OK. But you can\\'t broadcast it for gaining income. Otherwise, you are to ask the author and mention him or her whenever you use this content.\"}},{\"@type\":\"Question\",\"name\":\"Does Insta downloader work on private accounts?\",\"acceptedAnswer\":{\"@type\":\"Answer\",\"text\":\"No. Unfortunately, downloading videos from private accounts is impossible, you can save content only from open, public accounts.\"}},{\"@type\":\"Question\",\"name\":\"Where can I find all saved Instagram videos?\",\"acceptedAnswer\":{\"@type\":\"Answer\",\"text\":\"You can find all saved videos in the <b>Downloads</b> folder on your PC (Windows, Mac, iOS). The same is for phone storages. Plus, saved videos will appear in your Gallery immediately.\"}}]}</script>\\n      <script src=\"https://cdnjs.cloudflare.com/ajax/libs/jquery-mousewheel/3.1.13/jquery.mousewheel.min.js\"></script><meta http-equiv=\"origin-trial\" content=\"Az6AfRvI8mo7yiW5fLfj04W21t0ig6aMsGYpIqMTaX60H+b0DkO1uDr+7BrzMcimWzv/X7SXR8jI+uvbV0IJlwYAAACFeyJvcmlnaW4iOiJodHRwczovL2RvdWJsZWNsaWNrLm5ldDo0NDMiLCJmZWF0dXJlIjoiUHJpdmFjeVNhbmRib3hBZHNBUElzIiwiZXhwaXJ5IjoxNjgwNjUyNzk5LCJpc1N1YmRvbWFpbiI6dHJ1ZSwiaXNUaGlyZFBhcnR5Ijp0cnVlfQ==\"><meta http-equiv=\"origin-trial\" content=\"A+USTya+tNvDPaxUgJooz+LaVk5hPoAxpLvSxjogX4Mk8awCTQ9iop6zJ9d5ldgU7WmHqBlnQB41LHHRFxoaBwoAAACLeyJvcmlnaW4iOiJodHRwczovL2dvb2dsZXN5bmRpY2F0aW9uLmNvbTo0NDMiLCJmZWF0dXJlIjoiUHJpdmFjeVNhbmRib3hBZHNBUElzIiwiZXhwaXJ5IjoxNjgwNjUyNzk5LCJpc1N1YmRvbWFpbiI6dHJ1ZSwiaXNUaGlyZFBhcnR5Ijp0cnVlfQ==\"><meta http-equiv=\"origin-trial\" content=\"A7FovoGr67TUBYbnY+Z0IKoJbbmRmB8fCyirUGHavNDtD91CiGyHHSA2hDG9r9T3NjUKFi6egL3RbgTwhhcVDwUAAACLeyJvcmlnaW4iOiJodHRwczovL2dvb2dsZXRhZ3NlcnZpY2VzLmNvbTo0NDMiLCJmZWF0dXJlIjoiUHJpdmFjeVNhbmRib3hBZHNBUElzIiwiZXhwaXJ5IjoxNjgwNjUyNzk5LCJpc1N1YmRvbWFpbiI6dHJ1ZSwiaXNUaGlyZFBhcnR5Ijp0cnVlfQ==\"><style type=\"text/css\"> .qc-cmp-button.qc-cmp-secondary-button:hover {    background-color: #368bd6 !important;    border-color: transparent !important;  }  .qc-cmp-button.qc-cmp-secondary-button:hover {    color: #ffffff !important;  }  .qc-cmp-button.qc-cmp-secondary-button {    color: #368bd6 !important;  }  .qc-cmp-button.qc-cmp-secondary-button {    background-color: #eee !important;    border-color: transparent !important;  } </style><link rel=\"preload\" href=\"https://adservice.google.com/adsid/integrator.js?domain=toolzu.com\" as=\"script\"><script type=\"text/javascript\" src=\"https://adservice.google.com/adsid/integrator.js?domain=toolzu.com\"></script><link rel=\"preload\" href=\"https://adservice.google.com/adsid/integrator.js?domain=toolzu.com\" as=\"script\"><script type=\"text/javascript\" src=\"https://adservice.google.com/adsid/integrator.js?domain=toolzu.com\"></script></head>\\n  <body aria-hidden=\"false\" style=\"padding: 0px 0px 154px;\">\\n  \\n  \\n\\n<!-- ========== HEADER ========== -->\\n<header id=\"header\" class=\"u-header u-scrolled\" data-header-fix-moment=\"500\" data-header-fix-effect=\"slide\">\\n\\n  <div class=\"u-header__section\">\\n    \\n    <div id=\"logoAndNav\" class=\"container\">\\n      <!-- Nav -->\\n      <nav class=\"js-mega-menu navbar navbar-expand-lg u-header__navbar u-header__navbar--no-space hs-menu-initialized hs-menu-horizontal\">\\n        <!-- Logo -->\\n        <a class=\"navbar-brand u-header__navbar-brand u-header__navbar-brand-center\" href=\"/\" aria-label=\"Toolzu\">\\n          <img src=\"/theme/svg/logos/logo-short.svg\" width=\"46px\" height=\"46px\" alt=\"short-logo\">          <span class=\"u-header__navbar-brand-text\">Toolzu</span>\\n        </a>\\n        <!-- End Logo -->\\n\\n        <!-- Responsive Toggle Button -->\\n        <button type=\"button\" class=\"navbar-toggler btn u-hamburger\" aria-label=\"Toggle navigation\" aria-expanded=\"false\" aria-controls=\"navBar\" data-toggle=\"collapse\" data-target=\"#navBar\">\\n          <span id=\"hamburgerTrigger\" class=\"u-hamburger__box\">\\n            <span class=\"u-hamburger__inner\"></span>\\n          </span>\\n        </button>\\n        <!-- End Responsive Toggle Button -->\\n\\n        <!-- Navigation -->\\n        <div id=\"navBar\" class=\"collapse navbar-collapse u-header__navbar-collapse\">\\n          <ul class=\"navbar-nav u-header__navbar-nav\">\\n            <!-- Services -->\\n            <li class=\"nav-item hs-has-mega-menu u-header__nav-item\" data-event=\"hover\" data-animation-in=\"slideInUp\" data-animation-out=\"fadeOut\" data-position=\"left\">\\n              <a id=\"homeMegaMenu\" class=\"nav-link u-header__nav-link u-header__nav-link-toggle\" href=\"javascript:;\" aria-haspopup=\"true\" aria-expanded=\"false\">Services</a>\\n\\n              <div class=\"hs-mega-menu w-100 u-header__sub-menu\" aria-labelledby=\"homeMegaMenu\" style=\"display: none;\">\\n                <div class=\"row no-gutters\">\\n                  <div class=\"col-lg-4\">\\n                    <!-- Banner Image -->\\n                    <div class=\"u-header__banner\" style=\"background-image: url(/theme/img/750x750/img1.jpg);\">\\n                      <div class=\"u-header__banner-content\">\\n                        <div class=\"mb-4\">\\n                          <span class=\"u-header__banner-title\">Hashtag Generator for Instagram</span>\\n                          <p class=\"u-header__banner-text\">Likes and Followers? Reach and Impressions? Money and Fame?</p>\\n                        </div>\\n                        <a class=\"btn btn-primary btn-sm transition-3d-hover\" href=\"/hashtag-generator-for-instagram/\"> Learn More <i class=\"ml-2 fas fa-angle-right\"></i></a>                      </div>\\n                    </div>\\n                    <!-- End Banner Image -->\\n                  </div>\\n\\n                  <div class=\"col-lg-8\">\\n                    <div class=\"row u-header__mega-menu-wrapper\">\\n                      <div class=\"col-sm-6 mb-3 mb-sm-0\">\\n                        <span class=\"u-header__sub-menu-title\">Hashtags </span>\\n                        <ul class=\"u-header__sub-menu-nav-group mb-3\">\\n                          <li>\\n                            <a class=\"nav-link u-header__sub-menu-nav-link\" href=\"/hashtag-generator-for-instagram/\"> Hashtag Generator</a>                          </li>\\n                          <li>\\n                            <a class=\"nav-link u-header__sub-menu-nav-link\" href=\"/top-instagram-hashtags/\"> Top Hashtags</a>                          </li>\\n                        </ul>\\n\\n                        <span class=\"u-header__sub-menu-title\">Profile Analyzer</span>\\n                        <ul class=\"u-header__sub-menu-nav-group mb-3\">\\n                          <li><a class=\"nav-link u-header__sub-menu-nav-link\" href=\"/profile-analyzer/instagram/\"> Analyze by Name</a></li>\\n                          <li><span class=\"nav-link u-header__sub-menu-nav-link disabled\">Fast Growing Users <span class=\"badge badge-warning badge-pill ml-1\">Soon</span></span></li>\\n                        </ul>\\n\\n                        <span class=\"u-header__sub-menu-title\">Profile Search</span>\\n                        <ul class=\"u-header__sub-menu-nav-group mb-3\">\\n                          <li><a class=\"nav-link u-header__sub-menu-nav-link\" href=\"/search-instagram-profiles/\"> Profiles catalog<span class=\"badge badge-success badge-pill ml-1\">New</span></a></li>\\n                        </ul>\\n                        <span class=\"u-header__sub-menu-title\">Profile Viewer</span>\\n                        <ul class=\"u-header__sub-menu-nav-group mb-3\">\\n                          <li><a class=\"nav-link u-header__sub-menu-nav-link\" href=\"/instagram-stalker/\"> Instagram stalker<span class=\"badge badge-success badge-pill ml-1\">New</span></a></li>\\n                          <li><a class=\"nav-link u-header__sub-menu-nav-link\" href=\"/instagram-story-viewer/\"> Instagram story viewer<span class=\"badge badge-success badge-pill ml-1\">New</span></a></li>\\n                        </ul>\\n                      </div>\\n                      <div class=\"col-sm-6\">\\n                        <span class=\"u-header__sub-menu-title\">Downloader</span>\\n                        <ul class=\"u-header__sub-menu-nav-group\">\\n                          <li>\\n                            <div class=\"position-relative\">\\n                              <span id=\"instagramDropdownInvoker\" class=\"nav-link u-header__sub-menu-nav-link d-flex align-items-center\">\\n                                 <!--<img class=\"dropdown-item-icon\" src=\"\" alt=\"SVG\">-->\\n                                <span class=\"d-sm-inline-block\">Instagram</span>\\n                              </span>\\n                                <div class=\"row\">\\n                                  <div class=\"col-xs-4 mb-sm-0\">\\n                                    <a class=\"dropdown-item\" href=\"/downloader/instagram/photo/\"> Photo</a>                                    <a class=\"dropdown-item\" href=\"/downloader/instagram/profile/\"> Profile</a>                                    <a class=\"dropdown-item\" href=\"/downloader/instagram/igtv/\"> IGTV</a>                                  </div>\\n                                  <div class=\"col-xs-4 mb-3 mb-sm-0\">\\n                                    <a class=\"dropdown-item\" href=\"/downloader/instagram/video/\"> Video</a>                                    <a class=\"dropdown-item\" href=\"/downloader/instagram/stories/\"> Stories</a>                                    <a class=\"dropdown-item\" href=\"/downloader/instagram/instadp/\"> Instadp</a>                                  </div>\\n                                </div>\\n                            </div>\\n                          </li>\\n                          <li>\\n                            <a id=\"facebookDropdownInvoker\" class=\"nav-link u-header__sub-menu-nav-link d-flex align-items-center\" href=\"/downloader/facebook/\"> Facebook</a>                            <!--<img class=\"dropdown-item-icon\" src=\"\" alt=\"SVG\">-->\\n                          </li>\\n                          <li>\\n                            <a id=\"twitterDropdownInvoker\" class=\"nav-link u-header__sub-menu-nav-link d-flex align-items-center\" href=\"/downloader/twitter/\"> Twitter</a>                            <!--<img class=\"dropdown-item-icon\" src=\"\" alt=\"SVG\">-->\\n                          </li>\\n                          <li>\\n                            <a id=\"thumblrDropdownInvoker\" class=\"nav-link u-header__sub-menu-nav-link d-flex align-items-center\" href=\"/downloader/tumblr/\"> Tumblr</a>                            <!--<img class=\"dropdown-item-icon\" src=\"\" alt=\"SVG\">-->\\n                          </li>\\n                          <li>\\n                            <a class=\"nav-link u-header__sub-menu-nav-link\" href=\"/downloader/reddit/video/\"> Reddit</a>                          </li>\\n                          <li>\\n                            <a id=\"vimeoDropdownInvoker\" class=\"nav-link u-header__sub-menu-nav-link d-flex align-items-center\" href=\"/downloader/vimeo/\"> Vimeo</a>                              <!--<img class=\"dropdown-item-icon\" src=\"\" alt=\"SVG\">-->\\n                          </li>\\n                          <li>\\n                            <a id=\"soundcloudDropdownInvoker\" class=\"nav-link u-header__sub-menu-nav-link d-flex align-items-center\" href=\"/downloader/soundcloud/\"> Soundcloud</a>                              <!--<img class=\"dropdown-item-icon\" src=\"\" alt=\"SVG\">-->\\n                          </li>\\n                          <li>\\n                            <a id=\"tiktokDropdownInvoker\" class=\"nav-link u-header__sub-menu-nav-link d-flex align-items-center\" href=\"/downloader/tiktok/\"> TikTok</a>                            <!--<img class=\"dropdown-item-icon\" src=\"\" alt=\"SVG\">-->\\n                          </li>\\n                          <li>\\n                            <a id=\"flickrDropdownInvoker\" class=\"nav-link u-header__sub-menu-nav-link d-flex align-items-center disabled\" href=\"javascript:;\">\\n                              <!--<img class=\"dropdown-item-icon\" src=\"\" alt=\"SVG\">-->\\n                              <span class=\"d-sm-inline-block\">Flickr<span class=\"badge badge-warning badge-pill ml-1\">Soon</span></span>\\n                            </a>\\n                          </li>\\n\\n                        </ul>\\n\\n                                              </div>\\n                    </div>\\n                  </div>\\n                </div>\\n              </div>\\n            </li>\\n            <!-- End Services -->\\n\\n            <!-- Image Services -->\\n            <li class=\"nav-item hs-has-mega-menu u-header__nav-item\" data-event=\"hover\" data-animation-in=\"slideInUp\" data-animation-out=\"fadeOut\" data-position=\"left\">\\n              <a id=\"homeMegaMenu\" class=\"nav-link u-header__nav-link u-header__nav-link-toggle\" href=\"javascript:;\" aria-haspopup=\"true\" aria-expanded=\"false\">Tools</a>\\n\\n              <div class=\"hs-mega-menu w-100 u-header__sub-menu\" aria-labelledby=\"homeMegaMenu\" style=\"display: none;\">\\n                <div class=\"row no-gutters\">\\n                  <div class=\"col-lg-4\">\\n                    <!-- Banner Image -->\\n                    <div class=\"u-header__banner\" style=\"background-image: url(/theme/img/750x750/img1.jpg);\">\\n                      <div class=\"u-header__banner-content\">\\n                        <div class=\"mb-4\">\\n                          <span class=\"u-header__banner-title\">Online Image Editor</span>\\n                          <p class=\"u-header__banner-text\">You can add filters, frames, stickers or text. Editor allows rotate, mirror, and resize your photo too.</p>\\n                        </div>\\n                        <a class=\"btn btn-primary btn-sm transition-3d-hover\" href=\"/image/editor/\"> Open Editor <i class=\"ml-2 fas fa-angle-right\"></i></a>                      </div>\\n                    </div>\\n                    <!-- End Banner Image -->\\n                  </div>\\n\\n                  <div class=\"col-lg-8\">\\n                    <div class=\"row u-header__mega-menu-wrapper\">\\n                      <div class=\"col-sm-6 mb-3 mb-sm-0\">\\n                        <span class=\"u-header__sub-menu-title\">Images</span>\\n                        <ul class=\"u-header__sub-menu-nav-group mb-3\">\\n                          <li>\\n                            <a class=\"nav-link u-header__sub-menu-nav-link\" href=\"/image/add-text-to-photo/\"> Add Text to Photo</a>                          </li>\\n                          <li>\\n                            <a class=\"nav-link u-header__sub-menu-nav-link\" href=\"/image/editor/\"> Photo Editor</a>                          </li>\\n                          <li> <a class=\"nav-link u-header__sub-menu-nav-link\" href=\"/image/inverter/\"> Image color inverter</a></li>\\n                          <li>\\n                            <a class=\"nav-link u-header__sub-menu-nav-link\" href=\"/image/crop/\"> Crop Image</a>                          </li>\\n                          <li> <a class=\"nav-link u-header__sub-menu-nav-link\" href=\"/image/combiner/\"> Combiner Image</a></li>\\n                          <li>\\n                            <a class=\"nav-link u-header__sub-menu-nav-link\" href=\"/image/rotator/\"> Rotate Image</a>                          </li>\\n                          <li>\\n                            <a class=\"nav-link u-header__sub-menu-nav-link\" href=\"/image/flipper/\"> Image flipper</a>                          </li>\\n                          <li><span class=\"nav-link u-header__sub-menu-nav-link disabled\">Compress Image <span class=\"badge badge-warning badge-pill ml-1\">Soon</span></span></li>\\n                          <li><span class=\"nav-link u-header__sub-menu-nav-link disabled\">Resize Image <span class=\"badge badge-warning badge-pill ml-1\">Soon</span></span></li>\\n                        </ul>\\n\\n                        <span class=\"u-header__sub-menu-title\">Randomness</span>\\n                        <ul class=\"u-header__sub-menu-nav-group mb-3\">\\n                          <li> <a class=\"nav-link u-header__sub-menu-nav-link\" href=\"/randomness/username-generator/\"> Random username generator</a></li>\\n                          <li> <a class=\"nav-link u-header__sub-menu-nav-link\" href=\"/randomness/fullname-generator/\"> Random full name generator</a></li>\\n                          <li><span class=\"nav-link u-header__sub-menu-nav-link disabled\">Random password generator <span class=\"badge badge-warning badge-pill ml-1\">Soon</span></span></li>\\n                        </ul>\\n\\n                      </div>\\n                      <div class=\"col-sm-6\">\\n                        <span class=\"u-header__sub-menu-title\">Text and List</span>\\n                        <ul class=\"u-header__sub-menu-nav-group mb-3\">\\n                          <li><a class=\"nav-link u-header__sub-menu-nav-link\" href=\"/list/randomizer/\"> List randomizer</a></li>\\n                          <li><span class=\"nav-link u-header__sub-menu-nav-link disabled\">Reverse List <span class=\"badge badge-warning badge-pill ml-1\">Soon</span></span></li>\\n                          <li><span class=\"nav-link u-header__sub-menu-nav-link disabled\">Count words <span class=\"badge badge-warning badge-pill ml-1\">Soon</span></span></li>\\n                          <li> <a class=\"nav-link u-header__sub-menu-nav-link\" href=\"/text/word-scrambler/\"> Word Scrambler</a></li>\\n                          <li> <a class=\"nav-link u-header__sub-menu-nav-link\" href=\"/text/word-unscrambler/\"> Word Unscrambler</a></li>\\n                        </ul>\\n\\n                        <span class=\"u-header__sub-menu-title\">Files</span>\\n                        <ul class=\"u-header__sub-menu-nav-group mb-3\">\\n                          <li><span class=\"nav-link u-header__sub-menu-nav-link disabled\">Split Files<span class=\"badge badge-warning badge-pill ml-1\">Soon</span></span></li>\\n                          <li><span class=\"nav-link u-header__sub-menu-nav-link disabled\">Join Files <span class=\"badge badge-warning badge-pill ml-1\">Soon</span></span></li>\\n                          <li><span class=\"nav-link u-header__sub-menu-nav-link disabled\">Base64 Encode/Decode <span class=\"badge badge-warning badge-pill ml-1\">Soon</span></span></li>\\n                        </ul>\\n\\n                                              </div>\\n                    </div>\\n                  </div>\\n                </div>\\n              </div>\\n            </li>\\n            <!-- End Services -->\\n\\n            <!-- Tutorials -->\\n            <li class=\"nav-item u-header__nav-item\">\\n              <a class=\"nav-link u-header__nav-link\" href=\"/tutorials/\"> Tutorials</a>            </li>\\n            <!-- End Tutorials -->\\n\\n            <!-- Contact -->\\n\\n            <li class=\"nav-item u-header__nav-item\">\\n              <a class=\"nav-link u-header__nav-link\" href=\"/contacts/\"> Contact</a>            </li>\\n\\n            <!-- End Contact -->\\n\\n            <!-- Tutorials -->\\n            <li class=\"nav-item u-header__nav-item mr-lg-5 mr-md-0\">\\n              <a class=\"nav-link u-header__nav-link\" href=\"/faq/\"> FAQ</a>            </li>\\n            <!-- End Tutorials -->\\n\\n\\n            <li class=\"nav-item u-header__nav-item\">\\n                              <a class=\"btn btn-sm btn-outline-primary mr-2\" href=\"/login/\"> <i class=\"mr-1 fas fa-user-circle\"></i>Sign In</a>                                            <a class=\"btn btn-sm btn-primary\" href=\"/signup/\"> Get Started</a>                          </li>\\n\\n          </ul>\\n        </div>\\n        <!-- End Navigation -->\\n      </nav>\\n      <!-- End Nav -->\\n    </div>\\n  </div>\\n</header><iframe name=\"__tcfapiLocator\" style=\"display: none;\"></iframe>\\n<!-- ========== END HEADER ========== -->\\n\\n<!-- ========== MAIN CONTENT ========== -->\\n<main id=\"content\" role=\"main\" style=\"height: auto !important;\">\\n    \\n\\n<div id=\"p0\" data-pjax-container=\"\" data-pjax-push-state=\"\" style=\"height: auto !important;\">\\n\\n<!-- Hero Section -->\\n<div class=\"bg-light position-relative z-index-2 instagram-downloader\">\\n  <div class=\"container space-1 space-top-lg-2\">\\n    <!-- Title -->\\n    <div class=\"mb-3 mb-lg-6 text-center text-md-left \">\\n      <h1 class=\"text-primary font-weight-semi-bold\">Instagram Video Downloader</h1>\\n      <div class=\"text-secondary mb-3\">Download Instagram video to your device. Save Insta videos to enjoy watching when you are offline and when Wi-Fi connection is poor.</div>\\n      <span class=\"d-sm-block text-secondary long-description\"><div class=\"icons-wrapper\"><span class=\"btn btn-xs btn-icon btn-soft-primary rounded-circle mr-3\"><span class=\"fas fa-check btn-icon__inner\"></span></span>Fast</div><div class=\"icons-wrapper\"><span class=\"btn btn-xs btn-icon btn-soft-primary rounded-circle mr-3 ml-5\"><span class=\"fas fa-check btn-icon__inner\"></span></span>High quality</div><div class=\"icons-wrapper\"><span class=\"btn btn-xs btn-icon btn-soft-primary rounded-circle mr-3 ml-5\"><span class=\"fas fa-check btn-icon__inner\"></span></span>Free</div></span>\\n    </div>\\n    <!-- End Title -->\\n\\n    <!-- Navigation -->\\n    <ul class=\"downloader-nav-menu nav nav-classic nav-rounded nav-justified border bg-white mb-lg-6 mb-3\">\\n      <li class=\"nav-item nav-item-first\">\\n        <a class=\"nav-link font-weight-medium\" href=\"/downloader/instagram/photo/\" data-pjax=\"0\">\\n          <div class=\"d-md-flex justify-content-md-center align-items-md-center\">\\n            <i class=\"mr-2 far fa-image\"></i>            <span class=\"desktop\">Download Photo</span>\\n            <span class=\"mobile\">Photo</span>\\n          </div>\\n        </a>\\n      </li>\\n      <li class=\"nav-item\">\\n        <a class=\"nav-link font-weight-medium active\" href=\"/downloader/instagram/video/\" data-pjax=\"0\">\\n          <div class=\"d-md-flex justify-content-md-center align-items-md-center\">\\n            <i class=\"mr-2 far fa-play-circle\"></i>            <span class=\"desktop\">Download Video</span>\\n            <span class=\"mobile\">Video</span>\\n          </div>\\n        </a>\\n      </li>\\n      <li class=\"nav-item\">\\n        <a class=\"nav-link font-weight-medium\" href=\"/downloader/instagram/profile/\" data-pjax=\"0\">\\n          <div class=\"d-md-flex justify-content-md-center align-items-md-center\">\\n            <i class=\"mr-2 far fa-user-circle\"></i>            <span class=\"desktop\">Download Profile</span>\\n            <span class=\"mobile\">Profile</span>\\n          </div>\\n        </a>\\n      </li>\\n\\n      <li class=\"nav-item\">\\n        <a class=\"nav-link font-weight-medium\" href=\"/downloader/instagram/stories/\" data-pjax=\"0\">\\n          <div class=\"d-md-flex justify-content-md-center align-items-md-center\">\\n            <i class=\"mr-2 fas fa-history\"></i>            <span class=\"desktop\">Download Stories</span>\\n            <span class=\"mobile\">Stories</span>\\n          </div>\\n        </a>\\n      </li>\\n      <li class=\"nav-item\">\\n        <a class=\"nav-link font-weight-medium\" href=\"/downloader/instagram/igtv/\" data-pjax=\"0\">\\n          <div class=\"d-md-flex justify-content-md-center align-items-md-center\">\\n            <i class=\"mr-2 fas fa-tv\"></i>            <span class=\"desktop\">Download IGTV</span>\\n            <span class=\"mobile\">IGTV</span>\\n          </div>\\n        </a>\\n      </li>\\n      <li class=\"nav-item nav-item-last\">\\n        <a class=\"nav-link font-weight-medium\" href=\"/downloader/instagram/instadp/\" data-pjax=\"0\">\\n          <div class=\"d-md-flex justify-content-md-center align-items-md-center\">\\n            <i class=\"mr-2 fas fa-user-circle\"></i>            <span class=\"desktop\">Download DP</span>\\n            <span class=\"mobile\">DP</span>\\n          </div>\\n        </a>\\n      </li>\\n    </ul>\\n    <!-- End Navigation -->\\n\\n    <!-- Tab Content -->\\n    <div class=\"tab-content position-relative\">\\n      <div class=\"loading-block d-none\">\\n        <div class=\"loading-image\"></div>\\n        <p><b>Downloading... May take up to 30 sec, please be patient.</b></p>\\n      </div>\\n      <div class=\"tab-pane fade show active\">\\n        <form id=\"downloader-form\" class=\"row ajax-submit bind-refresh-ad\" action=\"/downloader/instagram/video/\" method=\"post\" onsubmit=\"return false;\" data-ga-event-category=\"dl_insta_video\">\\n<input type=\"hidden\" name=\"_csrf\" value=\"IRTGmcwsAuUpLWS6IXY8N0JFmqReQov-5T0ceagUqb1EW5DQoGhFjnMYA99UN3VtJxTg_mkj-YuwS0sLnU3qxA==\">        <div class=\"col-lg-8 mb-2 mb-lg-0\">\\n          <input type=\"hidden\" id=\"instagramdownloaderform-id\" name=\"InstagramDownloaderForm[id]\">          <div class=\"js-focus-state field-instagramdownloaderform-search required u-focus-state\">\\n<div class=\"input-group\"><input type=\"text\" id=\"instagramdownloaderform-search\" class=\"form-control\" name=\"InstagramDownloaderForm[search]\" aria-required=\"true\"></div>\\n<div class=\"invalid-feedback\"></div>\\n</div>          <div class=\"mt-1\">\\n            <p class=\"font-size-1 hint text-dark popular-search\">\\n              Example:              <a class=\"link-muted\" href=\"javascript:void(0)\" data-value=\"https://www.instagram.com/p/B7lnxLuhVI2/\">https://www.instagram.com/p/B7lnxLuhVI2/</a>\\n            </p>\\n          </div>\\n        </div>\\n        <div class=\"col-lg-4 align-items-start\">\\n          <button type=\"submit\" class=\"btn btn-block btn-primary transition-3d-hover\">Download</button>        </div>\\n\\n        <div class=\"form-group field-instagramdownloaderform-recaptcha\">\\n\\n<input type=\"hidden\" id=\"instagramdownloaderform-recaptcha\" class=\"form-control\" name=\"InstagramDownloaderForm[reCaptcha]\">\\n\\n<div class=\"invalid-feedback\"></div>\\n</div>        </form>        \\n<div class=\"recaptcha-terms \">\\n  <div class=\"recaptcha-terms__logo\"></div>\\n  <div class=\"recaptcha-terms__text\">\\n    This site is protected by reCAPTCHA and the Google <a target=\"_blank\" rel=\"nofollow\" href=\"https://policies.google.com/privacy\">Privacy Policy</a> and <a target=\"_blank\" rel=\"nofollow\" href=\"https://policies.google.com/terms\">Terms of Service</a> apply.  </div>\\n</div>\\n      </div>\\n    </div>\\n    <!-- End Tab Content -->\\n\\n  </div>\\n  <!-- SVG Icon -->\\n  <div class=\"d-none d-lg-block w-100 position-absolute bottom-0 right-0 z-index-n1 max-width-27\">\\n    <figure class=\"ie-files\">\\n      <img src=\"/theme/svg/illustrations/files.svg\" alt=\"Image Description\" width=\"208\" height=\"293\" data-parent=\"#SVGfiles\">\\n    </figure>\\n  </div>\\n  <!-- End SVG Icon -->\\n</div>\\n<!-- End Hero Section -->\\n\\n\\n  <!-- toolzu_top -->\\n  <ins class=\"adsbygoogle\" style=\"display: block; min-height: 100px; text-align: center; padding-top: 40px; padding-bottom: 40px; height: 280px;\" data-ad-client=\"ca-pub-6494255769646459\" data-ad-slot=\"4104769807\" data-ad-format=\"auto\" data-full-width-responsive=\"true\" data-adsbygoogle-status=\"done\" data-ad-status=\"filled\">\\n    \\n<div class=\"banners-block\" style=\"display:none;justify-content: center;\">  <a href=\"https://lnklive.com?utm_source=toolzu&amp;utm_medium=desk_banner&amp;utm_campaign=adsense_unfilled_top&amp;utm_content=build_your_free_website\" target=\"_blank\" rel=\"nofollow\">\\n          <img src=\"/img/banners/banner_lnklive_desktop.svg\" alt=\"\">\\n      </a>\\n</div>  <div id=\"aswift_1_host\" style=\"border: none; height: 280px; width: 1019px; margin: 0px; padding: 0px; position: relative; visibility: visible; background-color: transparent; display: inline-block; overflow: visible;\" tabindex=\"0\" title=\"Advertisement\" aria-label=\"Advertisement\"><iframe id=\"aswift_1\" name=\"aswift_1\" style=\"left:0;position:absolute;top:0;border:0;width:1019px;height:280px;\" sandbox=\"allow-forms allow-popups allow-popups-to-escape-sandbox allow-same-origin allow-scripts allow-top-navigation-by-user-activation\" width=\"1019\" height=\"280\" frameborder=\"0\" marginwidth=\"0\" marginheight=\"0\" vspace=\"0\" hspace=\"0\" allowtransparency=\"true\" scrolling=\"no\" src=\"https://googleads.g.doubleclick.net/pagead/ads?gdpr=0&amp;us_privacy=1---&amp;client=ca-pub-6494255769646459&amp;output=html&amp;h=280&amp;slotname=4104769807&amp;adk=244597702&amp;adf=3331376269&amp;pi=t.ma~as.4104769807&amp;w=1019&amp;fwrn=4&amp;fwrnh=100&amp;lmt=1673354354&amp;rafmt=1&amp;format=1019x280&amp;url=https%3A%2F%2Ftoolzu.com%2Fdownloader%2Finstagram%2Fvideo%2F&amp;fwr=0&amp;fwrattr=true&amp;rpe=1&amp;resp_fmts=3&amp;wgl=1&amp;uach=WyJXaW5kb3dzIiwiMTAuMC4wIiwieDg2IiwiIiwiMTA4LjAuNTM1OS4xMjUiLFtdLGZhbHNlLG51bGwsIjY0IixbWyJOb3Q_QV9CcmFuZCIsIjguMC4wLjAiXSxbIkNocm9taXVtIiwiMTA4LjAuNTM1OS4xMjUiXSxbIkdvb2dsZSBDaHJvbWUiLCIxMDguMC41MzU5LjEyNSJdXSxmYWxzZV0.&amp;dt=1673354354477&amp;bpp=2&amp;bdt=195&amp;idt=205&amp;shv=r20230105&amp;mjsv=m202212010101&amp;ptt=9&amp;saldr=aa&amp;abxe=1&amp;prev_fmts=0x0&amp;nras=1&amp;correlator=2764363397945&amp;frm=20&amp;pv=1&amp;ga_vid=924887973.1673354355&amp;ga_sid=1673354355&amp;ga_hid=778783547&amp;ga_fc=1&amp;u_tz=-300&amp;u_his=2&amp;u_h=864&amp;u_w=1536&amp;u_ah=824&amp;u_aw=1536&amp;u_cd=24&amp;u_sd=1.25&amp;dmc=8&amp;adx=0&amp;ady=639&amp;biw=1019&amp;bih=674&amp;scr_x=0&amp;scr_y=0&amp;eid=44759876%2C44759927%2C44759837%2C31071367%2C44779793&amp;oid=2&amp;pvsid=28413057606110&amp;tmod=611638430&amp;uas=0&amp;nvt=1&amp;eae=0&amp;fc=1920&amp;brdim=9%2C9%2C9%2C9%2C1536%2C0%2C1051%2C806%2C1036%2C674&amp;vis=1&amp;rsz=%7C%7CEe%7C&amp;abl=CS&amp;pfx=0&amp;fu=128&amp;bc=31&amp;ifi=2&amp;uci=a!2&amp;fsb=1&amp;xpc=9QuLFhKvKA&amp;p=https%3A//toolzu.com&amp;dtd=208\" data-google-container-id=\"a!2\" data-google-query-id=\"CI3-g96CvfwCFdyy0QQd8iUG1Q\" data-load-complete=\"true\"></iframe></div></ins>\\n  <script>\\n    (adsbygoogle = window.adsbygoogle || []).push({});\\n  </script>\\n\\n\\n<!-- Content Section -->\\n<div class=\"bg-light instagram-downloader-results\" id=\"ajax-results\"></div>\\n<!-- End Content Section -->\\n<div class=\"container space-sm-1 space-0\">\\n</div>\\n\\n\\n  <!-- toolzu_mid -->\\n  <ins class=\"adsbygoogle\" style=\"display: block; min-height: 263px; text-align: center; padding-top: 40px; padding-bottom: 40px; height: 263px;\" data-ad-client=\"ca-pub-6494255769646459\" data-ad-slot=\"9851920500\" data-ad-format=\"auto\" data-full-width-responsive=\"true\" data-adsbygoogle-status=\"done\" data-ad-status=\"filled\">\\n    \\n<div class=\"banners-block\" style=\"display:none;justify-content: center;\">  <a href=\"https://lnklive.com?utm_source=toolzu&amp;utm_medium=desk_banner&amp;utm_campaign=adsense_unfilled_mid&amp;utm_content=build_your_free_website\" target=\"_blank\" rel=\"nofollow\">\\n          <img src=\"/img/banners/banner_lnklive_desktop.svg\" alt=\"\">\\n      </a>\\n</div>  <div id=\"aswift_2_host\" style=\"border: none; height: 263px; width: 1019px; margin: 0px; padding: 0px; position: relative; visibility: visible; background-color: transparent; display: inline-block; overflow: hidden;\" tabindex=\"0\" title=\"Advertisement\" aria-label=\"Advertisement\"><iframe id=\"aswift_2\" name=\"aswift_2\" style=\"left: 0px; position: absolute; top: 0px; border: 0px; width: 1019px; height: 263px;\" sandbox=\"allow-forms allow-popups allow-popups-to-escape-sandbox allow-same-origin allow-scripts allow-top-navigation-by-user-activation\" width=\"1019\" height=\"263\" frameborder=\"0\" marginwidth=\"0\" marginheight=\"0\" vspace=\"0\" hspace=\"0\" allowtransparency=\"true\" scrolling=\"no\" src=\"https://googleads.g.doubleclick.net/pagead/ads?gdpr=0&amp;us_privacy=1---&amp;client=ca-pub-6494255769646459&amp;output=html&amp;h=280&amp;slotname=9851920500&amp;adk=653567768&amp;adf=2367009637&amp;pi=t.ma~as.9851920500&amp;w=1019&amp;fwrn=4&amp;fwrnh=100&amp;lmt=1673354354&amp;rafmt=1&amp;format=1019x280&amp;url=https%3A%2F%2Ftoolzu.com%2Fdownloader%2Finstagram%2Fvideo%2F&amp;fwr=0&amp;fwrattr=true&amp;rpe=1&amp;resp_fmts=3&amp;wgl=1&amp;uach=WyJXaW5kb3dzIiwiMTAuMC4wIiwieDg2IiwiIiwiMTA4LjAuNTM1OS4xMjUiLFtdLGZhbHNlLG51bGwsIjY0IixbWyJOb3Q_QV9CcmFuZCIsIjguMC4wLjAiXSxbIkNocm9taXVtIiwiMTA4LjAuNTM1OS4xMjUiXSxbIkdvb2dsZSBDaHJvbWUiLCIxMDguMC41MzU5LjEyNSJdXSxmYWxzZV0.&amp;dt=1673354354479&amp;bpp=1&amp;bdt=197&amp;idt=210&amp;shv=r20230105&amp;mjsv=m202212010101&amp;ptt=9&amp;saldr=aa&amp;abxe=1&amp;prev_fmts=0x0%2C1019x280&amp;nras=1&amp;correlator=2764363397945&amp;frm=20&amp;pv=1&amp;ga_vid=924887973.1673354355&amp;ga_sid=1673354355&amp;ga_hid=778783547&amp;ga_fc=1&amp;u_tz=-300&amp;u_his=2&amp;u_h=864&amp;u_w=1536&amp;u_ah=824&amp;u_aw=1536&amp;u_cd=24&amp;u_sd=1.25&amp;dmc=8&amp;adx=0&amp;ady=983&amp;biw=1019&amp;bih=674&amp;scr_x=0&amp;scr_y=0&amp;eid=44759876%2C44759927%2C44759837%2C31071367%2C44779793&amp;oid=2&amp;pvsid=28413057606110&amp;tmod=611638430&amp;uas=0&amp;nvt=1&amp;eae=0&amp;fc=1920&amp;brdim=9%2C9%2C9%2C9%2C1536%2C0%2C1051%2C806%2C1036%2C674&amp;vis=1&amp;rsz=%7C%7CEebr%7C&amp;abl=CS&amp;pfx=0&amp;fu=128&amp;bc=31&amp;ifi=3&amp;uci=a!3&amp;btvi=1&amp;fsb=1&amp;xpc=A5C5p7NT86&amp;p=https%3A//toolzu.com&amp;dtd=212\" data-google-container-id=\"a!3\" data-google-query-id=\"CLfDg96CvfwCFU0HTwgd7IwEzg\" data-load-complete=\"true\"></iframe></div></ins>\\n  <script>\\n    (adsbygoogle = window.adsbygoogle || []).push({});\\n  </script>\\n\\n\\n<div class=\"container space-top-2\">\\n\\n  <div class=\"mb-11 w-lg-80 text-center mx-lg-auto\">\\n    <h2>Download Videos from Instagram Easily</h2>\\n    <div class=\"row\">\\n      <div class=\"col-12\">\\n        <p class=\"mb-md-0\">\\n          It takes 2 clicks to download video from Instagram without quality loss. Stop relying on unsafe applications and be thankful for low-quality videos        </p>\\n      </div>\\n    </div>\\n  </div>\\n\\n  <div class=\"row justify-content-lg-center mb-5\">\\n    <div class=\"col-md-6 col-lg-5 mb-5 mb-lg-7\">\\n      <div class=\"media pr-lg-5\">\\n        <figure id=\"icon18\" class=\"ie-height-56 w-100 max-width-8 mr-4\" style=\"\">\\n          <svg xmlns=\"http://www.w3.org/2000/svg\" xmlns:xlink=\"http://www.w3.org/1999/xlink\" x=\"0px\" y=\"0px\" viewBox=\"0 0 120 120\" style=\"enable-background:new 0 0 120 120;\" xml:space=\"preserve\" class=\"injected-svg js-svg-injector\" data-parent=\"#icon18\">\\n<style type=\"text/css\">\\n\\t.icon-18-0{fill:none;stroke:#BDC5D1;}\\n\\t.icon-18-1{fill:none;stroke:#FFFFFF;}\\n\\t.icon-18-2{fill:none;stroke:#377DFF;}\\n\\t.icon-18-3{fill:none;stroke:#BDC5D1;}\\n\\t.icon-18-4{fill:#BDC5D1;}\\n\\t.icon-18-5{fill:#377DFF;}\\n</style>\\n<polygon class=\"icon-18-0 fill-none stroke-gray-400\" stroke-width=\"3\" stroke-linecap=\"round\" stroke-linejoin=\"round\" stroke-miterlimit=\"10\" points=\"71.3,78.1 97.6,78.1 100.6,85.3 68.2,85.3 \"></polygon>\\n<g opacity=\".5\">\\n\\t<path class=\"icon-18-0 fill-none stroke-gray-400\" stroke-width=\"3\" stroke-linecap=\"round\" stroke-linejoin=\"round\" stroke-miterlimit=\"10\" d=\"M92,18.4h12.1c3.1,0,5.5,2.5,5.5,5.5v64.2\"></path>\\n\\t<path class=\"icon-18-0 fill-none stroke-gray-400\" stroke-width=\"3\" stroke-linecap=\"round\" stroke-linejoin=\"round\" stroke-miterlimit=\"10\" d=\"M50.4,96.7H7.1c-3.1,0-5.5-2.5-5.5-5.5V23.9c0-3.1,2.5-5.5,5.5-5.5h38.3\"></path>\\n\\t<path class=\"icon-18-0 fill-none stroke-gray-400\" stroke-width=\"3\" stroke-linecap=\"round\" stroke-linejoin=\"round\" stroke-miterlimit=\"10\" d=\"M109.6,91.2\"></path>\\n\\t<path class=\"icon-18-0 fill-none stroke-gray-400\" stroke-width=\"3\" stroke-linecap=\"round\" stroke-linejoin=\"round\" stroke-miterlimit=\"10\" d=\"M99.1,79.8\"></path>\\n\\t<line class=\"icon-18-0 fill-none stroke-gray-400\" stroke-width=\"3\" stroke-linecap=\"round\" stroke-linejoin=\"round\" stroke-miterlimit=\"10\" x1=\"1.5\" y1=\"79.8\" x2=\"66.2\" y2=\"79.8\"></line>\\n\\t<line class=\"icon-18-0 fill-none stroke-gray-400\" stroke-width=\"3\" stroke-linecap=\"round\" stroke-linejoin=\"round\" stroke-miterlimit=\"10\" x1=\"102\" y1=\"79.8\" x2=\"109\" y2=\"79.8\"></line>\\n\\t<path class=\"icon-18-0 fill-none stroke-gray-400\" stroke-width=\"3\" stroke-linecap=\"round\" stroke-linejoin=\"round\" stroke-miterlimit=\"10\" d=\"M9,79.8\"></path>\\n\\t<g>\\n\\t\\t<line class=\"icon-18-0 fill-none stroke-gray-400\" stroke-width=\"3\" stroke-linecap=\"round\" stroke-linejoin=\"round\" stroke-miterlimit=\"10\" x1=\"42\" y1=\"96.7\" x2=\"38.8\" y2=\"111.9\"></line>\\n\\t</g>\\n\\t<line class=\"icon-18-0 fill-none stroke-gray-400\" stroke-width=\"3\" stroke-linecap=\"round\" stroke-linejoin=\"round\" stroke-miterlimit=\"10\" x1=\"50.4\" y1=\"111.9\" x2=\"27.8\" y2=\"111.9\"></line>\\n</g>\\n<g>\\n\\t<path class=\"icon-18-0 fill-none stroke-gray-400\" stroke-width=\"3\" stroke-linecap=\"round\" stroke-linejoin=\"round\" stroke-miterlimit=\"10\" d=\"M42.5,45.3c0.4-1.3,0.6-2.7,0.6-4.2c0-6.9-5-12-11.1-12S21,34.3,21,41.2c0,1.5,0.2,2.9,0.6,4.2   c-0.9,0.6-1.4,1.6-1.4,2.7c0,1.5,1,2.7,2.3,3.1c1.6,4.7,5.3,8.1,9.6,8.1s8-3.3,9.6-8.1C43,50.7,44,49.5,44,48   C44,46.9,43.4,45.9,42.5,45.3z\"></path>\\n\\t<path class=\"icon-18-0 fill-none stroke-gray-400\" stroke-width=\"3\" stroke-linecap=\"round\" stroke-linejoin=\"round\" stroke-miterlimit=\"10\" d=\"M39.8,40.6c-0.3-1.3-1.2-1.3-2.3-1.3c-0.4,0-0.6-2.9-0.6-2.9s-1.2,0-3.2,1.8c-4.2,3.7-8.8,0.8-8.8,0.8\"></path>\\n\\t<g>\\n\\t\\t<path class=\"icon-18-0 fill-none stroke-gray-400\" stroke-width=\"3\" stroke-linecap=\"round\" stroke-linejoin=\"round\" stroke-miterlimit=\"10\" d=\"M21.7,41.9\"></path>\\n\\t\\t<path class=\"icon-18-0 fill-none stroke-gray-400\" stroke-width=\"3\" stroke-linecap=\"round\" stroke-linejoin=\"round\" stroke-miterlimit=\"10\" d=\"M41.7,64.1l10.5,4.4c1.9,1,2.7,2.9,2.7,4.9v0.4v5.6\"></path>\\n\\t\\t<polyline class=\"icon-18-2 fill-none stroke-primary\" stroke-width=\"3\" stroke-linecap=\"round\" stroke-linejoin=\"round\" stroke-miterlimit=\"10\" points=\"32.2,65.6 36.3,70.2 41.8,64.3 39.4,60.2   \"></polyline>\\n\\t\\t<path class=\"icon-18-0 fill-none stroke-gray-400\" stroke-width=\"3\" stroke-linecap=\"round\" stroke-linejoin=\"round\" stroke-miterlimit=\"10\" d=\"M22.7,64.1l-10.3,4.2c-0.7,0.4-1.2,0.9-1.6,1.5c-0.7,1-1.1,2.1-1.1,3.4v6.2\"></path>\\n\\t\\t<path class=\"icon-18-0 fill-none stroke-gray-400\" stroke-width=\"3\" stroke-linecap=\"round\" stroke-linejoin=\"round\" stroke-miterlimit=\"10\" d=\"M22.1,47.8\"></path>\\n\\t\\t<polyline class=\"icon-18-2 fill-none stroke-primary\" stroke-width=\"3\" stroke-linecap=\"round\" stroke-linejoin=\"round\" stroke-miterlimit=\"10\" points=\"32.2,65.6 28.2,70.2 22.7,64.3 25,60.2   \"></polyline>\\n\\t\\t<line class=\"icon-18-2 fill-none stroke-primary\" stroke-width=\"3\" stroke-linecap=\"round\" stroke-linejoin=\"round\" stroke-miterlimit=\"10\" x1=\"39.4\" y1=\"60.2\" x2=\"32.2\" y2=\"65.6\"></line>\\n\\t\\t<line class=\"icon-18-2 fill-none stroke-primary\" stroke-width=\"3\" stroke-linecap=\"round\" stroke-linejoin=\"round\" stroke-miterlimit=\"10\" x1=\"25\" y1=\"60.2\" x2=\"32.2\" y2=\"65.6\"></line>\\n\\t</g>\\n</g>\\n<line class=\"icon-18-0 fill-none stroke-gray-400\" stroke-width=\"3\" stroke-linecap=\"round\" stroke-linejoin=\"round\" stroke-miterlimit=\"10\" x1=\"63.1\" y1=\"109.8\" x2=\"63.1\" y2=\"118\"></line>\\n<line class=\"icon-18-0 fill-none stroke-gray-400\" stroke-width=\"3\" stroke-linecap=\"round\" stroke-linejoin=\"round\" stroke-miterlimit=\"10\" x1=\"106.7\" y1=\"109.8\" x2=\"106.7\" y2=\"118\"></line>\\n<g>\\n\\t<path class=\"icon-18-0 fill-none stroke-gray-400\" stroke-width=\"3\" stroke-linecap=\"round\" stroke-linejoin=\"round\" stroke-miterlimit=\"10\" d=\"M90.3,78.1V76c3.7-2,6.6-5.8,8.2-10.5c2-0.6,3.5-2.4,3.5-4.7c0-1.7-0.9-3.2-2.1-4.1c0.6-2,1-4.1,1-6.2   c0-10.4-7.5-18.1-16.7-18.1c-9.2,0-16.7,7.8-16.7,18.1c0,2.2,0.3,4.3,1,6.2c-1.3,0.9-2.1,2.4-2.1,4.1c0,2.2,1.5,4.1,3.5,4.7   c1.6,4.7,4.5,8.5,8.2,10.5v2.1\"></path>\\n\\t<path class=\"icon-18-0 fill-none stroke-gray-400\" stroke-width=\"3\" stroke-linecap=\"round\" stroke-linejoin=\"round\" stroke-miterlimit=\"10\" d=\"M118.5,118V98.2v-0.6c0-3-1.2-5.9-4.1-7.4l-13.7-5l0,0.1\"></path>\\n\\t<path class=\"icon-18-0 fill-none stroke-gray-400\" stroke-width=\"3\" stroke-linecap=\"round\" stroke-linejoin=\"round\" stroke-miterlimit=\"10\" d=\"M68.4,84.9l-13.9,5c-1,0.6-1.8,1.4-2.5,2.3c-1,1.5-1.6,3.2-1.6,5.1V118\"></path>\\n</g>\\n<line class=\"icon-18-3 fill-none stroke-gray-400\" opacity=\".5\" stroke-width=\"3\" stroke-linecap=\"round\" stroke-linejoin=\"round\" stroke-miterlimit=\"10\" x1=\"97.3\" y1=\"100.2\" x2=\"85.9\" y2=\"111.6\"></line>\\n<line class=\"icon-18-3 fill-none stroke-gray-400\" opacity=\".5\" stroke-width=\"3\" stroke-linecap=\"round\" stroke-linejoin=\"round\" stroke-miterlimit=\"10\" x1=\"96\" y1=\"108.5\" x2=\"92.2\" y2=\"112.3\"></line>\\n<path class=\"icon-18-0 fill-none stroke-gray-400\" stroke-width=\"3\" stroke-linecap=\"round\" stroke-linejoin=\"round\" stroke-miterlimit=\"10\" d=\"M99.9,56.8c-1.2,3.5-4.8,6.7-7,8.4c-0.3,0.2-2.4-2.5-2.4-2.5s-1.3,4.8-2,5c-6.4,2.4-14.3-0.6-20.1-11\"></path>\\n<g>\\n\\t<g>\\n\\t\\t<path class=\"icon-18-4 fill-gray-400\" opacity=\".5\" stroke-width=\"3\" stroke-linecap=\"round\" stroke-linejoin=\"round\" stroke-miterlimit=\"10\" d=\"M87.2,7.5h-38c-2.4,0-4.3,1.9-4.3,4.3v14.3c0,2.4,1.9,4.3,4.3,4.3h3.6v7l11.1-7h23.3c2.4,0,4.3-1.9,4.3-4.3    V11.8C91.5,9.4,89.6,7.5,87.2,7.5z\"></path>\\n\\t\\t<path class=\"icon-18-5 fill-primary\" d=\"M81.4,2h-38c-2.4,0-4.3,1.9-4.3,4.3v14.3c0,2.4,1.9,4.3,4.3,4.3H47v7l11.1-7h23.3c2.4,0,4.3-1.9,4.3-4.3V6.3    C85.7,3.9,83.8,2,81.4,2z\"></path>\\n\\t\\t<g>\\n\\t\\t\\t<line class=\"icon-18-1 fill-none stroke-white\" stroke-width=\"3\" stroke-linecap=\"round\" stroke-linejoin=\"round\" stroke-miterlimit=\"10\" x1=\"73.9\" y1=\"10.3\" x2=\"50.9\" y2=\"10.3\"></line>\\n\\t\\t\\t<line class=\"icon-18-1 fill-none stroke-white\" stroke-width=\"3\" stroke-linecap=\"round\" stroke-linejoin=\"round\" stroke-miterlimit=\"10\" x1=\"56.2\" y1=\"16.5\" x2=\"50.9\" y2=\"16.5\"></line>\\n\\t\\t</g>\\n\\t</g>\\n</g>\\n</svg>\\n        </figure>\\n        <div class=\"media-body\">\\n          <p class=\"h6 mb-0 text-dark\">No registration needed</p>\\n          <p>No apps download and sign-ups, save content online</p>\\n        </div>\\n      </div>\\n    </div>\\n\\n    <div class=\"col-md-6 col-lg-5 mb-5 mb-lg-7\">\\n      <div class=\"media pr-lg-5\">\\n        <figure id=\"icon30\" class=\"ie-height-56 w-100 max-width-8 mr-4\" style=\"\">\\n          <svg xmlns=\"http://www.w3.org/2000/svg\" xmlns:xlink=\"http://www.w3.org/1999/xlink\" x=\"0px\" y=\"0px\" viewBox=\"0 0 120 120\" style=\"enable-background:new 0 0 120 120;\" xml:space=\"preserve\" class=\"injected-svg js-svg-injector\" data-parent=\"#icon30\">\\n<style type=\"text/css\">\\n\\t.icon-30-0{fill:#BDC5D1;}\\n\\t.icon-30-1{fill:#FFFFFF;stroke:#BDC5D1;}\\n\\t.icon-30-2{fill:#FFFFFF;}\\n\\t.icon-30-3{fill:#377DFF;}\\n\\t.icon-30-4{fill:none;stroke:#377DFF;}\\n</style>\\n<g>\\n\\t<polygon class=\"icon-30-0 fill-gray-400\" opacity=\".3\" points=\"119.2,47.9 103.5,26.8 96.3,17.2 96.3,17.2 71.9,14.6 66.7,14.1 66.7,14.1 66.7,14.1 66.7,14.1   66.7,14.1 66.7,14.1 66.7,14.1 64.3,14.3 37.1,17.2 14.2,47.9 14.2,47.9 14.2,47.9 66.7,109.1 119.2,47.9  \"></polygon>\\n\\t<path class=\"icon-30-1 fill-white stroke-gray-400\" stroke-width=\"3\" stroke-linecap=\"round\" stroke-linejoin=\"round\" stroke-miterlimit=\"10\" d=\"M25.7,14.1L55.3,11l29.6,3.1l22.9,30.7l-52.5,61.1L2.8,44.8L25.7,14.1z\"></path>\\n\\t<g transform=\"translate(59.000000, 85.000000)\">\\n\\t\\t<polygon class=\"icon-30-2 fill-white\" points=\"-3.7,-73.3 -32,-70.3 -33.6,-40.9\"></polygon>\\n\\t\\t<polygon class=\"icon-30-2 fill-white\" points=\"-3.7,-73.3 24.5,-70.3 26.1,-40.9\"></polygon>\\n\\t\\t<polygon class=\"icon-30-3 fill-primary\" points=\"46.4,-40.9 24.5,-70.3 26.1,-40.9\"></polygon>\\n\\t\\t<polygon class=\"icon-30-3 fill-primary\" points=\"-53.9,-40.9 -32,-70.3 -33.6,-40.9\"></polygon>\\n\\t\\t<polygon class=\"icon-30-3 fill-primary\" points=\"-3.7,-73.3 -33.6,-40.9 26.1,-40.9\"></polygon>\\n\\t</g>\\n</g>\\n<line class=\"icon-30-4 fill-none stroke-primary\" stroke-width=\"3\" stroke-linecap=\"round\" stroke-linejoin=\"round\" stroke-miterlimit=\"10\" x1=\"27\" y1=\"56.8\" x2=\"40.2\" y2=\"72.6\"></line>\\n<line class=\"icon-30-4 fill-none stroke-primary\" stroke-width=\"3\" stroke-linecap=\"round\" stroke-linejoin=\"round\" stroke-miterlimit=\"10\" x1=\"44.4\" y1=\"77.6\" x2=\"48\" y2=\"82\"></line>\\n</svg>\\n        </figure>\\n        <div class=\"media-body\">\\n          <p class=\"h6 mb-0 text-dark\">Only high-quality videos</p>\\n          <p>Forget about low-quality videos, save high-resolution videos only</p>\\n        </div>\\n      </div>\\n    </div>\\n\\n    <div class=\"col-md-6 col-lg-5 mb-5 mb-lg-7\">\\n      <div class=\"media pr-lg-5\">\\n        <figure id=\"icon9\" class=\"ie-height-56 w-100 max-width-8 mr-4\" style=\"\">\\n          <svg xmlns=\"http://www.w3.org/2000/svg\" xmlns:xlink=\"http://www.w3.org/1999/xlink\" x=\"0px\" y=\"0px\" viewBox=\"0 0 120 120\" style=\"enable-background:new 0 0 120 120;\" xml:space=\"preserve\" class=\"injected-svg js-svg-injector\" data-parent=\"#icon9\">\\n<style type=\"text/css\">\\n\\t.icon-9-0{fill:none;stroke:#FFFFFF;}\\n\\t.icon-9-1{fill:#BDC5D1;}\\n\\t.icon-9-2{fill:#377DFF;}\\n\\t.icon-9-3{fill:none;stroke:#BDC5D1;}\\n\\t.icon-9-5{fill:none;stroke:#377DFF;}\\n</style>\\n<path class=\"icon-9-1 fill-gray-400\" opacity=\".5\" d=\"M35.7,120H4c-2.2,0-4-1.8-4-4V54.1c0-2.2,1.8-4,4-4h31.7c2.2,0,4,1.8,4,4V116C39.7,118.2,37.9,120,35.7,120z\"></path>\\n<path class=\"icon-9-2 fill-primary\" d=\"M48.4,116.4H16.7c-2.2,0-4-1.8-4-4V48.5c0-2.2,1.8-4,4-4h31.7c2.2,0,4,1.8,4,4v63.9  C52.4,114.6,50.6,116.4,48.4,116.4z\"></path>\\n<path class=\"icon-9-3 fill-none stroke-gray-400\" stroke-width=\"3\" stroke-linecap=\"round\" stroke-linejoin=\"round\" stroke-miterlimit=\"10\" d=\"M80.3,106.9c0,1.4-1.1,2.6-2.6,2.6c-1.4,0-2.6-1.1-2.6-2.6c0-1.4,1.1-2.6,2.6-2.6  C79.2,104.3,80.3,105.5,80.3,106.9z\"></path>\\n<circle class=\"icon-9-0 fill-none stroke-white\" stroke-width=\"3\" stroke-linecap=\"round\" stroke-linejoin=\"round\" stroke-miterlimit=\"10\" cx=\"33.2\" cy=\"109.9\" r=\"2.6\"></circle>\\n<line class=\"icon-9-0 fill-none stroke-white\" stroke-width=\"3\" stroke-linecap=\"round\" stroke-linejoin=\"round\" stroke-miterlimit=\"10\" x1=\"17.3\" y1=\"52.1\" x2=\"47.6\" y2=\"52.1\"></line>\\n<line class=\"icon-9-0 fill-none stroke-white\" stroke-width=\"3\" stroke-linecap=\"round\" stroke-linejoin=\"round\" stroke-miterlimit=\"10\" x1=\"47.6\" y1=\"101.7\" x2=\"17.3\" y2=\"101.7\"></line>\\n<path class=\"icon-9-3 fill-none stroke-gray-400\" stroke-width=\"3\" stroke-linecap=\"round\" stroke-linejoin=\"round\" stroke-miterlimit=\"10\" d=\"M36.9,35.3V5.6c0-2.1,1.7-3.8,3.8-3.8h73.9c2.1,0,3.8,1.7,3.8,3.8v104.9c0,2.1-1.7,3.8-3.8,3.8H61.3\"></path>\\n<line class=\"icon-9-5 fill-none stroke-primary\" stroke-width=\"3\" stroke-linecap=\"round\" stroke-linejoin=\"round\" stroke-miterlimit=\"10\" x1=\"94\" y1=\"28.8\" x2=\"61.5\" y2=\"71.4\"></line>\\n<line class=\"icon-9-5 fill-none stroke-primary\" stroke-width=\"3\" stroke-linecap=\"round\" stroke-linejoin=\"round\" stroke-miterlimit=\"10\" x1=\"71.6\" y1=\"68.8\" x2=\"82.1\" y2=\"55.1\"></line>\\n<line class=\"icon-9-5 fill-none stroke-primary\" stroke-width=\"3\" stroke-linecap=\"round\" stroke-linejoin=\"round\" stroke-miterlimit=\"10\" x1=\"85.4\" y1=\"50.8\" x2=\"90.2\" y2=\"44.7\"></line>\\n<line class=\"icon-9-0 fill-none stroke-white\" opacity=\".5\" stroke-width=\"3\" stroke-linecap=\"round\" stroke-linejoin=\"round\" stroke-miterlimit=\"10\" x1=\"43.1\" y1=\"62.3\" x2=\"20.8\" y2=\"91.5\"></line>\\n<line class=\"icon-9-0 fill-none stroke-white\" opacity=\".5\" stroke-width=\"3\" stroke-linecap=\"round\" stroke-linejoin=\"round\" stroke-miterlimit=\"10\" x1=\"27.7\" y1=\"89.7\" x2=\"34.9\" y2=\"80.3\"></line>\\n<line class=\"icon-9-0 fill-none stroke-white\" opacity=\".5\" stroke-width=\"3\" stroke-linecap=\"round\" stroke-linejoin=\"round\" stroke-miterlimit=\"10\" x1=\"37.2\" y1=\"77.3\" x2=\"40.5\" y2=\"73.2\"></line>\\n<line class=\"icon-9-0 fill-none stroke-white\" stroke-width=\"3\" stroke-linecap=\"round\" stroke-linejoin=\"round\" stroke-miterlimit=\"10\" x1=\"72.5\" y1=\"6.8\" x2=\"82.7\" y2=\"6.8\"></line>\\n<polyline class=\"icon-9-3 fill-none stroke-gray-400\" stroke-width=\"3\" stroke-linecap=\"round\" stroke-linejoin=\"round\" stroke-miterlimit=\"10\" points=\"45.6,34.8 45.6,11.7 109.9,11.7 109.9,66.4 \"></polyline>\\n<polyline class=\"icon-9-3 fill-none stroke-gray-400\" stroke-width=\"3\" stroke-linecap=\"round\" stroke-linejoin=\"round\" stroke-miterlimit=\"10\" points=\"109.9,81.7 109.9,96.9 59.3,96.9 \"></polyline>\\n</svg>\\n        </figure>\\n        <div class=\"media-body\">\\n          <p class=\"h6 mb-0 text-dark\">Use from any device</p>\\n          <p>Save Instagram videos from any browser, any OS</p>\\n        </div>\\n      </div>\\n    </div>\\n\\n    <div class=\"col-md-6 col-lg-5 mb-5 mb-lg-7\">\\n      <div class=\"media pr-lg-5\">\\n        <figure id=\"icon31\" class=\"ie-height-56 w-100 max-width-8 mr-4\" style=\"\">\\n          <svg xmlns=\"http://www.w3.org/2000/svg\" xmlns:xlink=\"http://www.w3.org/1999/xlink\" x=\"0px\" y=\"0px\" viewBox=\"0 0 120 120\" style=\"enable-background:new 0 0 120 120;\" xml:space=\"preserve\" class=\"injected-svg js-svg-injector\" data-parent=\"#icon31\">\\n<style type=\"text/css\">\\n\\t.icon-31-0{fill:none;stroke:#377DFF;}\\n\\t.icon-31-1{fill:none;stroke:#BDC5D1;}\\n\\t.icon-31-2{fill:#377DFF;}\\n\\t.icon-31-3{fill:none;stroke:#FFFFFF;}\\n\\t.icon-31-4{fill:#BDC5D1;}\\n\\t.icon-31-5{fill:#FFFFFF;stroke:#BDC5D1;}\\n</style>\\n<g>\\n\\t<path class=\"icon-31-0 fill-none stroke-primary\" stroke-width=\"3\" stroke-linecap=\"round\" stroke-linejoin=\"round\" stroke-miterlimit=\"10\" d=\"M67.7,67.4c1.3,1.7,3.3,2.8,5.6,2.8c3.8,0,6.9-3.1,6.9-6.9c0-3.8-3.1-6.9-6.9-6.9h-0.1c-3,0-5.3-2.4-5.3-5.3   c0-3,2.4-5.3,5.3-5.3c1.8,0,3.3,0.9,4.3,2.2\"></path>\\n\\t<line class=\"icon-31-0 fill-none stroke-primary\" stroke-width=\"3\" stroke-linecap=\"round\" stroke-linejoin=\"round\" stroke-miterlimit=\"10\" x1=\"73.2\" y1=\"45.7\" x2=\"73.2\" y2=\"42.7\"></line>\\n\\t<line class=\"icon-31-0 fill-none stroke-primary\" stroke-width=\"3\" stroke-linecap=\"round\" stroke-linejoin=\"round\" stroke-miterlimit=\"10\" x1=\"73.2\" y1=\"73.2\" x2=\"73.2\" y2=\"70.2\"></line>\\n</g>\\n<g>\\n\\t<line class=\"icon-31-1 fill-none stroke-gray-400\" stroke-width=\"3\" stroke-linecap=\"round\" stroke-linejoin=\"round\" stroke-miterlimit=\"10\" x1=\"65.3\" y1=\"23.3\" x2=\"65.3\" y2=\"15.1\"></line>\\n\\t<line class=\"icon-31-1 fill-none stroke-gray-400\" stroke-width=\"3\" stroke-linecap=\"round\" stroke-linejoin=\"round\" stroke-miterlimit=\"10\" x1=\"82.7\" y1=\"15.1\" x2=\"82.7\" y2=\"23.3\"></line>\\n</g>\\n<path class=\"icon-31-2 fill-primary\" d=\"M59.1,0.9h29.8c0.8,0,1.3,0.8,1,1.5l-5.7,11.9c-0.2,0.4-0.6,0.6-1,0.6H64.8c-0.4,0-0.8-0.2-1-0.6L58.1,2.4  C57.8,1.7,58.3,0.9,59.1,0.9z\"></path>\\n<path class=\"icon-31-1 fill-none stroke-gray-400\" stroke-width=\"3\" stroke-linecap=\"round\" stroke-linejoin=\"round\" stroke-miterlimit=\"10\" d=\"M101.5,88.3c1.3-2.2,2.1-4.7,2.1-7.5V51.6c0-13.3-8.8-24.6-20.9-28.3H65.3c-12.1,3.7-20.9,15-20.9,28.3v24.7\"></path>\\n<g>\\n\\t<line class=\"icon-31-3 fill-none stroke-white\" stroke-width=\"3\" stroke-linecap=\"round\" stroke-linejoin=\"round\" stroke-miterlimit=\"10\" x1=\"76.9\" y1=\"11.7\" x2=\"79.3\" y2=\"5.4\"></line>\\n\\t<line class=\"icon-31-3 fill-none stroke-white\" stroke-width=\"3\" stroke-linecap=\"round\" stroke-linejoin=\"round\" stroke-miterlimit=\"10\" x1=\"71.1\" y1=\"11.7\" x2=\"68.6\" y2=\"5.4\"></line>\\n</g>\\n<g>\\n\\t<line class=\"icon-31-1 fill-none stroke-gray-400\" stroke-width=\"3\" stroke-linecap=\"round\" stroke-linejoin=\"round\" stroke-miterlimit=\"10\" x1=\"86.9\" y1=\"59.3\" x2=\"88.7\" y2=\"59.3\"></line>\\n\\t<line class=\"icon-31-1 fill-none stroke-gray-400\" stroke-width=\"3\" stroke-linecap=\"round\" stroke-linejoin=\"round\" stroke-miterlimit=\"10\" x1=\"59.3\" y1=\"59.3\" x2=\"61\" y2=\"59.3\"></line>\\n</g>\\n<path class=\"icon-31-4 fill-gray-400\" opacity=\".5\" d=\"M90.7,93.8l21.3-5.8c2.6-0.7,5.3,0.7,6.2,3.3l0,0c0.7,2.3-0.2,5.1-2.6,6.2l-41.3,20.7  c-4.6,2.2-9.9,2.5-14.4,0.5L37,108.9H26.7c-0.7,0-1.3-0.6-1.3-1.3v-8L90.7,93.8z\"></path>\\n<path class=\"icon-31-5 fill-white stroke-gray-400\" stroke-width=\"3\" stroke-linecap=\"round\" stroke-linejoin=\"round\" stroke-miterlimit=\"10\" d=\"M77.8,86.3l34.3-7.1c2.6-0.7,5.3,0.7,6.2,3.3l0,0c0.7,2.3-0.2,5.1-2.6,6.2l-41.3,20.7  c-4.6,2.2-9.9,2.5-14.4,0.5L37,100.1H25.5\"></path>\\n<path class=\"icon-31-5 fill-white stroke-gray-400\" stroke-width=\"3\" stroke-linecap=\"round\" stroke-linejoin=\"round\" stroke-miterlimit=\"10\" d=\"M25.3,67.5h11.6L61.3,75h14.3c3.3,0,6,2.7,6,6l0,0c0,3.1-2.5,5.5-5.5,5.5H61.3c-3.2,0-5.8,2.6-5.8,5.8l0,0\"></path>\\n<path class=\"icon-31-2 fill-primary\" d=\"M1.9,104.2h21.7c1,0,1.7-0.7,1.7-1.7V65.1c0-1-0.7-1.7-1.7-1.7H1.9c-1,0-1.7,0.7-1.7,1.7v37.3  C0.2,103.3,0.9,104.2,1.9,104.2z\"></path>\\n<line class=\"icon-31-3 fill-none stroke-white\" stroke-width=\"3\" stroke-linecap=\"round\" stroke-linejoin=\"round\" stroke-miterlimit=\"10\" x1=\"13.8\" y1=\"78.8\" x2=\"13.8\" y2=\"82.6\"></line>\\n</svg>\\n        </figure>\\n        <div class=\"media-body\">\\n          <p class=\"h6 mb-0 text-dark\">Use for free</p>\\n          <p>No charge. Use Insta Downloader for $0          </p>\\n        </div>\\n      </div>\\n    </div>\\n  </div>\\n</div>\\n\\n<!-- Terms Content Section -->\\n<div class=\"container space-2 space-top-md-1 space-bottom-md-3\">\\n  <div class=\"row\">\\n    <div id=\"stickyBlockStartPoint\" class=\"col-md-4 col-lg-3 mb-7 mb-md-0\">\\n      <!-- Nav -->\\n      <nav class=\"js-sticky-block card shadow-sm p-4\" data-parent=\"#stickyBlockStartPoint\" data-sticky-view=\"md\" data-start-point=\"#stickyBlockStartPoint\" data-end-point=\"#stickyBlockEndPoint\" data-offset-top=\"24\" data-offset-bottom=\"24\">\\n        <ul class=\"js-scroll-nav list-group list-group-transparent list-group-flush list-group-borderless\">\\n          <li>\\n            <a class=\"list-group-item list-group-item-action font-weight-medium mb-2\" href=\"#faq1\">1. What is a video downloader?</a>\\n          </li>\\n          <li>\\n            <a class=\"list-group-item list-group-item-action font-weight-medium mb-2\" href=\"#faq2\">2. How to use video downloader online?</a>\\n          </li>\\n          <li>\\n            <a class=\"list-group-item list-group-item-action font-weight-medium mb-2\" href=\"#faq3\">3. Is it a Free video downloader?</a>\\n          </li>\\n          <li>\\n            <a class=\"list-group-item list-group-item-action font-weight-medium mb-2\" href=\"#faq4\">4. Is using IG video downloader legal?</a>\\n          </li>\\n          <li>\\n            <a class=\"list-group-item list-group-item-action font-weight-medium mb-2\" href=\"#faq5\">5. Does Insta downloader work on private accounts?</a>\\n          </li>\\n          <li>\\n            <a class=\"list-group-item list-group-item-action font-weight-medium mb-2\" href=\"#faq6\">6. Where can I find all saved Instagram videos?</a>\\n          </li>\\n        </ul>\\n      </nav>\\n      <!-- End Nav -->\\n    </div>\\n\\n    <div class=\"col-md-8 col-lg-9\">\\n      <div id=\"intro\" class=\"space-bottom-1\">\\n        <!-- Title -->\\n        <div class=\"border-bottom pb-5 mb-5\">\\n          <h3>Frequently Asked Questions</h3>\\n        </div>\\n        <!-- End Title -->\\n      </div>\\n\\n      <dl>\\n        <dt class=\"mb-3\" id=\"faq1\">1. What is a video downloader?</dt>\\n        <dd class=\"space-bottom-1 text-muted\"><p>It is a modern, one-of-a-kind <b>Instagram video download</b> service, with which you can quickly save videos from IG in the highest quality possible. There is no need to register or pay for it. You can use it freely wherever you are, anytime.</p></dd>\\n        <dt class=\"mb-3\" id=\"faq2\">2. How to use video downloader online?</dt>\\n        <dd class=\"space-bottom-1 text-muted\">\\n          <p>It is easy. It will take just 3 steps to save any video you want to any of your devices.</p>\\n          <ul class=\"text-dark\">\\n            <li>Open a video on Instagram and copy its link.</li>\\n            <li>Paste the link to the input line on the <b>Instagram video downloader page</b> and click <b>Download</b>.</li>\\n            <li>Click <b>Download</b> once again to confirm the action.</li>\\n          </ul>\\n          <p>The download will start immediately. Now enjoy the video anytime.</p>\\n        </dd>\\n        <dt class=\"mb-3\" id=\"faq3\">3. Is it a Free video downloader?</dt>\\n        <dd class=\"space-bottom-1 text-muted\">Yes, you can download Instagram videos for free. Save for a Starbucks coffee with us — saving an unlimited number of videos will cost you nothing.</dd>\\n        <dt class=\"mb-3\" id=\"faq4\">4. Is using IG video downloader legal?</dt>\\n        <dd class=\"space-bottom-1 text-muted\">Yes. We are 100% safe and legal. But the way you use this video matters. If it’s for your personal use, it’s OK. But you can\\'t broadcast it for gaining income. Otherwise, you are to ask the author and mention him or her whenever you use this content.</dd>\\n        <dt class=\"mb-3\" id=\"faq5\">5. Does Insta downloader work on private accounts?</dt>\\n        <dd class=\"space-bottom-1 text-muted\">No. Unfortunately, downloading videos from private accounts is impossible, you can save content only from open, public accounts.</dd>\\n        <dt class=\"mb-3\" id=\"faq6\">6. Where can I find all saved Instagram videos?</dt>\\n        <dd class=\"space-bottom-1 text-muted\">You can find all saved videos in the <b>Downloads</b> folder on your PC (Windows, Mac, iOS). The same is for phone storages. Plus, saved videos will appear in your Gallery immediately.</dd>\\n      </dl>\\n\\n    </div>\\n  </div>\\n  <div id=\"stickyBlockEndPoint\"></div>\\n</div>\\n<!-- End Terms Content Section -->\\n\\n</div>\\n</main>\\n<!-- ========== END MAIN CONTENT ========== -->\\n\\n<!-- ========== FOOTER ========== -->\\n<footer>\\n  <!-- Lists -->\\n  <div class=\"border-bottom border-top\">\\n    <div class=\"container space-bottom-2 \">\\n      <div class=\"row justify-content-md-between\">\\n                  <div class=\"col-12 space-1 text-center text-lg-left\">\\n            <div class=\"dropdown\">\\n              <button class=\"btn btn-white dropdown-toggle lang-dropdown\" type=\"button\" id=\"dropdownMenuButton\" data-toggle=\"dropdown\" aria-haspopup=\"true\" aria-expanded=\"false\">\\n                <span class=\"lang-glob\"><i class=\"fas fa-globe\"></i></span> EN              </button>\\n              <div class=\"dropdown-menu\" aria-labelledby=\"dropdownMenuButton\">\\n                                  <a class=\"dropdown-item\" href=\"/de/downloader/instagram/video/\">DE</a>\\n                                  <a class=\"dropdown-item\" href=\"/downloader/instagram/video/\">EN</a>\\n                              </div>\\n            </div>\\n          </div>\\n                <div class=\"col-6 col-md-3 mb-4 mb-lg-0\">\\n          <p class=\"h6 font-weight-semi-bold text-dark\">Toolzu</p>\\n\\n          <!-- List Group -->\\n          <ul class=\"list-group list-group-flush list-group-borderless mb-0\">\\n                        <li>\\n              <a class=\"list-group-item list-group-item-action\" href=\"/faq/\"> FAQ</a>            </li>\\n            <li>\\n              <a class=\"list-group-item list-group-item-action\" href=\"/tutorials/\"> Tutorials</a>            </li>\\n          </ul>\\n          <!-- End List Group -->\\n        </div>\\n        <div class=\"col-6 col-md-3 mb-4 mb-lg-0\">\\n          <p class=\"h6 font-weight-semi-bold text-dark\">Services for Instagram</p>\\n\\n          <!-- List Group -->\\n          <ul class=\"list-group list-group-flush list-group-borderless mb-0\">\\n            <li>\\n              <a class=\"list-group-item list-group-item-action\" href=\"/hashtag-generator-for-instagram/\"> Hashtag Generator</a>            </li>\\n            <li>\\n              <a class=\"list-group-item list-group-item-action\" href=\"/top-instagram-hashtags/\"> Top Hashtags</a>            </li>\\n            <li>\\n              <a class=\"list-group-item list-group-item-action\" href=\"/downloader/instagram/photo/\"> Photo/Video Downloader</a>            </li>\\n            <li>\\n              <a class=\"list-group-item list-group-item-action\" href=\"/profile-analyzer/instagram/\"> Analyze by Name</a>            </li>\\n            <li><a class=\"list-group-item list-group-item-action\" href=\"/search-instagram-profiles/\"> Search Instagram Profiles</a></li>\\n                      </ul>\\n          <!-- End List Group -->\\n        </div>\\n\\n        <div class=\"col-6 col-md-3 mb-4 mb-lg-0\">\\n          <p class=\"h6 font-weight-semi-bold text-dark\">Tools</p>\\n\\n          <!-- List Group -->\\n          <ul class=\"list-group list-group-flush list-group-borderless mb-0\">\\n            <li>\\n              <a class=\"list-group-item list-group-item-action\" href=\"/image/add-text-to-photo/\"> Add Text to Photo</a>            </li>\\n          </ul>\\n          <!-- End List Group -->\\n        </div>\\n\\n        <div class=\"col-6 col-md-3 mb-4 mb-lg-0\">\\n          <p class=\"h6 font-weight-semi-bold text-dark\">Legal</p>\\n\\n          <!-- List Group -->\\n          <ul class=\"list-group list-group-flush list-group-borderless mb-0\">\\n            <li>\\n              <a class=\"list-group-item list-group-item-action\" href=\"/terms-of-service/\"> Terms of Service</a>            </li>\\n            <li>\\n              <a class=\"list-group-item list-group-item-action\" href=\"/privacy-policy/\"> Privacy Policy</a>            </li>\\n            <li>\\n              <a class=\"list-group-item list-group-item-action\" href=\"/billing-information/\"> Billing Information</a>            </li>\\n            <li>\\n              <a class=\"list-group-item list-group-item-action\" href=\"/refund-and-cancellation-policy/\"> Refund &amp; Cancellation Policy</a>            </li>\\n          </ul>\\n          <!-- End List Group -->\\n        </div>\\n      </div>\\n    </div>\\n  </div>\\n  <!-- End Lists -->\\n\\n  <!-- Copyright -->\\n  <div class=\"container text-center space-1\">\\n    <div class=\"row justify-content-end\">\\n      <div class=\"col-12 text-center text-md-right mb-md-3\">\\n        <ul class=\"list-inline mb-0\">\\n                  </ul>\\n      </div>\\n    </div>\\n    <!-- Logo -->\\n    <a class=\"d-inline-flex align-items-center mb-2\" href=\"/\" aria-label=\"Toolzu\">\\n      <img src=\"/theme/svg/logos/logo-short.svg\" width=\"36px\" height=\"36px\" alt=\"short-logo\">      <span class=\"brand brand-primary\">Toolzu</span>\\n    </a>\\n    <!-- End Logo -->\\n    <p class=\"small text-muted\">Copyright © 2019-2023</p>\\n\\n  </div>\\n  <!-- End Copyright -->\\n</footer>\\n<!-- ========== END FOOTER ========== -->\\n\\n\\n\\n  <script src=\"/theme/vendor/jquery/dist/jquery.min.js?v=1620927001\"></script>\\n<script src=\"/theme/vendor/jquery-migrate/dist/jquery-migrate.min.js?v=1582705136\"></script>\\n<script src=\"/theme/vendor/popper.js/dist/umd/popper.min.js?v=1582705136\"></script>\\n<script src=\"/theme/vendor/hs-megamenu/src/hs.megamenu.min.js?v=1620927001\"></script>\\n<script src=\"/theme/vendor/svg-injector/dist/svg-injector.min.js?v=1582705136\"></script>\\n<script src=\"/theme/vendor/malihu-custom-scrollbar-plugin/jquery.mCustomScrollbar.concat.min.js?v=1582705136\"></script>\\n<script src=\"/theme/vendor/cubeportfolio/js/jquery.cubeportfolio.min.js?v=1582705136\"></script>\\n<script src=\"/theme/vendor/fancybox/jquery.fancybox.min.js?v=1582705136\"></script>\\n<script src=\"/theme/vendor/typed.js/lib/typed.min.js?v=1582705136\"></script>\\n<script src=\"/theme/vendor/slick-carousel/slick/slick.min.js?v=1582705136\"></script>\\n<script src=\"/theme/vendor/bootstrap-select/dist/js/bootstrap-select.min.js?v=1582705136\"></script>\\n<script src=\"/theme/vendor/bootstrap/bootstrap.min.js?v=1618216258\"></script>\\n<script src=\"/assets/89ad7c8f/yii.js?v=1605770139\"></script>\\n<script src=\"/assets/df5eb9b2/js/theme.min.js?v=1669017089\"></script><ins class=\"adsbygoogle adsbygoogle-noablate\" data-adsbygoogle-status=\"done\" style=\"display: none !important;\" data-ad-status=\"unfilled\"><div id=\"aswift_0_host\" style=\"border: none; height: 0px; width: 0px; margin: 0px; padding: 0px; position: relative; visibility: visible; background-color: transparent; display: inline-block;\" tabindex=\"0\" title=\"Advertisement\" aria-label=\"Advertisement\"><iframe id=\"aswift_0\" name=\"aswift_0\" style=\"left:0;position:absolute;top:0;border:0;width:undefinedpx;height:undefinedpx;\" sandbox=\"allow-forms allow-popups allow-popups-to-escape-sandbox allow-same-origin allow-scripts allow-top-navigation-by-user-activation\" frameborder=\"0\" marginwidth=\"0\" marginheight=\"0\" vspace=\"0\" hspace=\"0\" allowtransparency=\"true\" scrolling=\"no\" src=\"https://googleads.g.doubleclick.net/pagead/ads?gdpr=0&amp;us_privacy=1---&amp;client=ca-pub-6494255769646459&amp;output=html&amp;adk=1812271804&amp;adf=3025194257&amp;lmt=1673354354&amp;plat=3%3A65536%2C4%3A65536%2C9%3A32776%2C16%3A8388608%2C17%3A32%2C24%3A32%2C25%3A32%2C30%3A1048576%2C32%3A32%2C41%3A32&amp;format=0x0&amp;url=https%3A%2F%2Ftoolzu.com%2Fdownloader%2Finstagram%2Fvideo%2F&amp;ea=0&amp;pra=5&amp;wgl=1&amp;uach=WyJXaW5kb3dzIiwiMTAuMC4wIiwieDg2IiwiIiwiMTA4LjAuNTM1OS4xMjUiLFtdLGZhbHNlLG51bGwsIjY0IixbWyJOb3Q_QV9CcmFuZCIsIjguMC4wLjAiXSxbIkNocm9taXVtIiwiMTA4LjAuNTM1OS4xMjUiXSxbIkdvb2dsZSBDaHJvbWUiLCIxMDguMC41MzU5LjEyNSJdXSxmYWxzZV0.&amp;dt=1673354354474&amp;bpp=3&amp;bdt=192&amp;idt=190&amp;shv=r20230105&amp;mjsv=m202212010101&amp;ptt=9&amp;saldr=aa&amp;abxe=1&amp;nras=1&amp;correlator=2764363397945&amp;frm=20&amp;pv=2&amp;ga_vid=924887973.1673354355&amp;ga_sid=1673354355&amp;ga_hid=778783547&amp;ga_fc=1&amp;u_tz=-300&amp;u_his=2&amp;u_h=864&amp;u_w=1536&amp;u_ah=824&amp;u_aw=1536&amp;u_cd=24&amp;u_sd=1.25&amp;dmc=8&amp;adx=-12245933&amp;ady=-12245933&amp;biw=1019&amp;bih=674&amp;scr_x=0&amp;scr_y=0&amp;eid=44759876%2C44759927%2C44759837%2C31071367%2C44779793&amp;oid=2&amp;pvsid=28413057606110&amp;tmod=611638430&amp;uas=0&amp;nvt=1&amp;eae=2&amp;fc=1920&amp;brdim=9%2C9%2C9%2C9%2C1536%2C0%2C1051%2C806%2C1036%2C674&amp;vis=1&amp;rsz=%7C%7Cs%7C&amp;abl=NS&amp;fu=32768&amp;bc=31&amp;ifi=1&amp;uci=a!1&amp;fsb=1&amp;dtd=204\" data-google-container-id=\"a!1\" data-load-complete=\"true\"></iframe></div></ins>\\n<script src=\"/assets/df5eb9b2/js/theme-custom.js?v=1669017089\"></script>\\n<script src=\"/assets/df5eb9b2/js/custom/calculator.js?v=1669017089\"></script>\\n<script src=\"/assets/df5eb9b2/js/instagram-downloader.js?v=1669017089\"></script>\\n<script src=\"/assets/89ad7c8f/yii.validation.js?v=1605770139\"></script>\\n<script src=\"/assets/89ad7c8f/yii.activeForm.js?v=1605770139\"></script>\\n<script src=\"/assets/ea7b0120/jquery.pjax.js?v=1605770139\"></script>\\n<script>jQuery(function ($) {\\n\"use strict\";\\n(function() {\\n  const form  = jQuery(\"#\" + \"instagramdownloaderform-recaptcha\").closest(\\'form\\');\\n\\n  async function getReCaptcha() {\\n    await grecaptcha.execute(\\'6LfVYaYUAAAAAD3jLXKKj0wkbokonLGDLlMlrUAq\\', {\\n      action: \\'/downloader/instagram/video/\\'\\n    }).then(function(token) {\\n        jQuery(\"#\" + \"instagramdownloaderform-recaptcha\").val(token);\\n      }\\n    );\\n  }\\n  \\n  form.on(\\'beforeValidate\\', function (e, messages, deferreds) {\\n    deferreds.add(async function(def) {\\n      window.onloadRecaptchaCallbackwegkf79825 = async function() {\\n          await getReCaptcha();\\n          def.resolve();\\n        };\\n      \\n      if (typeof(grecaptcha) == \\'undefined\\') {\\n        const grecaptcha_s = document.createElement(\\'script\\');\\n        grecaptcha_s.src = \\'//www.google.com/recaptcha/api.js?render=6LfVYaYUAAAAAD3jLXKKj0wkbokonLGDLlMlrUAq&onload=onloadRecaptchaCallbackwegkf79825\\';\\n        \\n        const grecaptcha_h = document.getElementsByTagName(\\'script\\')[0];\\n        grecaptcha_h.parentNode.insertBefore(grecaptcha_s,grecaptcha_h);\\n      } else {\\n        onloadRecaptchaCallbackwegkf79825();\\n      }\\n    });\\n  });\\n  \\n  \\n})();\\n\\njQuery(\\'#downloader-form\\').yiiActiveForm([{\"id\":\"instagramdownloaderform-search\",\"name\":\"search\",\"container\":\".field-instagramdownloaderform-search\",\"input\":\"#instagramdownloaderform-search\",\"error\":\".invalid-feedback\",\"validate\":function (attribute, value, messages, deferred, $form) {yii.validation.required(value, messages, {\"message\":\"Search cannot be blank.\"});}}], {\"errorSummary\":\".alert.alert-danger\",\"errorCssClass\":\"is-invalid\",\"successCssClass\":\"is-valid\",\"validationStateOn\":\"input\"});\\njQuery(document).pjax(\"#p0 a\", {\"push\":true,\"replace\":false,\"timeout\":false,\"scrollTo\":false,\"container\":\"#p0\"});\\njQuery(document).off(\"submit\", \"#p0 form[data-pjax]\").on(\"submit\", \"#p0 form[data-pjax]\", function (event) {jQuery.pjax.submit(event, {\"push\":true,\"replace\":false,\"timeout\":false,\"scrollTo\":false,\"container\":\"#p0\"});});\\n$(document).on(\\'click\\', \\'[data-ig-ev]\\', function () {\\n  let obj = Cookies.get(\\'client_event\\');\\n  \\n  if (!obj || typeof obj !== \\'string\\') {\\n    obj = {};\\n  } else {\\n    try {\\n      obj = JSON.parse(obj);\\n    } catch (e) {\\n      obj = {};\\n    }\\n  }\\n  \\n  let eventCode = $(this).data(\\'ig-ev\\');\\n  let eventValue = $(this).data(\\'ig-ev-val\\');\\n  \\n  obj[eventCode] = {\\'path\\': window.location.pathname, \\'value\\': eventValue};\\n  \\n  Cookies.set(\\'client_event\\', obj, { expires: 7 });\\n});\\njQuery(\\'#cabinet-modal\\').modal({\"show\":false});\\n});</script>\\n  \\n<div id=\"cabinet-modal\" class=\"fade modal\" role=\"dialog\" tabindex=\"-1\" aria-hidden=\"true\" aria-labelledby=\"cabinet-modal-label\">\\n<div class=\"modal-dialog\" role=\"document\">\\n<div class=\"modal-content\">\\n<div class=\"modal-header\">\\n<h5 id=\"cabinet-modal-label\" class=\"modal-title\"><div class=\"modal-title\"></div></h5>\\n<button type=\"button\" class=\"close\" data-dismiss=\"modal\"><span aria-hidden=\"true\">×</span></button>\\n</div>\\n<div class=\"modal-body\">\\n\\n</div>\\n\\n</div>\\n</div>\\n</div>\\n  <script>jQuery.event.special.touchstart = {\\n      setup: function( _, ns, handle ){\\n        this.addEventListener(\"touchstart\", handle, { passive: true });\\n      }\\n    };</script>\\n  \\n  \\n<ins class=\"adsbygoogle adsbygoogle-noablate\" data-adsbygoogle-status=\"done\" data-anchor-status=\"displayed\" style=\"display: block; width: 100% !important; height: 129px !important; bottom: 0px; clear: none !important; float: none !important; left: 0px; margin: 0px !important; max-height: none !important; max-width: none !important; opacity: 1; overflow: visible !important; padding: 0px !important; position: fixed; right: auto !important; top: auto !important; vertical-align: baseline !important; visibility: visible !important; z-index: 2147483647; background: rgb(250, 250, 250) !important;\" data-ad-status=\"filled\" data-anchor-shown=\"true\"><div class=\"grippy-host\"></div><div id=\"aswift_4_host\" tabindex=\"0\" title=\"Advertisement\" aria-label=\"Advertisement\" style=\"border: none !important; height: 124px !important; width: 100% !important; margin: 0px !important; padding: 0px !important; position: relative !important; visibility: visible !important; background-color: transparent !important; display: inline-block !important; inset: auto !important; clear: none !important; float: none !important; max-height: none !important; max-width: none !important; opacity: 1 !important; overflow: visible !important; vertical-align: baseline !important; z-index: auto !important;\"><iframe id=\"aswift_4\" name=\"aswift_4\" style=\"width: 1005px !important; height: 124px !important; display: block; margin: 0px auto;\" sandbox=\"allow-forms allow-popups allow-popups-to-escape-sandbox allow-same-origin allow-scripts allow-top-navigation-by-user-activation\" width=\"1005\" height=\"124\" frameborder=\"0\" marginwidth=\"0\" marginheight=\"0\" vspace=\"0\" hspace=\"0\" allowtransparency=\"true\" scrolling=\"no\" src=\"https://googleads.g.doubleclick.net/pagead/html/r20230105/r20110914/zrt_lookup.html?fsb=1#RS-1-&amp;adk=1812271801&amp;client=ca-pub-6494255769646459&amp;fa=1&amp;ifi=5&amp;uci=a!5&amp;btvi=2&amp;xpc=2L1q3BzkOe&amp;p=https%3A//toolzu.com\" data-google-container-id=\"a!5\" data-google-query-id=\"CN-EhN6CvfwCFeG90QQdWTgHkw\" data-load-complete=\"true\"></iframe></div></ins><iframe src=\"https://www.google.com/recaptcha/api2/aframe\" width=\"0\" height=\"0\" style=\"display: none;\"></iframe></body><iframe id=\"google_esf\" name=\"google_esf\" src=\"https://googleads.g.doubleclick.net/pagead/html/r20230105/r20190131/zrt_lookup.html\" style=\"display: none;\"></iframe><ins class=\"adsbygoogle adsbygoogle-noablate\" style=\"display: none !important; width: 100vw !important; height: 100vh !important; inset: 0px auto auto 0px !important; clear: none !important; float: none !important; margin: 0px !important; max-height: none !important; max-width: none !important; opacity: 1 !important; overflow: visible !important; padding: 0px !important; position: fixed !important; vertical-align: baseline !important; visibility: visible !important; z-index: 2147483647 !important; background: transparent !important;\" data-adsbygoogle-status=\"done\" aria-hidden=\"true\" data-ad-status=\"filled\" data-vignette-loaded=\"true\"><div id=\"aswift_3_host\" tabindex=\"0\" title=\"Advertisement\" aria-label=\"Advertisement\" style=\"border: none !important; height: 100vh !important; width: 100vw !important; margin: 0px !important; padding: 0px !important; position: relative !important; visibility: visible !important; background-color: transparent !important; display: inline-block !important; inset: auto !important; clear: none !important; float: none !important; max-height: none !important; max-width: none !important; opacity: 1 !important; overflow: visible !important; vertical-align: baseline !important; z-index: auto !important;\"><iframe id=\"aswift_3\" name=\"aswift_3\" style=\"width: 100vw !important; height: 100vh !important; inset: 0px auto auto 0px !important; position: absolute !important; clear: none !important; display: inline !important; float: none !important; margin: 0px !important; max-height: none !important; max-width: none !important; opacity: 1 !important; overflow: visible !important; padding: 0px !important; vertical-align: baseline !important; visibility: visible !important; z-index: auto !important;\" sandbox=\"allow-forms allow-popups allow-popups-to-escape-sandbox allow-same-origin allow-scripts allow-top-navigation-by-user-activation\" width=\"\" height=\"\" frameborder=\"0\" marginwidth=\"0\" marginheight=\"0\" vspace=\"0\" hspace=\"0\" allowtransparency=\"true\" scrolling=\"no\" src=\"https://googleads.g.doubleclick.net/pagead/html/r20230105/r20110914/zrt_lookup.html?fsb=1#RS-0-&amp;adk=1812271808&amp;client=ca-pub-6494255769646459&amp;fa=8&amp;ifi=4&amp;uci=a!4&amp;xpc=6abaXuZHkR&amp;p=https%3A//toolzu.com\" data-google-container-id=\"a!4\" data-google-query-id=\"CN6EhN6CvfwCFeG90QQdWTgHkw\" data-load-complete=\"true\"></iframe></div></ins>'"
      ]
     },
     "execution_count": 61,
     "metadata": {},
     "output_type": "execute_result"
    }
   ],
   "source": [
    "content"
   ]
  },
  {
   "cell_type": "code",
   "execution_count": null,
   "id": "d36c76c0",
   "metadata": {},
   "outputs": [],
   "source": []
  },
  {
   "cell_type": "code",
   "execution_count": 81,
   "id": "e363f839",
   "metadata": {},
   "outputs": [
    {
     "name": "stderr",
     "output_type": "stream",
     "text": [
      "C:\\Users\\akhil\\AppData\\Local\\Temp\\ipykernel_24944\\1033137836.py:15: DeprecationWarning: executable_path has been deprecated, please pass in a Service object\n",
      "  driver=webdriver.Chrome(ChromeDriverManager().install())\n"
     ]
    },
    {
     "name": "stdout",
     "output_type": "stream",
     "text": [
      "<selenium.webdriver.chrome.webdriver.WebDriver (session=\"9b305cbcbf0d22819b6ce6cd22e2ba3d\")>\n",
      "scrolled\n",
      "ucedd\n",
      "atag [<tbody class=\"video-links\">\n",
      "<tr><td>HD</td><td>mp4</td><td>515.61 KB</td><td><a class=\"btn btn-sm btn-success\" href=\"https://scontent.cdninstagram.com/v/t50.2886-16/324417699_677129817447069_8536504927581747685_n.mp4?_nc_ht=scontent.cdninstagram.com&amp;_nc_cat=109&amp;_nc_ohc=FkOUJpQAf4oAX8tYNXi&amp;edm=AJBgZrYBAAAA&amp;ccb=7-5&amp;oh=00_AfDsyCHTD6q60LEVC9yYnOTLE9Z45VoLiEE_UohB0Eh_kQ&amp;oe=63BF0707&amp;_nc_sid=78c662\" target=\"_blank\"><i class=\"fa fa-download\"></i></a> <a class=\"btn btn-sm btn-warning\" href=\"#\" onclick=\"Dropbox.save('https://scontent.cdninstagram.com/v/t50.2886-16/324417699_677129817447069_8536504927581747685_n.mp4?_nc_ht=scontent.cdninstagram.com&amp;_nc_cat=109&amp;_nc_ohc=FkOUJpQAf4oAX8tYNXi&amp;edm=AJBgZrYBAAAA&amp;ccb=7-5&amp;oh=00_AfDsyCHTD6q60LEVC9yYnOTLE9Z45VoLiEE_UohB0Eh_kQ&amp;oe=63BF0707&amp;_nc_sid=78c662');\"><i class=\"fa fa-dropbox\"></i></a></td></tr>\n",
      "</tbody>, <tbody class=\"video-links\">\n",
      "<tr><td>HD</td><td>jpg</td><td>19.11 KB</td><td><a class=\"btn btn-sm btn-success\" href=\"https://allinonedownloader.com/system/storage/temp/CnG4RsVIiu7_1673366116.jpg\" target=\"_blank\"><i class=\"fa fa-download\"></i></a> <a class=\"btn btn-sm btn-warning\" href=\"#\" onclick=\"Dropbox.save('https://allinonedownloader.com/system/storage/temp/CnG4RsVIiu7_1673366116.jpg');\"><i class=\"fa fa-dropbox\"></i></a></td></tr>\n",
      "</tbody>]\n"
     ]
    }
   ],
   "source": [
    "from selenium import webdriver\n",
    "from selenium.webdriver.common.by import By\n",
    "from selenium.webdriver.support.ui import WebDriverWait\n",
    "from selenium.webdriver.support import expected_conditions as EC \n",
    "import time\n",
    "from webdriver_manager.chrome import ChromeDriverManager\n",
    "import re\n",
    "from bs4 import BeautifulSoup\n",
    "import urllib\n",
    "from selenium.webdriver.common.keys import Keys\n",
    "import requests \n",
    "\n",
    "\n",
    "\n",
    "driver=webdriver.Chrome(ChromeDriverManager().install())\n",
    "driver.get('https://allinonedownloader.com/instagram-video-downloader.php#loading')\n",
    "text_area = driver.find_element(By.CLASS_NAME, \"form-control\")\n",
    "text_area.send_keys(\"https://www.instagram.com/p/CnG4RsVIiu7/\")\n",
    "text_area.send_keys(Keys.ENTER)\n",
    "page_source1 = driver.page_source\n",
    "data = BeautifulSoup(page_source1, 'lxml')\n",
    "print(driver)\n",
    "driver.execute_script(\"window.scrollBy(0,500)\",\"\")\n",
    "print(\"scrolled\")#container space-top-2\n",
    "print(\"ucedd\")\n",
    "\n",
    "time.sleep(10)\n",
    "page_source1 = driver.page_source\n",
    "data = BeautifulSoup(page_source1, 'lxml')\n",
    "#print(data)\n",
    "#btn btn-download\n",
    "\n",
    "mydivs = data.find_all(\"tbody\", {\"class\": \"video-links\"})\n",
    "print(\"atag\",mydivs)"
   ]
  },
  {
   "cell_type": "code",
   "execution_count": 161,
   "id": "81c683d9",
   "metadata": {},
   "outputs": [
    {
     "name": "stderr",
     "output_type": "stream",
     "text": [
      "C:\\Users\\akhil\\AppData\\Local\\Temp\\ipykernel_24944\\3785012251.py:12: DeprecationWarning: executable_path has been deprecated, please pass in a Service object\n",
      "  driver=webdriver.Chrome(ChromeDriverManager().install())\n"
     ]
    },
    {
     "name": "stdout",
     "output_type": "stream",
     "text": [
      "0\n",
      "a_href None\n",
      "sleeping\n",
      "1\n",
      "a_href <a class=\"btn btn-download\" href=\"/dl.php?token=+ixZ6aLy08arfdsQfaMQ81e5Iw9otfQ/mASVg3ReUyhgGRdnXg8lsvUqFV0r5JC+ZzSmstr6jpkBSlbtjV9R+d5CxomBr4Y7Jv0DNfp+HiNewa8LbDySW3p9KhMfLwMSNL4XGufkIDtbrtzAktluMK/2RgZZn7/2XeaNZ034rNKWIt2f2vBqRdzDdl3uosBo3uEroDaupGhvMxD877OCi8QQ7SO2ztfk/UA+9FmCj4gSdHHqXR2oZ0S0okMWHC5kne4ccbUEzB5uNOt16A07i1ZfZY7sssVYInqD8V0tgpmcWywnpkbVO0skC5/0cK7XLSaBOHOpNwioCwjXIB2ou3H9yqnlrgLc322CXHPylVeANBjDsU4DeEMzvrQNcfdNJGs85oR2FqyE3Pvg2bOdWnavl3gcoTrwnUxv433MLp7qJThFfwBRHUXi57CFaLZh57vJhy93SrQQFhcvz174H8POnlIx\"><i aria-hidden=\"true\" class=\"fa fa-download\"></i> Download</a>\n",
      "found\n",
      "atag /dl.php?token=+ixZ6aLy08arfdsQfaMQ81e5Iw9otfQ/mASVg3ReUyhgGRdnXg8lsvUqFV0r5JC+ZzSmstr6jpkBSlbtjV9R+d5CxomBr4Y7Jv0DNfp+HiNewa8LbDySW3p9KhMfLwMSNL4XGufkIDtbrtzAktluMK/2RgZZn7/2XeaNZ034rNKWIt2f2vBqRdzDdl3uosBo3uEroDaupGhvMxD877OCi8QQ7SO2ztfk/UA+9FmCj4gSdHHqXR2oZ0S0okMWHC5kne4ccbUEzB5uNOt16A07i1ZfZY7sssVYInqD8V0tgpmcWywnpkbVO0skC5/0cK7XLSaBOHOpNwioCwjXIB2ou3H9yqnlrgLc322CXHPylVeANBjDsU4DeEMzvrQNcfdNJGs85oR2FqyE3Pvg2bOdWnavl3gcoTrwnUxv433MLp7qJThFfwBRHUXi57CFaLZh57vJhy93SrQQFhcvz174H8POnlIx\n"
     ]
    }
   ],
   "source": [
    "from selenium import webdriver\n",
    "from selenium.webdriver.common.by import By\n",
    "from selenium.webdriver.support.ui import WebDriverWait\n",
    "from selenium.webdriver.support import expected_conditions as EC \n",
    "import time\n",
    "from webdriver_manager.chrome import ChromeDriverManager\n",
    "import re\n",
    "from bs4 import BeautifulSoup\n",
    "import urllib\n",
    "from selenium.webdriver.common.keys import Keys\n",
    "import requests \n",
    "driver=webdriver.Chrome(ChromeDriverManager().install())\n",
    "\n",
    "\n",
    "driver.get('https://vidinsta.app/')\n",
    "text_area = driver.find_element(By.CLASS_NAME, \"form-control\")\n",
    "text_area.send_keys(\"https://www.instagram.com/p/CmOb0PbOzqV/\")\n",
    "text_area.send_keys(Keys.ENTER)\n",
    "page_source1 = driver.page_source\n",
    "data = BeautifulSoup(page_source1, 'html.parser')\n",
    "for i in range(10):\n",
    "    print(i)\n",
    "    page_source1 = driver.page_source\n",
    "    data = BeautifulSoup(page_source1, 'html.parser')\n",
    "    a_href=data.find(\"a\",{\"class\":\"btn btn-download\"})\n",
    "    print(\"a_href\",a_href)\n",
    "    if a_href is not None :\n",
    "        if a_href.get(\"href\"):\n",
    "            print(\"Tag found\")\n",
    "            break\n",
    "    else:\n",
    "        time.sleep(1)\n",
    "        print(\"sleeping\")\n",
    "a_href=data.find(\"a\",{\"class\":\"btn btn-download\"}).get(\"href\")\n",
    "link = \"https://vidinsta.app/\" + a_href\n",
    "new_url = link\n",
    "# Open a new window\n",
    "driver.execute_script(\"window.open('');\")\n",
    "  \n",
    "# Switch to the new window and open new URL\n",
    "driver.switch_to.window(driver.window_handles[1])\n",
    "driver.close()\n",
    "driver.switch_to.window(driver.window_handles[0])\n",
    "driver.get('https://vidinsta.app/')\n",
    "text_area = driver.find_element(By.CLASS_NAME, \"form-control\")\n",
    "\n",
    "\n",
    "text_area.send_keys(\"working\")\n",
    "driver.get(new_url)"
   ]
  },
  {
   "cell_type": "code",
   "execution_count": null,
   "id": "5d79ae0e",
   "metadata": {},
   "outputs": [],
   "source": []
  },
  {
   "cell_type": "code",
   "execution_count": 138,
   "id": "c64bf0aa",
   "metadata": {},
   "outputs": [
    {
     "name": "stdout",
     "output_type": "stream",
     "text": [
      "0\n",
      "1\n",
      "2\n",
      "3\n",
      "4\n",
      "5\n",
      "6\n",
      "7\n",
      "8\n",
      "9\n"
     ]
    }
   ],
   "source": [
    "for i in range(10):\n",
    "    print(i)"
   ]
  },
  {
   "cell_type": "code",
   "execution_count": null,
   "id": "60fa1728",
   "metadata": {},
   "outputs": [],
   "source": []
  },
  {
   "cell_type": "code",
   "execution_count": 163,
   "id": "f2614dfd",
   "metadata": {},
   "outputs": [
    {
     "name": "stderr",
     "output_type": "stream",
     "text": [
      "C:\\Users\\akhil\\AppData\\Local\\Temp\\ipykernel_24944\\1458377624.py:12: DeprecationWarning: executable_path has been deprecated, please pass in a Service object\n",
      "  driver=webdriver.Chrome(ChromeDriverManager().install())\n"
     ]
    },
    {
     "name": "stdout",
     "output_type": "stream",
     "text": [
      "['https://www.instagram.com/p/CmOb0PbOzqV/', 'https://www.instagram.com/p/CmUdburAeB6/', 'https://www.instagram.com/p/CmT3tHbpWKU/']\n"
     ]
    }
   ],
   "source": [
    "from selenium import webdriver\n",
    "from selenium.webdriver.common.by import By\n",
    "from selenium.webdriver.support.ui import WebDriverWait\n",
    "from selenium.webdriver.support import expected_conditions as EC \n",
    "import time\n",
    "from webdriver_manager.chrome import ChromeDriverManager\n",
    "import re\n",
    "from bs4 import BeautifulSoup\n",
    "import urllib\n",
    "from selenium.webdriver.common.keys import Keys\n",
    "import requests \n",
    "driver=webdriver.Chrome(ChromeDriverManager().install())\n",
    "\n",
    "def data():\n",
    "    driver.get('https://vidinsta.app/')\n",
    "    text_area = driver.find_element(By.CLASS_NAME, \"form-control\")\n",
    "    \n",
    "    text_area.send_keys(\"https://www.instagram.com/p/CmOb0PbOzqV/\")\n",
    "    text_area.send_keys(Keys.ENTER)\n",
    "    page_source1 = driver.page_source\n",
    "    data = BeautifulSoup(page_source1, 'html.parser')\n",
    "    for i in range(10):\n",
    "        print(i)\n",
    "        page_source1 = driver.page_source\n",
    "        data = BeautifulSoup(page_source1, 'html.parser')\n",
    "        a_href=data.find(\"a\",{\"class\":\"btn btn-download\"})\n",
    "        print(\"a_href\",a_href)\n",
    "        if a_href is not None :\n",
    "            if a_href.get(\"href\"):\n",
    "                print(\"Tag found\")\n",
    "                break\n",
    "        else:\n",
    "            time.sleep(1)\n",
    "            print(\"sleeping\")\n",
    "    a_href=data.find(\"a\",{\"class\":\"btn btn-download\"}).get(\"href\")\n",
    "    link = \"https://vidinsta.app/\" + a_href\n",
    "    new_url = link\n",
    "    # Open a new window\n",
    "    driver.execute_script(\"window.open('');\")\n",
    "\n",
    "    # Switch to the new window and open new URL\n",
    "    driver.switch_to.window(driver.window_handles[1])\n",
    "    driver.close()\n",
    "    driver.switch_to.window(driver.window_handles[0])\n",
    "    driver.get('https://vidinsta.app/')\n",
    "    text_area = driver.find_element(By.CLASS_NAME, \"form-control\")\n",
    "\n",
    "\n",
    "    text_area.send_keys(\"working\")\n",
    "    driver.get(new_url)\n",
    "  \n",
    "\n",
    "def data1(a):\n",
    "    print(a)\n",
    "\n",
    "link = [\"https://www.instagram.com/p/CmOb0PbOzqV/\", \"https://www.instagram.com/p/CmUdburAeB6/\", \"https://www.instagram.com/p/CmT3tHbpWKU/\"]\n",
    "data1(link)"
   ]
  },
  {
   "cell_type": "code",
   "execution_count": 181,
   "id": "cca00c10",
   "metadata": {
    "scrolled": true
   },
   "outputs": [
    {
     "name": "stderr",
     "output_type": "stream",
     "text": [
      "C:\\Users\\akhil\\AppData\\Local\\Temp\\ipykernel_24944\\1934670333.py:13: DeprecationWarning: executable_path has been deprecated, please pass in a Service object\n",
      "  driver=webdriver.Chrome(ChromeDriverManager().install())\n"
     ]
    },
    {
     "name": "stdout",
     "output_type": "stream",
     "text": [
      "0\n",
      "a_href None\n",
      "sleeping\n",
      "1\n",
      "a_href <a class=\"btn btn-download\" href=\"/dl.php?token=+ixZ6aLy08arfdsQfaMQ81e5Iw9otfQ/mASVg3ReUyhgGRdnXg8lsvUqFV0r5JC+ZzSmstr6jpkBSlbtjV9R+d5CxomBr4Y7Jv0DNfp+HiNewa8LbDySW3p9KhMfLwMSNL4XGufkIDtbrtzAktluMK/2RgZZn7/2XeaNZ034rNKWIt2f2vBqRdzDdl3uosBo3uEroDaupGhvMxD877OCi8QQ7SO2ztfk/UA+9FmCj4gSdHHqXR2oZ0S0okMWHC5kne4ccbUEzB5uNOt16A07i1ZfZY7sssVYInqD8V0tgpmcWywnpkbVO0skC5/0cK7XLSaBOHOpNwioCwjXIB2ou3H9yqnlrgLc322CXHPylVeANBjDsU4DeEMzvrQNcfdNJGs85oR2FqyE3Pvg2bOdWnavl3gcoTrwnUxv433MLp7qJThFfwBRHUXi57CFMOQ25e+dhiskSrQQFhcvz174H8POnlIx\"><i aria-hidden=\"true\" class=\"fa fa-download\"></i> Download</a>\n",
      "Tag found\n",
      "0\n",
      "a_href None\n",
      "sleeping\n",
      "1\n",
      "a_href <a class=\"btn btn-download\" href=\"/dl.php?token=+ixZ6aLy08arfdsQfaMQ81e5Iw9otfQ/mASVg3ReUyhgGRdnXg8lsvUqFV0r5JC+ZzSmstr6jpkBSlbtjV9T+95GwIGGrulWJPoCNvtyHSNbxaIPbTD6M319KRUYLgMQMrsTHubsKjJSr7Dx0ppzdKSWdwtlqKO/E/aBZlfpp8jMb9qV3fd3QsnFY07i4Y1k3KpSkTuSmGp6ehz96Kz7usks3SS9kKak/R86vEWLiJMRYGifNjStFk+j4UIfTFJvlcshWZ4fzx5uNIww6AxkgUxHdsfr58hYTWSk1U8mopjvVyk38izWGkxbSZ7NbczIVUfFJlGbYjPTMBuyGHSkrE3434Hvvj67lmfaV3aDkiiOQG3SyH8ORG8ps+0HfqwYJG8s6IoyGamN1/Ts0fSFQgKQmnUbvD3lo1pI/nrZKIv5KXU1QBxWNizntraAZbNi7ubIjHg0RLpGGx46iEbgUN6KiA0=\"><i aria-hidden=\"true\" class=\"fa fa-download\"></i> Download</a>\n",
      "Tag found\n",
      "0\n",
      "a_href None\n",
      "sleeping\n",
      "1\n",
      "a_href <a class=\"btn btn-download\" href=\"/dl.php?token=+ixZ6aLy08arfdsQfaMQ81e5Iw9otfQ/mASVg3ReUyhgGRdnXg8lsvUqFV0r5JC+Zzegstvyh58cVlGH/kFS+95GwIGGwYdWJf0EN/V3Hi1cy6sOYDb6MHh8KhUeKg8XNrsZGuTqIzZerrDx0ppzdKSWdwtlqKO/E/aBZlfpp8jMb9qV3fd3QsnFY07i4Y1k3KpSkTuSmGp6ehz96Kz7usks3SS9kLOWkWAYvWCrtZIBYGiKNxPeYWuj4UIfTFJvlcshWZ4fzx5uNIww6AxkgUxHdsfr58hYTWSk1Hghv8PGagZQ0BvfdwtTQ7XBYPTcV0fbC2epDQPzfQOyNVq/rEXu5pTTrT67lmfaV3aDkSj5NxnSyH8ORG8ps+0HfqwYJG8s6IoyGamN1/Ts0fSFQgKQmnUbvD3lo1pI/nrZKIv5KXU1QBxWNizntraAZbM34b3MjS80RLpGGx46iEbgUN6KiA0=\"><i aria-hidden=\"true\" class=\"fa fa-download\"></i> Download</a>\n",
      "Tag found\n",
      "0\n",
      "a_href None\n",
      "sleeping\n",
      "1\n",
      "a_href None\n",
      "sleeping\n",
      "2\n",
      "a_href None\n",
      "sleeping\n",
      "3\n",
      "a_href <a class=\"btn btn-download\" href=\"/dl.php?token=+ixZ6aLy08arfdsQfaMQ81e5Iw9otfQ/mASVg3ReUyhgGRdnXg8lsvUqFV0r5JC+Zzegstvyh58cVlGH/kNT/dtAxIKAp+lWIfQHM/NxGCJXwa8ObTSTW359KBUdIQoUNLkXEODoITpYrd3AktluMK/2RgZZn7/2XeaNZ034rNKWIt2f2vBqRdzDdl3uosBo3uEroDaupGhvMxD8776Ci8QQ7SO2zteMxAQS6F62gdYKTnHqSAKSZUXIokMWHC5kne4ccbUEzB5uNOt16A07i1ZfZY7sssVYInqD8V9ksuXfVS479yTWJRwmN5jrVf2QJUj4QFr7FmSlcgitSU6cpXT57JjNhAvM322CXHPylVeIQR7CsU4DeEMzvrQNcfdNJGs85oR2FqyE3Pvg2bOdWnavl3gcoTrwnUxv433MLp7qJThFfwBRHUXi57CFMOQ2sOvJ1HslSrQQFhcvz174H8POnlIx\"><i aria-hidden=\"true\" class=\"fa fa-download\"></i> Download</a>\n",
      "Tag found\n",
      "0\n",
      "a_href None\n",
      "sleeping\n",
      "1\n",
      "a_href <a class=\"btn btn-download\" href=\"/dl.php?token=+ixZ6aLy08arfdsQfaMQ81e5Iw9otfQ/mASVg3ReUyhgGRdnXg8lsvUqFV0r5JC+ZzSmstr6jpkBSlbtjV9R+d5Aw4WOq4U7JfgLNvV3EitewK4IYjGXPRB8LhgdLwoSPL0WEeTqJjVeotapo5ktLev9JjdUo4jqFKida0zivdmMeJCY0PdtWNvWcEj9roMl0uNg2QejmFRtJlnw7rqV8vUd0ROxxYno/WEm1Ha5rZUQFV/zKFWFLTf/wQAXFX4YluY5TJ0v1x1uNOsSrQ061FxFfZ2ltZBVIhWd1npWjvL+PjEy/ALzBk4mQ+TFSPj5N1WIQHGHfWPsIhSCSGCnx1HvxKnrpV/tqCSIBHj35FP9RB3GozcydX8fpLlUe/gWcWs49op4UqOB1fDv1bvaQm7bqHURpif3iHJ5xGDLO5j/NjQIDz9NGm6L4uGDNbFhsuqc138kCroeQBom2hngB4zT2kRuqQ==\"><i aria-hidden=\"true\" class=\"fa fa-download\"></i> Download</a>\n",
      "Tag found\n",
      "0\n",
      "a_href None\n",
      "sleeping\n",
      "1\n",
      "a_href <a class=\"btn btn-download\" href=\"/dl.php?token=+ixZ6aLy08arfdsQfaMQ81e5Iw9otfQ/mASVg3ReUyhgGRdnXg8lsvUqFV0r5JC+ZzSmstr6jpkBSlbtjV9R+tZOxoaGrYQ7I/4ANfN0GChWw60AYjKcW31/KxUYIQ8UN7USGOjrJTFfrdzAktluMK/2RgZZn7/2XeaNZ034rNKWIt2f2vBqRdzDdl3uosBo3uEroDaupGhvMxD87ruCi8QQ7SO2ztea4WMB61yQsa0daHHqSCi9LWPEokMWHC5kne4ccbUEzB5uNOt16A07i1ZfZY7sssVYInqD8V1FnvKZYwUE5xjbLzgkIu3tI83nOmTXLTmcHjXkKQCyGBmjuGPCxLHYqRXc322CXHPylVT+SxvAsU4DeEMzvrQNcfdNJGs85oR2FqyE3Pvg2bOdWnavl3gcoTrwnUxv433MLp7qJThFfwBRHUXi57CFMOQx7uvJh393SrQQFhcvz174H8POnlIx\"><i aria-hidden=\"true\" class=\"fa fa-download\"></i> Download</a>\n",
      "Tag found\n",
      "0\n",
      "a_href None\n",
      "sleeping\n",
      "1\n",
      "a_href None\n",
      "sleeping\n",
      "2\n",
      "a_href None\n",
      "sleeping\n",
      "3\n",
      "a_href None\n",
      "sleeping\n",
      "4\n",
      "a_href <a class=\"btn btn-download\" href=\"/dl.php?token=+ixZ6aLy08arfdsQfaMQ81e5Iw9otfQ/mASVg3ReUyhgGRdnXg8lsvUqFV0r5JC+Zzegstvyh58cVlGH/kNQ+tZDwIeFrelSLf4LM/d3EiNXxaMNZjD6NX95KBgVKwwQNLgVG+DqKjdTorDx0ppzdKSWdwtlqKO/E/aBZlfpp8jMb9qV3fd3QsnFY07i4Y1k3KpSkTuSmGp6ehz95qz7usks3SS9kKePwnw69H6doIcrYGiLFwuEEjej4UIfTFJvlcshWZ4fzx5uNIww6AxkgUxHdsfr58hYTWSk1F5She3pSRQVp1/bMAlBC+jsefHZJlLmKG+mJhv1DTiIBF28pXHyx+nElT67lmfaV3aDkSn6RR/SyH8ORG8ps+0HfqwYJG8s6IoyGamN1/Ts0fSFQgKQmnUbvD3lo1pI/nrZKIv5KXU1QBxWNizntraAZbQz5uiagCs0RLpGGx46iEbgUN6KiA0=\"><i aria-hidden=\"true\" class=\"fa fa-download\"></i> Download</a>\n",
      "Tag found\n",
      "0\n",
      "a_href None\n",
      "sleeping\n",
      "1\n",
      "a_href None\n",
      "sleeping\n",
      "2\n",
      "a_href None\n",
      "sleeping\n",
      "3\n",
      "a_href <a class=\"btn btn-download\" href=\"/dl.php?token=+ixZ6aLy08arfdsQfaMQ81e5Iw9otfQ/mASVg3ReUyhgGRdnXg8lsvUqFV0r5JC+ZzSmstr6jpkBSlbtjV9R+dxGxoiFqo87IvUANfFxHCNdw6wPZjKQW358LxAULAwXNL0VHubrIjZaqd3AktluMK/2RgZZn7/2XeaNZ034rNKWIt2f2vBqRdzDdl3uosBo3uEroDaupGhvMxD87ruCi8QQ7SO2ztet3ksx2HGCu5cKZHHqSTO9YmXBokMWHC5kne4ccbUEzB5uNOt16A07i1ZfZY7sssVYInqD8V8ipPSePRYA2AbADTVzA4jAcfblG3iDRm6OeT7ZMyWVPByGm2Pi7Y/Ijgrc322CXHPylVeBRR3HsU4DeEMzvrQNcfdNJGs85oR2FqyE3Pvg2bOdWnavl3gcoTrwnUxv433MLp7qJThFfwBRHUXi57CFMOQw47zIgCwuSrQQFhcvz174H8POnlIx\"><i aria-hidden=\"true\" class=\"fa fa-download\"></i> Download</a>\n",
      "Tag found\n"
     ]
    }
   ],
   "source": [
    "from selenium import webdriver\n",
    "from selenium.webdriver.common.by import By\n",
    "from selenium.webdriver.support.ui import WebDriverWait\n",
    "from selenium.webdriver.support import expected_conditions as EC \n",
    "import time\n",
    "from webdriver_manager.chrome import ChromeDriverManager\n",
    "import re\n",
    "from bs4 import BeautifulSoup\n",
    "import urllib\n",
    "from selenium.webdriver.common.keys import Keys\n",
    "import requests \n",
    "\n",
    "driver=webdriver.Chrome(ChromeDriverManager().install())\n",
    "\n",
    "def data(a):\n",
    "    for i in a:\n",
    "        driver.get('https://vidinsta.app/')\n",
    "        text_area = driver.find_element(By.CLASS_NAME, \"form-control\")\n",
    "        text_area.send_keys(i)\n",
    "        text_area.send_keys(Keys.ENTER)\n",
    "        page_source1 = driver.page_source\n",
    "        data = BeautifulSoup(page_source1, 'html.parser')\n",
    "        for i in range(15):\n",
    "            print(i)\n",
    "            page_source1 = driver.page_source\n",
    "            data = BeautifulSoup(page_source1, 'html.parser')\n",
    "            a_href=data.find(\"a\",{\"class\":\"btn btn-download\"})\n",
    "            print(\"a_href\",a_href)\n",
    "            if a_href is not None :\n",
    "                if a_href.get(\"href\"):\n",
    "                    print(\"Tag found\")\n",
    "                    break\n",
    "            else:\n",
    "                time.sleep(1)\n",
    "                print(\"sleeping\")\n",
    "        a_href=data.find(\"a\",{\"class\":\"btn btn-download\"}).get(\"href\")\n",
    "        link = \"https://vidinsta.app/\" + a_href\n",
    "        new_url = link\n",
    "        # Open a new window\n",
    "        driver.execute_script(\"window.open('');\")\n",
    "\n",
    "        # Switch to the new window and open new URL\n",
    "        driver.switch_to.window(driver.window_handles[1])\n",
    "        driver.close()\n",
    "        driver.switch_to.window(driver.window_handles[0])\n",
    "        driver.get(new_url)\n",
    "        \n",
    "link = [\"https://www.instagram.com/p/CmOb0PbOzqV/\", \"https://www.instagram.com/p/CmUdburAeB6/\", \"https://www.instagram.com/p/CmT3tHbpWKU/\",\"https://www.instagram.com/p/ClNhFjdhvr0/\",\"https://www.instagram.com/p/CmVDx-Vg2ji/\",\"https://www.instagram.com/reel/Cm-vQFBuSrN/\",\"https://www.instagram.com/p/CmoGVvUvoCj/\",\"https://www.instagram.com/p/Cmlw3D0u9tj/\"]\n",
    "data(link)\n",
    "time.sleep(6)\n",
    "driver.quit()\n",
    "\n",
    "\n"
   ]
  },
  {
   "cell_type": "code",
   "execution_count": 193,
   "id": "b7b8bb40",
   "metadata": {},
   "outputs": [
    {
     "name": "stderr",
     "output_type": "stream",
     "text": [
      "C:\\Users\\akhil\\AppData\\Local\\Temp\\ipykernel_24944\\303792870.py:18: DeprecationWarning: executable_path has been deprecated, please pass in a Service object\n",
      "  driver=webdriver.Chrome(ChromeDriverManager().install())\n"
     ]
    },
    {
     "name": "stdout",
     "output_type": "stream",
     "text": [
      "<html lang=\"en\" translate=\"no\" class=\"notranslate theme-dark\" style=\"--vh:6.74px; --composer-text-size:16px; --message-meta-height:21px; --message-text-size:16px; --color-primary:rgb(135,116,225); --color-primary-opacity:rgba(131,120,219,0.501961); --color-primary-opacity-hover:rgba(131,120,219,0.627451); --color-primary-shade:rgb(123,113,198); --color-primary-shade-rgb:123,113,198; --color-background:rgb(33,33,33); --color-background-compact-menu:rgba(33,33,33,0.866667); --color-background-compact-menu-reactions:rgba(33,33,33,0.866667); --color-background-compact-menu-hover:rgba(0,0,0,0.4); --color-background-secondary:rgb(15,15,15); --color-background-secondary-accent:rgb(16,15,16); --color-background-own:rgb(118,106,200); --color-background-own-apple:rgb(118,106,200); --color-background-selected:rgb(44,44,44); --color-background-own-selected:rgb(101,73,212); --color-chat-hover:rgb(44,44,44); --color-chat-active:rgb(118,106,200); --color-chat-active-greyed:rgb(146,136,211); --color-item-active:rgb(41,41,41); --color-text:rgb(255,255,255); --color-text-secondary:rgb(170,170,170); --color-text-secondary-rgb:170,170,170; --color-icon-secondary:rgb(170,170,170); --color-text-secondary-apple:rgb(170,170,170); --color-borders:rgb(48,48,48); --color-borders-input:rgb(91,91,90); --color-dividers:rgb(59,59,61); --color-links:rgb(135,116,225); --color-gray:rgb(113,117,121); --color-pinned:rgb(112,117,121); --color-default-shadow:rgba(16,16,16,0.611765); --color-light-shadow:rgba(0,0,0,0.25098); --color-green:rgb(135,116,225); --color-text-meta-colored:rgb(131,120,219); --color-reply-hover:rgb(39,39,39); --color-reply-active:rgb(46,47,47); --color-reply-own-hover:rgb(135,117,218); --color-reply-own-hover-apple:rgb(135,117,218); --color-reply-own-active:rgb(145,125,234); --color-reply-own-active-apple:rgb(145,125,234); --color-accent-own:rgb(255,255,255); --color-message-meta-own:rgba(255,255,255,0.533333); --color-own-links:rgb(255,255,255); --color-code:rgb(135,116,225); --color-code-own:rgb(255,255,255); --color-code-bg:rgba(0,0,0,0.501961); --color-code-own-bg:rgba(0,0,0,0.313725); --color-composer-button:rgba(170,170,170,0.8); --color-message-reaction:rgb(43,42,53); --color-message-reaction-hover:rgb(52,49,71); --color-message-reaction-own:rgb(103,92,175); --color-message-reaction-hover-own:rgb(91,82,155); --color-voice-transcribe-button:rgb(42,42,60); --color-voice-transcribe-button-own:rgb(131,115,211); --color-topic-blue:rgb(111,249,240); --color-topic-yellow:rgb(255,214,126); --color-topic-violet:rgb(203,134,219); --color-topic-green:rgb(142,238,152); --color-topic-rose:rgb(255,147,178); --color-topic-red:rgb(251,111,95); --color-topic-grey:rgb(153,153,153);\" data-message-text-size=\"16\"><head><meta charset=\"UTF-8\"><title>Telegram</title><meta name=\"title\" content=\"Telegram Web\"><meta name=\"description\" content=\"Telegram is a cloud-based mobile and desktop messaging app with a focus on security and speed.\"><meta name=\"viewport\" content=\"width=device-width,initial-scale=1,maximum-scale=1,user-scalable=no,shrink-to-fit=no,viewport-fit=cover\"><meta name=\"mobile-web-app-capable\" content=\"yes\"><meta name=\"mobile-web-app-title\" content=\"Telegram Web\"><meta name=\"apple-mobile-web-app-capable\" content=\"yes\"><meta name=\"apple-mobile-web-app-title\" content=\"Telegram Web\"><meta name=\"application-name\" content=\"Telegram Web\"><meta name=\"msapplication-TileColor\" content=\"#2b5797\"><meta name=\"msapplication-config\" content=\"./browserconfig.xml\"><meta name=\"theme-color\" content=\"#212121\"><meta name=\"google\" content=\"notranslate\"><meta property=\"og:type\" content=\"website\"><meta property=\"og:url\" content=\"https://web.telegram.org/z/\"><meta property=\"og:title\" content=\"Telegram Web\"><meta property=\"og:description\" content=\"Telegram is a cloud-based mobile and desktop messaging app with a focus on security and speed.\"><meta property=\"og:image\" content=\"./icon-192x192.png\"><meta property=\"twitter:card\" content=\"summary_large_image\"><meta property=\"twitter:url\" content=\"https://web.telegram.org/z/\"><meta property=\"twitter:title\" content=\"Telegram Web\"><meta property=\"twitter:description\" content=\"Telegram is a cloud-based mobile and desktop messaging app with a focus on security and speed.\"><meta property=\"twitter:image\" content=\"./icon-192x192.png\"><link rel=\"canonical\" href=\"https://web.telegram.org/\"><link rel=\"apple-touch-icon\" sizes=\"180x180\" href=\"./apple-touch-icon.png\"><link rel=\"icon\" href=\"https://web.telegram.org/z/favicon.svg\" type=\"image/svg+xml\"><link rel=\"icon\" type=\"image/png\" sizes=\"16x16\" href=\"https://web.telegram.org/z/favicon-16x16.png\"><link rel=\"icon\" type=\"image/png\" sizes=\"32x32\" href=\"https://web.telegram.org/z/favicon-32x32.png\"><link rel=\"icon\" type=\"image/png\" sizes=\"192x192\" href=\"https://web.telegram.org/z/icon-192x192.png\"><link rel=\"alternate icon\" href=\"https://web.telegram.org/z/favicon.ico\" type=\"image/x-icon\"><link rel=\"manifest\" id=\"the-manifest-placeholder\" href=\"./site.webmanifest\"><script defer=\"defer\" src=\"main.eb6c1049fde28d66e047.js\"></script><link href=\"main.f2260ae906f9ebdee910.css\" rel=\"stylesheet\"><link rel=\"stylesheet\" type=\"text/css\" href=\"https://web.telegram.org/z/1677.03394dca568ea0fe96c1.css\"><link rel=\"stylesheet\" type=\"text/css\" href=\"https://web.telegram.org/z/BundleMain.2c6bc8329d7f052953ae.css\"></head><body class=\"animation-level-2 is-pointer-env\"><noscript><video src=\"./nojs.mp4\" class=\"nojs-video\" muted loop autoplay playsinline disablepictureinpicture></video><h1>Telegram Web</h1><p>Please, enable JavaScript to open the app.</p></noscript><div id=\"root\"><div id=\"UiLoader\" class=\"KD2TsjdEc_LBLsR_ReWT\" style=\"--theme-background-color: #0F0F0F;\"><div class=\"Transition full-height is-auth fade\"><div class=\"Transition__slide--active\"><div id=\"Main\" class=\"left-column-shown left-column-open\"><div id=\"LeftColumn\"><div class=\"Transition push-slide\"><div class=\"Transition__slide--active\"><div id=\"LeftColumn-main\"><div class=\"LeftMainHeader\"><div id=\"LeftMainHeader\" class=\"left-header\"><div class=\"DropdownMenu \"><button type=\"button\" class=\"Button smaller translucent round has-ripple\" aria-label=\"Open menu\" title=\"Open menu\" style=\"\"><div class=\"animated-menu-icon\"></div><div class=\"ripple-container\"></div></button><div class=\"Menu no-selection compact\"><div role=\"presentation\" class=\"bubble menu-container custom-scroll top left with-footer opacity-transition fast\" style=\"transform-origin: left top;\"><div role=\"menuitem\" tabindex=\"0\" class=\"MenuItem compact\"><i class=\"icon-saved-messages\"></i>Saved Messages</div><div role=\"menuitem\" tabindex=\"0\" class=\"MenuItem compact\"><i class=\"icon-archive\"></i><span class=\"menu-item-name\">Archived Chats</span></div><div role=\"menuitem\" tabindex=\"0\" class=\"MenuItem compact\"><i class=\"icon-user\"></i>Contacts</div><div role=\"menuitem\" tabindex=\"0\" class=\"MenuItem compact\"><i class=\"icon-settings\"></i>Settings</div><div role=\"menuitem\" tabindex=\"0\" class=\"MenuItem compact\"><i class=\"icon-darkmode\"></i><span class=\"menu-item-name\">Night Mode</span><label class=\"Switcher no-animation\" title=\"Disable night mode\"><input type=\"checkbox\" id=\"darkmode\"><span class=\"widget\"></span></label></div><div role=\"menuitem\" tabindex=\"0\" class=\"MenuItem compact\"><i class=\"icon-animations\"></i><span class=\"menu-item-name capitalize\">animations</span><label class=\"Switcher\" title=\"Toggle Animations\"><input type=\"checkbox\" id=\"animations\"><span class=\"widget\"></span></label></div><div role=\"menuitem\" tabindex=\"0\" class=\"MenuItem compact\"><i class=\"icon-help\"></i>Telegram Features</div><a tabindex=\"0\" class=\"MenuItem compact\" href=\"https://bugs.telegram.org/?tag_ids=41&amp;sort=time\" target=\"_blank\" rel=\"noopener noreferrer\"><i class=\"icon-bug\"></i>Report Bug</a><a tabindex=\"0\" class=\"MenuItem compact\" href=\"https://web.telegram.org/k/\" target=\"_self\" rel=\"noopener noreferrer\"><i class=\"icon-char-K\" data-char=\"K\"></i>Switch to K Version</a><a tabindex=\"0\" class=\"MenuItem compact\" href=\"https://web.telegram.org/?legacy=1\" target=\"_self\" rel=\"noopener noreferrer\"><i class=\"icon-char-W\" data-char=\"W\"></i>Switch to Old Version</a><div role=\"menuitem\" tabindex=\"0\" class=\"MenuItem compact\"><i class=\"icon-install\"></i>Install App</div><div class=\"footer\">Telegram WebZ 1.58.10</div></div></div></div><div class=\"SearchInput\"><input id=\"telegram-search-input\" type=\"text\" dir=\"auto\" placeholder=\"Search\" class=\"form-control\" autocomplete=\"off\"><i class=\"icon-search\"></i></div></div></div><div class=\"Transition zoom-fade\"><div class=\"Transition__slide--active\"><div class=\"ChatFolders\"><div class=\"Transition slide-optimized\"><div class=\"Transition__slide--active\" style=\"transition: none 0s ease 0s; transform: translate3d(0px, 0px, 0px);\"><div class=\"chat-list custom-scroll\"><div style=\"position: relative;\"><div class=\"ListItem Chat chat-item-clickable private no-selection has-ripple\" data-offset-collapse-delta=\"0\" style=\"top: 0px;\"><div class=\"ListItem-button\" role=\"button\" tabindex=\"0\"><div class=\"status\"><div class=\"Avatar size-large color-bg-1\"><img src=\"blob:https://web.telegram.org/f61a9af3-5519-4813-a613-c7f8c44305ea\" class=\"Avatar__media avatar-media opacity-transition slow open shown\" alt=\"Telegram\" decoding=\"async\"></div><div class=\"avatar-badge-wrapper\"></div></div><div class=\"info\"><div class=\"info-row\"><div class=\"title ysHMmXALnn0fgFRc7Bn7\"><h3 dir=\"auto\" class=\"fullName\">Telegram</h3><span class=\"VerifiedIcon\"><svg xmlns=\"http://www.w3.org/2000/svg\" viewBox=\"0 0 24 24\"><path d=\"M12.3 2.9c.1.1.2.1.3.2.7.6 1.3 1.1 2 1.7.3.2.6.4.9.4.9.1 1.7.2 2.6.2.5 0 .6.1.7.7.1.9.1 1.8.2 2.6 0 .4.2.7.4 1 .6.7 1.1 1.3 1.7 2 .3.4.3.5 0 .8-.5.6-1.1 1.3-1.6 1.9-.3.3-.5.7-.5 1.2-.1.8-.2 1.7-.2 2.5 0 .4-.2.5-.6.6-.8 0-1.6.1-2.5.2-.5 0-1 .2-1.4.5-.6.5-1.3 1.1-1.9 1.6-.3.3-.5.3-.8 0-.7-.6-1.4-1.2-2-1.8-.3-.2-.6-.4-.9-.4-.9-.1-1.8-.2-2.7-.2-.4 0-.5-.2-.6-.5 0-.9-.1-1.7-.2-2.6 0-.4-.2-.8-.4-1.1-.6-.6-1.1-1.3-1.6-2-.4-.4-.3-.5 0-1 .6-.6 1.1-1.3 1.7-1.9.3-.3.4-.6.4-1 0-.8.1-1.6.2-2.5 0-.5.1-.6.6-.6.9-.1 1.7-.1 2.6-.2.4 0 .7-.2 1-.4.7-.6 1.4-1.2 2.1-1.7.1-.2.3-.3.5-.2z\" style=\"fill: var(--color-fill)\"></path><path class=\"lol\" d=\"M16.4 10.1l-.2.2-5.4 5.4c-.1.1-.2.2-.4 0l-2.6-2.6c-.2-.2-.1-.3 0-.4.2-.2.5-.6.7-.6.3 0 .5.4.7.6l1.1 1.1c.2.2.3.2.5 0l4.3-4.3c.2-.2.4-.3.6 0 .1.2.3.3.4.5.2 0 .3.1.3.1z\" style=\"fill: var(--color-checkmark)\"></path></svg></span></div><div class=\"separator\"></div><div class=\"LastMessageMeta\"><span class=\"time\">01:59 PM</span></div></div><div class=\"subtitle\"><p class=\"last-message shared-canvas-container\" dir=\"ltr\"><canvas class=\"shared-canvas\"></canvas><canvas class=\"shared-canvas\"></canvas>Telegram Web Z was updated to version 1.58\n",
      "\n",
      "<div class=\"_cPVRYXabaTi4NzwuAuv custom-emoji emoji ATlIbx7wziKC9hp9tIjf\" data-entity-type=\"MessageEntityCustomEmoji\" data-document-id=\"5471921242866981303\" data-alt=\"👏\"><img class=\"AiczWP5U5KsV643i4Fkw\" src=\"https://web.telegram.org/z/blank.8dd283bceccca95a48d8.png\" draggable=\"false\" alt=\"👏\"><img src=\"data:image/svg+xml;utf8,<?xml version=&quot;1.0&quot; encoding=&quot;utf-8&quot;?><svg fill=&quot;white&quot; version=&quot;1.1&quot; xmlns=&quot;http://www.w3.org/2000/svg&quot; xmlns:xlink=&quot;http://www.w3.org/1999/xlink&quot; viewBox=&quot;0 0 512 512&quot; xml:space=&quot;preserve&quot;><path fill-opacity=&quot;0.1&quot; d=&quot;M358,471c-13,3-14-10-22-15-8-4-25,7-34-1-11-11-19-27-31-37-11-9-40-8-54-14-34-16-128-98-138-135-12-43,36-3,10-39-17-23-19-46,11-49,1,0-13-21-6-33,11-18,25-5,38-3,9,1,10-21,23-22,7,0,20,9,24,9,3,0,6-6,10-7,34-5,48,42,75,51,5,2,12-12,23-5,8,6,12,21,19,25,6,2,1-13,3-18,4-11,16-26,28-20,15,6,17,32,24,45,12,22,33,38,40,63,4,17,0,58,6,70,8,13,36,22,39,37,11,45-46,98-88,98z&quot; /></svg>\" class=\"JutR25BuG9LYhLOr69Ix RHoYaU19YySGCcA_Zhrs a51PrE1gNHtEZTsTv199 opacity-transition slow open shown\" alt=\"\"></div> Harder\n",
      "• Topics in groups are now...</p><div class=\"Badge-transition open shown\"><div class=\"Badge unread\"><span class=\"Tx2CpCmpZZrHnCMUksg2\"><span>2</span></span></div></div></div></div><div class=\"ripple-container\"></div></div></div><div class=\"ListItem Chat chat-item-clickable private selected no-selection has-ripple\" data-offset-collapse-delta=\"0\" style=\"top: 72px;\"><div class=\"ListItem-button\" role=\"button\" tabindex=\"0\"><div class=\"status\"><div class=\"Avatar size-large color-bg-7 saved-messages\"><i class=\"Avatar__icon icon-avatar-saved-messages\" role=\"img\" aria-label=\"agnos\"></i></div><div class=\"avatar-badge-wrapper\"></div></div><div class=\"info\"><div class=\"info-row\"><div class=\"title ysHMmXALnn0fgFRc7Bn7\"><h3>Saved Messages</h3></div><div class=\"separator\"></div><div class=\"LastMessageMeta\"><div class=\"MessageOutgoingStatus\"><div class=\"Transition reveal\"><div class=\"Transition__slide--active\"><i class=\"icon-message-succeeded\"></i></div></div></div><span class=\"time\">01:45 PM</span></div></div><div class=\"subtitle\"><p class=\"last-message shared-canvas-container\" dir=\"ltr\"><span>df</span></p></div></div><div class=\"ripple-container\"></div></div></div><div class=\"ListItem Chat chat-item-clickable group no-selection has-ripple\" data-offset-collapse-delta=\"0\" style=\"top: 144px;\"><div class=\"ListItem-button\" role=\"button\" tabindex=\"0\"><div class=\"status\"><div class=\"Avatar size-large color-bg-4\"><img src=\"blob:https://web.telegram.org/3c3b4f20-7630-43a3-9c9f-b6185c1cf58a\" class=\"Avatar__media avatar-media opacity-transition slow open shown\" alt=\"𝐅𝐫𝐞𝐞 𝐁𝐚𝐫𝐭𝐥𝐞𝐛𝐲 𝐔𝐧𝐥𝐨𝐜𝐤𝐬\" decoding=\"async\"></div><div class=\"avatar-badge-wrapper\"></div></div><div class=\"info\"><div class=\"info-row\"><div class=\"title ysHMmXALnn0fgFRc7Bn7\"><h3 dir=\"auto\" class=\"fullName\">𝐅𝐫𝐞𝐞 𝐁𝐚𝐫𝐭𝐥𝐞𝐛𝐲 𝐔𝐧𝐥𝐨𝐜𝐤𝐬</h3></div><i class=\"icon-muted\"></i><div class=\"separator\"></div><div class=\"LastMessageMeta\"><span class=\"time\">11:48 AM</span></div></div><div class=\"subtitle\"><p class=\"last-message shared-canvas-container\" dir=\"ltr\"><span class=\"sender-name\">ALLFacilitiesBØT<img src=\"./img-apple-64/1f535.png\" class=\"emoji emoji-small\" alt=\"🔵\" data-path=\"./img-apple-64/1f535.png\"></span><span class=\"colon\">:</span><span><img src=\"./img-apple-64/1f4ce.png\" class=\"emoji emoji-small opacity-transition slow shown open\" alt=\"📎\" data-path=\"./img-apple-64/1f4ce.png\"> <img src=\"./img-apple-64/1f508.png\" class=\"emoji emoji-small opacity-transition slow shown open\" alt=\"🔈\" data-path=\"./img-apple-64/1f508.png\"> Sourav Dutta\n",
      "\n",
      "Your Answer <img src=\"./img-apple-64/1f4e5.png\" class=\"emoji emoji-small opacity-transition slow shown open\" alt=\"📥\" data-path=\"./img-apple-64/1f4e5.png\"><img src=\"./img-apple-64/1f4e5.png\" class=\"emoji emoji-small opacity-transition slow shown open\" alt=\"📥\" data-path=\"./img-apple-64/1f4e5.png\">\n",
      "\n",
      "<img src=\"./img-apple-64/1f530.png\" class=\"emoji emoji-small opacity-transition slow shown open\" alt=\"🔰\" data-path=\"./img-apple-64/1f530.png\"> Join Channel :\n",
      " @All_facilities \n",
      "\n",
      "\n",
      "<img src=\"./img-apple-64/1f6d1.png\" class=\"emoji emoji-small opacity-transition slow shown open\" alt=\"🛑\" data-path=\"./img-apple-64/1f6d1.png\"> P...</span></p><div class=\"Badge-transition open shown\"><div class=\"Badge muted unread\"><span class=\"Tx2CpCmpZZrHnCMUksg2\"><span>1</span><span>,</span><span>5</span><span>K</span></span></div></div></div></div><div class=\"ripple-container\"></div></div></div><div class=\"ListItem Chat chat-item-clickable group no-selection has-ripple\" data-offset-collapse-delta=\"0\" style=\"top: 216px;\"><div class=\"ListItem-button\" role=\"button\" tabindex=\"0\"><div class=\"status\"><div class=\"Avatar size-large color-bg-5\"><img src=\"blob:https://web.telegram.org/20d4ba89-a5ae-4cc2-b1ae-29fcd080d6cf\" class=\"Avatar__media avatar-media opacity-transition slow open shown\" alt=\"Free Chegg Bartleby unlock\" decoding=\"async\"></div><div class=\"avatar-badge-wrapper\"></div></div><div class=\"info\"><div class=\"info-row\"><div class=\"title ysHMmXALnn0fgFRc7Bn7\"><h3 dir=\"auto\" class=\"fullName\">Free Chegg Bartleby unlock</h3></div><i class=\"icon-muted\"></i><div class=\"separator\"></div><div class=\"LastMessageMeta\"><span class=\"time\">06:37 AM</span></div></div><div class=\"subtitle\"><p class=\"last-message shared-canvas-container\" dir=\"ltr\"><span class=\"sender-name\">Yin</span><span class=\"colon\">:</span><span>https://www.coursehero.com/file/83379848/ACTIVITY-9-STSdocx/</span></p><div class=\"Badge-transition open shown\"><div class=\"Badge muted unread\"><span class=\"Tx2CpCmpZZrHnCMUksg2\"><span>3</span><span>3</span><span>8</span></span></div></div></div></div><div class=\"ripple-container\"></div></div></div><div class=\"ListItem Chat chat-item-clickable private no-selection has-ripple\" data-offset-collapse-delta=\"0\" style=\"top: 288px;\"><div class=\"ListItem-button\" role=\"button\" tabindex=\"0\"><div class=\"status\"><div class=\"Avatar size-large color-bg-8 no-photo\" aria-label=\"Texas A&amp;M mech\">TA</div><div class=\"avatar-badge-wrapper\"></div></div><div class=\"info\"><div class=\"info-row\"><div class=\"title ysHMmXALnn0fgFRc7Bn7\"><h3 dir=\"auto\" class=\"fullName\">Texas A&amp;M mech</h3></div><div class=\"separator\"></div><div class=\"LastMessageMeta\"><span class=\"time\">Fri</span></div></div><div class=\"subtitle\"><p class=\"last-message shared-canvas-container\" dir=\"ltr\">Texas A&amp;M mech joined Telegram</p><div class=\"Badge-transition open shown\"><div class=\"Badge unread\"><span class=\"Tx2CpCmpZZrHnCMUksg2\"><span>1</span></span></div></div></div></div><div class=\"ripple-container\"></div></div></div><div class=\"ListItem Chat chat-item-clickable group no-selection has-ripple\" data-offset-collapse-delta=\"0\" style=\"top: 360px;\"><div class=\"ListItem-button\" role=\"button\" tabindex=\"0\"><div class=\"status\"><div class=\"Avatar size-large color-bg-1\"><img src=\"blob:https://web.telegram.org/5e927c1a-3178-4066-803e-939984c4fa53\" class=\"Avatar__media avatar-media opacity-transition slow open shown\" alt=\"CHEGG SOLUTIONS AND UPVOTES\" decoding=\"async\"></div><div class=\"avatar-badge-wrapper\"></div></div><div class=\"info\"><div class=\"info-row\"><div class=\"title ysHMmXALnn0fgFRc7Bn7\"><h3 dir=\"auto\" class=\"fullName\">CHEGG SOLUTIONS AND UPVOTES</h3></div><div class=\"separator\"></div><div class=\"LastMessageMeta\"><span class=\"time\">Thu</span></div></div><div class=\"subtitle\"><p class=\"last-message shared-canvas-container\" dir=\"ltr\"><span><img src=\"./img-apple-64/2728.png\" class=\"emoji emoji-small opacity-transition slow shown open\" alt=\"✨\" data-path=\"./img-apple-64/2728.png\"><img src=\"./img-apple-64/2728.png\" class=\"emoji emoji-small opacity-transition slow shown open\" alt=\"✨\" data-path=\"./img-apple-64/2728.png\"><img src=\"./img-apple-64/2728.png\" class=\"emoji emoji-small opacity-transition slow shown open\" alt=\"✨\" data-path=\"./img-apple-64/2728.png\">BOTS LIST<img src=\"./img-apple-64/2728.png\" class=\"emoji emoji-small opacity-transition slow shown open\" alt=\"✨\" data-path=\"./img-apple-64/2728.png\"><img src=\"./img-apple-64/2728.png\" class=\"emoji emoji-small opacity-transition slow shown open\" alt=\"✨\" data-path=\"./img-apple-64/2728.png\"><img src=\"./img-apple-64/2728.png\" class=\"emoji emoji-small opacity-transition slow shown open\" alt=\"✨\" data-path=\"./img-apple-64/2728.png\">\n",
      "\n",
      "Bot : @CHEGVIPBOT - Working to unblurr Chegg Solutions\n",
      "\n",
      "Bot : @...</span></p><div class=\"Badge-transition open shown\"><div class=\"Badge unread\"><span class=\"Tx2CpCmpZZrHnCMUksg2\"><span>8</span></span></div></div></div></div><div class=\"ripple-container\"></div></div></div><div class=\"ListItem Chat chat-item-clickable private no-selection has-ripple\" data-offset-collapse-delta=\"0\" style=\"top: 432px;\"><div class=\"ListItem-button\" role=\"button\" tabindex=\"0\"><div class=\"status\"><div class=\"Avatar size-large color-bg-1 no-photo\" aria-label=\"Anushur USA Blockley\">AU</div><div class=\"avatar-badge-wrapper\"></div></div><div class=\"info\"><div class=\"info-row\"><div class=\"title ysHMmXALnn0fgFRc7Bn7\"><h3 dir=\"auto\" class=\"fullName\">Anushur USA Blockley</h3></div><div class=\"separator\"></div><div class=\"LastMessageMeta\"><span class=\"time\">Dec 30, 2022</span></div></div><div class=\"subtitle\"><p class=\"last-message shared-canvas-container\" dir=\"ltr\">Anushur USA Blockley joined Telegram</p><div class=\"Badge-transition open shown\"><div class=\"Badge unread\"><span class=\"Tx2CpCmpZZrHnCMUksg2\"><span>1</span></span></div></div></div></div><div class=\"ripple-container\"></div></div></div><div class=\"ListItem Chat chat-item-clickable private no-selection has-ripple\" data-offset-collapse-delta=\"0\" style=\"top: 504px;\"><div class=\"ListItem-button\" role=\"button\" tabindex=\"0\"><div class=\"status\"><div class=\"Avatar size-large color-bg-8\"><img src=\"blob:https://web.telegram.org/119b85b2-d135-4f8b-a603-3d73645f1285\" class=\"Avatar__media avatar-media opacity-transition slow open shown\" alt=\"VIP Free Solutions\" decoding=\"async\"></div><div class=\"avatar-badge-wrapper\"></div></div><div class=\"info\"><div class=\"info-row\"><div class=\"title ysHMmXALnn0fgFRc7Bn7\"><h3 dir=\"auto\" class=\"fullName\">VIP Free Solutions</h3></div><div class=\"separator\"></div><div class=\"LastMessageMeta\"><span class=\"time\">Dec 1, 2022</span></div></div><div class=\"subtitle\"><p class=\"last-message shared-canvas-container\" dir=\"ltr\"><span>Process to start using bot:\n",
      "\n",
      "STEP 1: Click on \"FOLLOW ON INSTAGRAM\" button below...</span></p></div></div><div class=\"ripple-container\"></div></div></div><div class=\"ListItem Chat chat-item-clickable private no-selection has-ripple\" data-offset-collapse-delta=\"0\" style=\"top: 576px;\"><div class=\"ListItem-button\" role=\"button\" tabindex=\"0\"><div class=\"status\"><div class=\"Avatar size-large color-bg-4\"><img src=\"blob:https://web.telegram.org/8eb60377-e129-4ab1-8211-f72474de0bd7\" class=\"Avatar__media avatar-media opacity-transition slow open shown\" alt=\"Bartleby VIP Bot\" decoding=\"async\"></div><div class=\"avatar-badge-wrapper\"></div></div><div class=\"info\"><div class=\"info-row\"><div class=\"title ysHMmXALnn0fgFRc7Bn7\"><h3 dir=\"auto\" class=\"fullName\">Bartleby VIP Bot</h3></div><div class=\"separator\"></div><div class=\"LastMessageMeta\"><span class=\"time\">Dec 1, 2022</span></div></div><div class=\"subtitle\"><p class=\"last-message shared-canvas-container\" dir=\"ltr\"><span>NEW FREE BOT FOR YOU All\n",
      "\n",
      "It provide\n",
      "\n",
      "STUDY.COM\n",
      "BARTLEBY.COM\n",
      "SOLUTIONINN.com\n",
      "\n",
      "so...</span></p></div></div><div class=\"ripple-container\"></div></div></div><div class=\"ListItem Chat chat-item-clickable private no-selection has-ripple\" data-offset-collapse-delta=\"0\" style=\"top: 648px;\"><div class=\"ListItem-button\" role=\"button\" tabindex=\"0\"><div class=\"status\"><div class=\"Avatar size-large color-bg-8\"><img src=\"blob:https://web.telegram.org/6ae3cd7b-3188-4761-ae2b-1f1ae31037f3\" class=\"Avatar__media avatar-media opacity-transition slow open shown\" alt=\"Bigcarrier Fear\" decoding=\"async\"></div><div class=\"avatar-badge-wrapper\"></div></div><div class=\"info\"><div class=\"info-row\"><div class=\"title ysHMmXALnn0fgFRc7Bn7\"><h3 dir=\"auto\" class=\"fullName\">Bigcarrier Fear</h3></div><div class=\"separator\"></div><div class=\"LastMessageMeta\"><span class=\"time\">Dec 1, 2022</span></div></div><div class=\"subtitle\"><p class=\"last-message shared-canvas-container\" dir=\"ltr\"><span>Wsp</span></p></div></div><div class=\"ripple-container\"></div></div></div></div></div></div></div></div></div></div><div class=\"NewChatButton\"><button type=\"button\" class=\"Button default primary round\" aria-label=\"New Message\" title=\"New Message\" tabindex=\"-1\" style=\"\"><i class=\"icon-new-chat-filled\"></i><i class=\"icon-close\"></i></button><div class=\"Menu no-selection compact\"><div role=\"presentation\" class=\"bubble menu-container custom-scroll bottom right opacity-transition fast\" style=\"transform-origin: right bottom;\"><div role=\"menuitem\" tabindex=\"0\" class=\"MenuItem compact\"><i class=\"icon-channel\"></i>New Channel</div><div role=\"menuitem\" tabindex=\"0\" class=\"MenuItem compact\"><i class=\"icon-group\"></i>New Group</div><div role=\"menuitem\" tabindex=\"0\" class=\"MenuItem compact\"><i class=\"icon-user\"></i>New Message</div></div></div></div></div></div></div><div class=\"resize-handle\"></div></div><div id=\"MiddleColumn\" class=\"mask-image-disabled\" style=\"--composer-hidden-scale: 0.974125; --toolbar-hidden-scale: 1.02656; --unpin-hidden-scale: 1.9845; --toolbar-unpin-hidden-scale: 0.503906; --composer-translate-x: 32.85px; --toolbar-translate-x: -31.172px; --pattern-color: #0A0A0A8C; --theme-background-color: #0F0F0F;\"><div class=\"ON5E8MkEVA1mAlkuIxhG OWFg9Wf1uioPWDz_IgS8\"></div><div id=\"middle-column-portals\"></div><div class=\"messages-layout\"><div class=\"MiddleHeader\"><div class=\"Transition slide-fade\"><div class=\"Transition__slide--active\"><div class=\"chat-info-wrapper\"><div class=\"ChatInfo\"><div class=\"Avatar size-medium color-bg-7 saved-messages interactive\"><i class=\"Avatar__icon icon-avatar-saved-messages\" role=\"img\" aria-label=\"agnos\"></i></div><div class=\"info\"><div class=\"title ysHMmXALnn0fgFRc7Bn7\"><h3>Saved Messages</h3></div></div></div></div></div></div><div class=\"header-tools\"><div class=\"HeaderActions\"><button type=\"button\" class=\"Button smaller translucent round\" aria-label=\"Search in this chat\" title=\"Search in this chat\" style=\"\"><i class=\"icon-search\"></i></button><button type=\"button\" class=\"Button smaller translucent round has-ripple\" aria-label=\"More actions\" title=\"More actions\" style=\"\"><i class=\"icon-more\"></i><div class=\"ripple-container\"></div></button></div></div></div><div class=\"Transition slide\"><div class=\"Transition__slide--active\"><div class=\"MessageList custom-scroll with-default-bg\" data-normal-height=\"534\"><div class=\"messages-container\"><div class=\"backwards-trigger\"></div><div class=\"message-date-group\"><div class=\"sticky-date interactive\"><span dir=\"auto\">Today</span></div><div id=\"message17\" class=\"Message message-list-item first-in-group own open shown\" data-message-id=\"17\"><div class=\"bottom-marker\" data-message-id=\"17\"></div><div class=\"message-select-control\"></div><div class=\"message-content-wrapper can-select-text\"><div class=\"message-content text has-shadow has-solid-background\" dir=\"auto\" style=\"\"><div class=\"content-inner\" dir=\"auto\"><div class=\"text-content with-meta with-outgoing-icon\" dir=\"auto\">Hii<span class=\"MessageMeta\" dir=\"ltr\" data-ignore-on-paste=\"true\"><span class=\"message-time\">01:25 PM</span><div class=\"MessageOutgoingStatus\"><div class=\"Transition reveal\"><div class=\"Transition__slide--active\"><i class=\"icon-message-succeeded\"></i></div></div></div></span></div></div><div class=\"quick-reaction\"><img class=\"ReactionStaticEmoji opacity-transition slow open shown\" src=\"blob:https://web.telegram.org/8fa0c104-5a0f-4d6b-ae99-6ef54966adca\" alt=\"Thumbs Up\" style=\"width: 28px; height: 28px;\"></div></div></div></div><div id=\"message18\" class=\"Message message-list-item own open shown\" data-message-id=\"18\"><div class=\"bottom-marker\" data-message-id=\"18\"></div><div class=\"message-select-control\"></div><div class=\"message-content-wrapper can-select-text\"><div class=\"message-content text has-shadow has-solid-background\" dir=\"auto\" style=\"\"><div class=\"content-inner\" dir=\"auto\"><div class=\"text-content with-meta with-outgoing-icon\" dir=\"auto\">wedf<span class=\"MessageMeta\" dir=\"ltr\" data-ignore-on-paste=\"true\"><span class=\"message-time\">01:27 PM</span><div class=\"MessageOutgoingStatus\"><div class=\"Transition reveal\"><div class=\"Transition__slide--active\"><i class=\"icon-message-succeeded\"></i></div></div></div></span></div></div><div class=\"quick-reaction\"><img class=\"ReactionStaticEmoji opacity-transition slow open shown\" src=\"blob:https://web.telegram.org/8fa0c104-5a0f-4d6b-ae99-6ef54966adca\" alt=\"Thumbs Up\" style=\"width: 28px; height: 28px;\"></div></div></div></div><div id=\"message19\" class=\"Message message-list-item last-in-group own open shown\" data-message-id=\"19\"><div class=\"bottom-marker\" data-message-id=\"19\"></div><div class=\"message-select-control\"></div><div class=\"message-content-wrapper can-select-text\"><div class=\"message-content text has-shadow has-solid-background has-appendix\" dir=\"auto\" style=\"\"><div class=\"content-inner\" dir=\"auto\"><div class=\"text-content with-meta with-outgoing-icon\" dir=\"auto\">wef<span class=\"MessageMeta\" dir=\"ltr\" data-ignore-on-paste=\"true\"><span class=\"message-time\">01:27 PM</span><div class=\"MessageOutgoingStatus\"><div class=\"Transition reveal\"><div class=\"Transition__slide--active\"><i class=\"icon-message-succeeded\"></i></div></div></div></span></div></div><div class=\"svg-appendix\"><svg width=\"9\" height=\"20\" xmlns=\"http://www.w3.org/2000/svg\"><defs><filter x=\"-50%\" y=\"-14.7%\" width=\"200%\" height=\"141.2%\" filterUnits=\"objectBoundingBox\" id=\"a\"><feOffset dy=\"1\" in=\"SourceAlpha\" result=\"shadowOffsetOuter1\"></feOffset><feGaussianBlur stdDeviation=\"1\" in=\"shadowOffsetOuter1\" result=\"shadowBlurOuter1\"></feGaussianBlur><feColorMatrix values=\"0 0 0 0 0.0621962482 0 0 0 0 0.138574144 0 0 0 0 0.185037364 0 0 0 0.15 0\" in=\"shadowBlurOuter1\"></feColorMatrix></filter></defs><g fill=\"none\" fill-rule=\"evenodd\"><path d=\"M6 17H0V0c.193 2.84.876 5.767 2.05 8.782.904 2.325 2.446 4.485 4.625 6.48A1 1 0 016 17z\" fill=\"#000\" filter=\"url(#a)\"></path><path d=\"M6 17H0V0c.193 2.84.876 5.767 2.05 8.782.904 2.325 2.446 4.485 4.625 6.48A1 1 0 016 17z\" fill=\"#EEFFDE\" class=\"corner\"></path></g></svg></div><div class=\"quick-reaction\"><img class=\"ReactionStaticEmoji opacity-transition slow open shown\" src=\"blob:https://web.telegram.org/8fa0c104-5a0f-4d6b-ae99-6ef54966adca\" alt=\"Thumbs Up\" style=\"width: 28px; height: 28px;\"></div></div></div></div><div id=\"message20\" class=\"Message message-list-item first-in-group own open shown\" data-message-id=\"20\"><div class=\"bottom-marker\" data-message-id=\"20\"></div><div class=\"message-select-control\"></div><div class=\"message-content-wrapper can-select-text\"><div class=\"message-content text has-shadow has-solid-background\" dir=\"auto\" style=\"\"><div class=\"content-inner\" dir=\"auto\"><div class=\"text-content with-meta with-outgoing-icon\" dir=\"auto\">df<span class=\"MessageMeta\" dir=\"ltr\" data-ignore-on-paste=\"true\"><span class=\"message-time\">01:44 PM</span><div class=\"MessageOutgoingStatus\"><div class=\"Transition reveal\"><div class=\"Transition__slide--active\"><i class=\"icon-message-succeeded\"></i></div></div></div></span></div></div><div class=\"quick-reaction\"><img class=\"ReactionStaticEmoji opacity-transition slow open shown\" src=\"blob:https://web.telegram.org/8fa0c104-5a0f-4d6b-ae99-6ef54966adca\" alt=\"Thumbs Up\" style=\"width: 28px; height: 28px;\"></div></div></div></div><div id=\"message21\" class=\"Message message-list-item own open shown\" data-message-id=\"21\"><div class=\"bottom-marker\" data-message-id=\"21\"></div><div class=\"message-select-control\"></div><div class=\"message-content-wrapper can-select-text\"><div class=\"message-content text has-shadow has-solid-background\" dir=\"auto\" style=\"\"><div class=\"content-inner\" dir=\"auto\"><div class=\"text-content with-meta with-outgoing-icon\" dir=\"auto\">aw<span class=\"MessageMeta\" dir=\"ltr\" data-ignore-on-paste=\"true\"><span class=\"message-time\">01:44 PM</span><div class=\"MessageOutgoingStatus\"><div class=\"Transition reveal\"><div class=\"Transition__slide--active\"><i class=\"icon-message-succeeded\"></i></div></div></div></span></div></div><div class=\"quick-reaction\"><img class=\"ReactionStaticEmoji opacity-transition slow open shown\" src=\"blob:https://web.telegram.org/8fa0c104-5a0f-4d6b-ae99-6ef54966adca\" alt=\"Thumbs Up\" style=\"width: 28px; height: 28px;\"></div></div></div></div><div id=\"message22\" class=\"Message message-list-item last-in-group last-in-list own open shown\" data-message-id=\"22\"><div class=\"bottom-marker\" data-message-id=\"22\"></div><div class=\"message-select-control\"></div><div class=\"message-content-wrapper can-select-text\"><div class=\"message-content text has-shadow has-solid-background has-appendix\" dir=\"auto\" style=\"\"><div class=\"content-inner\" dir=\"auto\"><div class=\"text-content with-meta with-outgoing-icon\" dir=\"auto\">df<span class=\"MessageMeta\" dir=\"ltr\" data-ignore-on-paste=\"true\"><span class=\"message-time\">01:45 PM</span><div class=\"MessageOutgoingStatus\"><div class=\"Transition reveal\"><div class=\"Transition__slide--active\"><i class=\"icon-message-succeeded\"></i></div></div></div></span></div></div><div class=\"svg-appendix\"><svg width=\"9\" height=\"20\" xmlns=\"http://www.w3.org/2000/svg\"><defs><filter x=\"-50%\" y=\"-14.7%\" width=\"200%\" height=\"141.2%\" filterUnits=\"objectBoundingBox\" id=\"a\"><feOffset dy=\"1\" in=\"SourceAlpha\" result=\"shadowOffsetOuter1\"></feOffset><feGaussianBlur stdDeviation=\"1\" in=\"shadowOffsetOuter1\" result=\"shadowBlurOuter1\"></feGaussianBlur><feColorMatrix values=\"0 0 0 0 0.0621962482 0 0 0 0 0.138574144 0 0 0 0 0.185037364 0 0 0 0.15 0\" in=\"shadowBlurOuter1\"></feColorMatrix></filter></defs><g fill=\"none\" fill-rule=\"evenodd\"><path d=\"M6 17H0V0c.193 2.84.876 5.767 2.05 8.782.904 2.325 2.446 4.485 4.625 6.48A1 1 0 016 17z\" fill=\"#000\" filter=\"url(#a)\"></path><path d=\"M6 17H0V0c.193 2.84.876 5.767 2.05 8.782.904 2.325 2.446 4.485 4.625 6.48A1 1 0 016 17z\" fill=\"#EEFFDE\" class=\"corner\"></path></g></svg></div><div class=\"quick-reaction\"><img class=\"ReactionStaticEmoji opacity-transition slow open shown\" src=\"blob:https://web.telegram.org/8fa0c104-5a0f-4d6b-ae99-6ef54966adca\" style=\"width: 28px; height: 28px;\" alt=\"Thumbs Up\"></div></div></div></div></div><div class=\"forwards-trigger\"></div><div class=\"fab-trigger\"></div></div></div><div class=\"middle-column-footer\"><div class=\"Composer shown\"><div id=\"message-compose\"><div class=\"svg-appendix\"><svg width=\"9\" height=\"20\" xmlns=\"http://www.w3.org/2000/svg\"><defs><filter x=\"-50%\" y=\"-14.7%\" width=\"200%\" height=\"141.2%\" filterUnits=\"objectBoundingBox\" id=\"a\"><feOffset dy=\"1\" in=\"SourceAlpha\" result=\"shadowOffsetOuter1\"></feOffset><feGaussianBlur stdDeviation=\"1\" in=\"shadowOffsetOuter1\" result=\"shadowBlurOuter1\"></feGaussianBlur><feColorMatrix values=\"0 0 0 0 0.0621962482 0 0 0 0 0.138574144 0 0 0 0 0.185037364 0 0 0 0.15 0\" in=\"shadowBlurOuter1\"></feColorMatrix></filter></defs><g fill=\"none\" fill-rule=\"evenodd\"><path d=\"M6 17H0V0c.193 2.84.876 5.767 2.05 8.782.904 2.325 2.446 4.485 4.625 6.48A1 1 0 016 17z\" fill=\"#000\" filter=\"url(#a)\"></path><path d=\"M6 17H0V0c.193 2.84.876 5.767 2.05 8.782.904 2.325 2.446 4.485 4.625 6.48A1 1 0 016 17z\" fill=\"#FFF\" class=\"corner\"></path></g></svg></div><div class=\"message-input-wrapper\"><button type=\"button\" class=\"Button symbol-menu-button default translucent round\" aria-label=\"Choose emoji, sticker or GIF\" title=\"Choose emoji, sticker or GIF\" style=\"\"><i class=\"icon-smile\"></i></button><div id=\"message-input-text\"><div class=\"custom-scroll input-scroller\"><div class=\"input-scroller-content\"><div id=\"editable-message-text\" class=\"form-control\" contenteditable=\"true\" role=\"textbox\" dir=\"auto\" tabindex=\"0\" aria-label=\"Message\"></div><span class=\"placeholder-text\" dir=\"auto\">Message</span><canvas class=\"shared-canvas\"></canvas><canvas class=\"shared-canvas\"></canvas><div class=\"absolute-video-container\"></div></div></div><div class=\"custom-scroll input-scroller clone\"><div class=\"input-scroller-content\"><div class=\"form-control clone\" dir=\"auto\"></div></div></div></div><div class=\"AttachMenu\"><button id=\"attach-menu-button\" type=\"button\" class=\"Button AttachMenu--button default translucent round\" aria-label=\"Add an attachment\" aria-controls=\"attach-menu-controls\" aria-haspopup=\"true\" title=\"Add an attachment\" style=\"\"><i class=\"icon-attach\"></i></button><div id=\"attach-menu-controls\" class=\"Menu no-selection compact AttachMenu--menu fluid\" aria-labelledby=\"attach-menu-button\" role=\"menu\"><div role=\"presentation\" class=\"bubble menu-container custom-scroll bottom right opacity-transition fast\" style=\"transform-origin: right bottom;\"><div role=\"menuitem\" tabindex=\"0\" class=\"MenuItem compact\"><i class=\"icon-photo\"></i>Photo or Video</div><div role=\"menuitem\" tabindex=\"0\" class=\"MenuItem compact\"><i class=\"icon-document\"></i>File</div></div></div></div></div></div><button type=\"button\" class=\"Button record default secondary round click-allowed\" aria-label=\"Record voice message\" title=\"Record voice message\" style=\"\"><i class=\"icon-send\"></i><i class=\"icon-schedule\"></i><i class=\"icon-microphone-alt\"></i><i class=\"icon-check\"></i></button></div></div></div></div><div class=\"quM3aP53TOfurCEOYgOE S98OqutuQVCNVHgTrKv4\"><div class=\"KboxtoWkfx23zfklH_Zg Hoi4yrJrfBHTmvB8TPce\"><button type=\"button\" class=\"Button sgkkv3bmIMAZS9G9BHUz default secondary round\" aria-label=\"Go to bottom\" title=\"Go to bottom\" style=\"\"><i class=\"AafG9_xBi_2eJ_bFNnNg icon-arrow-down\"></i></button></div></div></div><div></div></div><div id=\"RightColumn-wrapper\" class=\"\"><div class=\"overlay-backdrop\"></div><div id=\"RightColumn\"><div class=\"RightHeader\"><button type=\"button\" class=\"Button close-button smaller translucent round\" aria-label=\"Close\" title=\"Close\" style=\"\"><div class=\"animated-close-icon no-transition\"></div></button><div class=\"Transition none\"></div></div><div class=\"Transition none\"></div></div></div><div></div></div></div></div></div></div><div id=\"portals\"></div></body></html>\n"
     ]
    },
    {
     "ename": "NoSuchElementException",
     "evalue": "Message: no such element: Unable to locate element: {\"method\":\"css selector\",\"selector\":\".Message message-list-item last-in-group last-in-list own open shown\"}\n  (Session info: chrome=108.0.5359.125)\nStacktrace:\nBacktrace:\n\t(No symbol) [0x0097F243]\n\t(No symbol) [0x00907FD1]\n\t(No symbol) [0x007FD04D]\n\t(No symbol) [0x0082C0B0]\n\t(No symbol) [0x0082C22B]\n\t(No symbol) [0x0085E612]\n\t(No symbol) [0x008485D4]\n\t(No symbol) [0x0085C9EB]\n\t(No symbol) [0x00848386]\n\t(No symbol) [0x0082163C]\n\t(No symbol) [0x0082269D]\n\tGetHandleVerifier [0x00C19A22+2655074]\n\tGetHandleVerifier [0x00C0CA24+2601828]\n\tGetHandleVerifier [0x00A28C0A+619850]\n\tGetHandleVerifier [0x00A27830+614768]\n\t(No symbol) [0x009105FC]\n\t(No symbol) [0x00915968]\n\t(No symbol) [0x00915A55]\n\t(No symbol) [0x0092051B]\n\tBaseThreadInitThunk [0x751000F9+25]\n\tRtlGetAppContainerNamedObjectPath [0x77177BBE+286]\n\tRtlGetAppContainerNamedObjectPath [0x77177B8E+238]\n",
     "output_type": "error",
     "traceback": [
      "\u001b[1;31m---------------------------------------------------------------------------\u001b[0m",
      "\u001b[1;31mNoSuchElementException\u001b[0m                    Traceback (most recent call last)",
      "Input \u001b[1;32mIn [193]\u001b[0m, in \u001b[0;36m<cell line: 29>\u001b[1;34m()\u001b[0m\n\u001b[0;32m     27\u001b[0m driver1 \u001b[38;5;241m=\u001b[39m driver\u001b[38;5;241m.\u001b[39mpage_source\n\u001b[0;32m     28\u001b[0m \u001b[38;5;28mprint\u001b[39m(driver1)\n\u001b[1;32m---> 29\u001b[0m div \u001b[38;5;241m=\u001b[39m \u001b[43mdriver\u001b[49m\u001b[38;5;241;43m.\u001b[39;49m\u001b[43mfind_element\u001b[49m\u001b[43m(\u001b[49m\u001b[43mBy\u001b[49m\u001b[38;5;241;43m.\u001b[39;49m\u001b[43mCLASS_NAME\u001b[49m\u001b[43m,\u001b[49m\u001b[43m \u001b[49m\u001b[38;5;124;43m\"\u001b[39;49m\u001b[38;5;124;43mMessage message-list-item last-in-group last-in-list own open shown\u001b[39;49m\u001b[38;5;124;43m\"\u001b[39;49m\u001b[43m)\u001b[49m\n\u001b[0;32m     30\u001b[0m \u001b[38;5;28mprint\u001b[39m(div)\n\u001b[0;32m     31\u001b[0m \u001b[38;5;28mprint\u001b[39m(\u001b[38;5;124m\"\u001b[39m\u001b[38;5;124m        \u001b[39m\u001b[38;5;124m\"\u001b[39m)\n",
      "File \u001b[1;32m~\\anaconda3\\lib\\site-packages\\selenium\\webdriver\\remote\\webdriver.py:1251\u001b[0m, in \u001b[0;36mWebDriver.find_element\u001b[1;34m(self, by, value)\u001b[0m\n\u001b[0;32m   1248\u001b[0m     by \u001b[38;5;241m=\u001b[39m By\u001b[38;5;241m.\u001b[39mCSS_SELECTOR\n\u001b[0;32m   1249\u001b[0m     value \u001b[38;5;241m=\u001b[39m \u001b[38;5;124m'\u001b[39m\u001b[38;5;124m[name=\u001b[39m\u001b[38;5;124m\"\u001b[39m\u001b[38;5;132;01m%s\u001b[39;00m\u001b[38;5;124m\"\u001b[39m\u001b[38;5;124m]\u001b[39m\u001b[38;5;124m'\u001b[39m \u001b[38;5;241m%\u001b[39m value\n\u001b[1;32m-> 1251\u001b[0m \u001b[38;5;28;01mreturn\u001b[39;00m \u001b[38;5;28;43mself\u001b[39;49m\u001b[38;5;241;43m.\u001b[39;49m\u001b[43mexecute\u001b[49m\u001b[43m(\u001b[49m\u001b[43mCommand\u001b[49m\u001b[38;5;241;43m.\u001b[39;49m\u001b[43mFIND_ELEMENT\u001b[49m\u001b[43m,\u001b[49m\u001b[43m \u001b[49m\u001b[43m{\u001b[49m\n\u001b[0;32m   1252\u001b[0m \u001b[43m    \u001b[49m\u001b[38;5;124;43m'\u001b[39;49m\u001b[38;5;124;43musing\u001b[39;49m\u001b[38;5;124;43m'\u001b[39;49m\u001b[43m:\u001b[49m\u001b[43m \u001b[49m\u001b[43mby\u001b[49m\u001b[43m,\u001b[49m\n\u001b[0;32m   1253\u001b[0m \u001b[43m    \u001b[49m\u001b[38;5;124;43m'\u001b[39;49m\u001b[38;5;124;43mvalue\u001b[39;49m\u001b[38;5;124;43m'\u001b[39;49m\u001b[43m:\u001b[49m\u001b[43m \u001b[49m\u001b[43mvalue\u001b[49m\u001b[43m}\u001b[49m\u001b[43m)\u001b[49m[\u001b[38;5;124m'\u001b[39m\u001b[38;5;124mvalue\u001b[39m\u001b[38;5;124m'\u001b[39m]\n",
      "File \u001b[1;32m~\\anaconda3\\lib\\site-packages\\selenium\\webdriver\\remote\\webdriver.py:430\u001b[0m, in \u001b[0;36mWebDriver.execute\u001b[1;34m(self, driver_command, params)\u001b[0m\n\u001b[0;32m    428\u001b[0m response \u001b[38;5;241m=\u001b[39m \u001b[38;5;28mself\u001b[39m\u001b[38;5;241m.\u001b[39mcommand_executor\u001b[38;5;241m.\u001b[39mexecute(driver_command, params)\n\u001b[0;32m    429\u001b[0m \u001b[38;5;28;01mif\u001b[39;00m response:\n\u001b[1;32m--> 430\u001b[0m     \u001b[38;5;28;43mself\u001b[39;49m\u001b[38;5;241;43m.\u001b[39;49m\u001b[43merror_handler\u001b[49m\u001b[38;5;241;43m.\u001b[39;49m\u001b[43mcheck_response\u001b[49m\u001b[43m(\u001b[49m\u001b[43mresponse\u001b[49m\u001b[43m)\u001b[49m\n\u001b[0;32m    431\u001b[0m     response[\u001b[38;5;124m'\u001b[39m\u001b[38;5;124mvalue\u001b[39m\u001b[38;5;124m'\u001b[39m] \u001b[38;5;241m=\u001b[39m \u001b[38;5;28mself\u001b[39m\u001b[38;5;241m.\u001b[39m_unwrap_value(\n\u001b[0;32m    432\u001b[0m         response\u001b[38;5;241m.\u001b[39mget(\u001b[38;5;124m'\u001b[39m\u001b[38;5;124mvalue\u001b[39m\u001b[38;5;124m'\u001b[39m, \u001b[38;5;28;01mNone\u001b[39;00m))\n\u001b[0;32m    433\u001b[0m     \u001b[38;5;28;01mreturn\u001b[39;00m response\n",
      "File \u001b[1;32m~\\anaconda3\\lib\\site-packages\\selenium\\webdriver\\remote\\errorhandler.py:247\u001b[0m, in \u001b[0;36mErrorHandler.check_response\u001b[1;34m(self, response)\u001b[0m\n\u001b[0;32m    245\u001b[0m         alert_text \u001b[38;5;241m=\u001b[39m value[\u001b[38;5;124m'\u001b[39m\u001b[38;5;124malert\u001b[39m\u001b[38;5;124m'\u001b[39m]\u001b[38;5;241m.\u001b[39mget(\u001b[38;5;124m'\u001b[39m\u001b[38;5;124mtext\u001b[39m\u001b[38;5;124m'\u001b[39m)\n\u001b[0;32m    246\u001b[0m     \u001b[38;5;28;01mraise\u001b[39;00m exception_class(message, screen, stacktrace, alert_text)  \u001b[38;5;66;03m# type: ignore[call-arg]  # mypy is not smart enough here\u001b[39;00m\n\u001b[1;32m--> 247\u001b[0m \u001b[38;5;28;01mraise\u001b[39;00m exception_class(message, screen, stacktrace)\n",
      "\u001b[1;31mNoSuchElementException\u001b[0m: Message: no such element: Unable to locate element: {\"method\":\"css selector\",\"selector\":\".Message message-list-item last-in-group last-in-list own open shown\"}\n  (Session info: chrome=108.0.5359.125)\nStacktrace:\nBacktrace:\n\t(No symbol) [0x0097F243]\n\t(No symbol) [0x00907FD1]\n\t(No symbol) [0x007FD04D]\n\t(No symbol) [0x0082C0B0]\n\t(No symbol) [0x0082C22B]\n\t(No symbol) [0x0085E612]\n\t(No symbol) [0x008485D4]\n\t(No symbol) [0x0085C9EB]\n\t(No symbol) [0x00848386]\n\t(No symbol) [0x0082163C]\n\t(No symbol) [0x0082269D]\n\tGetHandleVerifier [0x00C19A22+2655074]\n\tGetHandleVerifier [0x00C0CA24+2601828]\n\tGetHandleVerifier [0x00A28C0A+619850]\n\tGetHandleVerifier [0x00A27830+614768]\n\t(No symbol) [0x009105FC]\n\t(No symbol) [0x00915968]\n\t(No symbol) [0x00915A55]\n\t(No symbol) [0x0092051B]\n\tBaseThreadInitThunk [0x751000F9+25]\n\tRtlGetAppContainerNamedObjectPath [0x77177BBE+286]\n\tRtlGetAppContainerNamedObjectPath [0x77177B8E+238]\n"
     ]
    }
   ],
   "source": [
    "from selenium import webdriver\n",
    "from selenium.webdriver.common.by import By\n",
    "from selenium.webdriver.support.ui import WebDriverWait\n",
    "from selenium.webdriver.support import expected_conditions as EC \n",
    "import time\n",
    "from webdriver_manager.chrome import ChromeDriverManager\n",
    "import re\n",
    "from bs4 import BeautifulSoup\n",
    "import urllib\n",
    "from selenium.webdriver.common.keys import Keys\n",
    "import requests \n",
    "\n",
    "\n",
    "\n",
    "\n",
    "\n",
    "\n",
    "driver=webdriver.Chrome(ChromeDriverManager().install())\n",
    "driver.get('https://web.telegram.org/z/#5893902249')\n",
    "time.sleep(15)\n",
    "page_source1 = driver.page_source\n",
    "data = BeautifulSoup(page_source1, 'html.parser')\n",
    "#message-date-group\n",
    "mydivs = data.find_all(\"div\", {\"class\": \"Message message-list-item last-in-group last-in-list own open shown\"})\n",
    "\n",
    "\n",
    "driver1 = driver.page_source\n",
    "print(type(driver1)\n",
    "div = driver1.find_element(By.CLASS_NAME, \"Message message-list-item last-in-group last-in-list own open shown\")\n",
    "print(div)\n",
    "print(\"        \")\n",
    "print(\"        \")\n",
    "print(\"        \")\n",
    "print(\"        \")\n",
    "li = mydivs.find_all(\"div\", {\"class\": \"text-content with-meta with-outgoing-icon\"})\n",
    "print(li)\n",
    "      \n",
    "      \n",
    "    \n",
    "# text_area = driver.find_element(By.CLASS_NAME, \"bubbles-group\")\n",
    "# text_area.send_keys(\"hello!\")\n",
    "# text_area.send_keys(Keys.ENTER)\n",
    "\n",
    "\n",
    "#Message message-list-item last-in-group last-in-list own open shown\n"
   ]
  },
  {
   "cell_type": "code",
   "execution_count": 214,
   "id": "df6288e3",
   "metadata": {},
   "outputs": [
    {
     "name": "stdout",
     "output_type": "stream",
     "text": [
      "<div class=\"Message message-list-item last-in-group last-in-list own open shown\" data-message-id=\"22\" id=\"message22\"><div class=\"bottom-marker\" data-message-id=\"22\"></div><div class=\"message-select-control\"></div><div class=\"message-content-wrapper can-select-text\"><div class=\"message-content text has-shadow has-solid-background has-appendix\" dir=\"auto\" style=\"\"><div class=\"content-inner\" dir=\"auto\"><div class=\"text-content with-meta with-outgoing-icon\" dir=\"auto\">df<span class=\"MessageMeta\" data-ignore-on-paste=\"true\" dir=\"ltr\"><span class=\"message-time\">01:45 PM</span><div class=\"MessageOutgoingStatus\"><div class=\"Transition reveal\"><div class=\"Transition__slide--active\"><i class=\"icon-message-succeeded\"></i></div></div></div></span></div></div><div class=\"svg-appendix\"><svg height=\"20\" width=\"9\" xmlns=\"http://www.w3.org/2000/svg\"><defs><filter filterunits=\"objectBoundingBox\" height=\"141.2%\" id=\"a\" width=\"200%\" x=\"-50%\" y=\"-14.7%\"><feoffset dy=\"1\" in=\"SourceAlpha\" result=\"shadowOffsetOuter1\"></feoffset><fegaussianblur in=\"shadowOffsetOuter1\" result=\"shadowBlurOuter1\" stddeviation=\"1\"></fegaussianblur><fecolormatrix in=\"shadowBlurOuter1\" values=\"0 0 0 0 0.0621962482 0 0 0 0 0.138574144 0 0 0 0 0.185037364 0 0 0 0.15 0\"></fecolormatrix></filter></defs><g fill=\"none\" fill-rule=\"evenodd\"><path d=\"M6 17H0V0c.193 2.84.876 5.767 2.05 8.782.904 2.325 2.446 4.485 4.625 6.48A1 1 0 016 17z\" fill=\"#000\" filter=\"url(#a)\"></path><path class=\"corner\" d=\"M6 17H0V0c.193 2.84.876 5.767 2.05 8.782.904 2.325 2.446 4.485 4.625 6.48A1 1 0 016 17z\" fill=\"#EEFFDE\"></path></g></svg></div><div class=\"quick-reaction\"><img alt=\"Thumbs Up\" class=\"ReactionStaticEmoji opacity-transition slow open shown\" src=\"blob:https://web.telegram.org/8fa0c104-5a0f-4d6b-ae99-6ef54966adca\" style=\"width: 28px; height: 28px;\"/></div></div></div></div>\n",
      "end\n"
     ]
    },
    {
     "ename": "AttributeError",
     "evalue": "ResultSet object has no attribute 'find_all'. You're probably treating a list of elements like a single element. Did you call find_all() when you meant to call find()?",
     "output_type": "error",
     "traceback": [
      "\u001b[1;31m---------------------------------------------------------------------------\u001b[0m",
      "\u001b[1;31mAttributeError\u001b[0m                            Traceback (most recent call last)",
      "Input \u001b[1;32mIn [214]\u001b[0m, in \u001b[0;36m<cell line: 10>\u001b[1;34m()\u001b[0m\n\u001b[0;32m      3\u001b[0m     \u001b[38;5;28mprint\u001b[39m(i)\n\u001b[0;32m      4\u001b[0m     \u001b[38;5;28mprint\u001b[39m(\u001b[38;5;124m\"\u001b[39m\u001b[38;5;124mend\u001b[39m\u001b[38;5;124m\"\u001b[39m)\n\u001b[1;32m---> 10\u001b[0m \u001b[38;5;28;01mfor\u001b[39;00m section \u001b[38;5;129;01min\u001b[39;00m \u001b[43mmydivs\u001b[49m\u001b[38;5;241;43m.\u001b[39;49m\u001b[43mfind_all\u001b[49m(\u001b[38;5;124m\"\u001b[39m\u001b[38;5;124mdiv\u001b[39m\u001b[38;5;124m\"\u001b[39m, {\u001b[38;5;124m\"\u001b[39m\u001b[38;5;124mclass\u001b[39m\u001b[38;5;124m\"\u001b[39m: \u001b[38;5;124m\"\u001b[39m\u001b[38;5;124mtext-content with-meta with-outgoing-icon\u001b[39m\u001b[38;5;124m\"\u001b[39m}):\n\u001b[0;32m     11\u001b[0m     nextNode \u001b[38;5;241m=\u001b[39m section\n\u001b[0;32m     12\u001b[0m     \u001b[38;5;28;01mwhile\u001b[39;00m \u001b[38;5;28;01mTrue\u001b[39;00m:\n",
      "File \u001b[1;32m~\\anaconda3\\lib\\site-packages\\bs4\\element.py:2173\u001b[0m, in \u001b[0;36mResultSet.__getattr__\u001b[1;34m(self, key)\u001b[0m\n\u001b[0;32m   2171\u001b[0m \u001b[38;5;28;01mdef\u001b[39;00m \u001b[38;5;21m__getattr__\u001b[39m(\u001b[38;5;28mself\u001b[39m, key):\n\u001b[0;32m   2172\u001b[0m     \u001b[38;5;124;03m\"\"\"Raise a helpful exception to explain a common code fix.\"\"\"\u001b[39;00m\n\u001b[1;32m-> 2173\u001b[0m     \u001b[38;5;28;01mraise\u001b[39;00m \u001b[38;5;167;01mAttributeError\u001b[39;00m(\n\u001b[0;32m   2174\u001b[0m         \u001b[38;5;124m\"\u001b[39m\u001b[38;5;124mResultSet object has no attribute \u001b[39m\u001b[38;5;124m'\u001b[39m\u001b[38;5;132;01m%s\u001b[39;00m\u001b[38;5;124m'\u001b[39m\u001b[38;5;124m. You\u001b[39m\u001b[38;5;124m'\u001b[39m\u001b[38;5;124mre probably treating a list of elements like a single element. Did you call find_all() when you meant to call find()?\u001b[39m\u001b[38;5;124m\"\u001b[39m \u001b[38;5;241m%\u001b[39m key\n\u001b[0;32m   2175\u001b[0m     )\n",
      "\u001b[1;31mAttributeError\u001b[0m: ResultSet object has no attribute 'find_all'. You're probably treating a list of elements like a single element. Did you call find_all() when you meant to call find()?"
     ]
    }
   ],
   "source": [
    "temp = mydivs\n",
    "for i in temp:\n",
    "    print(i)\n",
    "    print(\"end\")\n",
    "\n",
    "    \n",
    "    \n",
    "    \n",
    "    \n",
    "for section in mydivs.find_all(\"div\", {\"class\": \"text-content with-meta with-outgoing-icon\"}):\n",
    "    nextNode = section\n",
    "    while True:\n",
    "        nextNode = nextNode.nextSibling\n",
    "        tag_name = nextNode.name\n",
    "        if tag_name == \"div\":\n",
    "            print(nextNode.string)\n",
    "        else:\n",
    "            print(\"*****\")\n",
    "            break\n",
    "            \n",
    "            \n",
    "            \n",
    "/html/body/div[1]/div[1]/div[2]/div[1]/div/div[3]/div/div/section/div[5]/div[3]/div/div/div"
   ]
  },
  {
   "cell_type": "code",
   "execution_count": 239,
   "id": "b93e3554",
   "metadata": {},
   "outputs": [
    {
     "name": "stderr",
     "output_type": "stream",
     "text": [
      "C:\\Users\\akhil\\AppData\\Local\\Temp\\ipykernel_24944\\810396635.py:13: DeprecationWarning: executable_path has been deprecated, please pass in a Service object\n",
      "  driver=webdriver.Chrome(ChromeDriverManager().install())\n"
     ]
    },
    {
     "ename": "NoSuchElementException",
     "evalue": "Message: no such element: Unable to locate element: {\"method\":\"xpath\",\"selector\":\"//*[@id=\"column-center\"]/div/div/div[3]/div/div/section/div[7]/div[6]/div/div/div\"}\n  (Session info: chrome=108.0.5359.125)\nStacktrace:\nBacktrace:\n\t(No symbol) [0x0097F243]\n\t(No symbol) [0x00907FD1]\n\t(No symbol) [0x007FD04D]\n\t(No symbol) [0x0082C0B0]\n\t(No symbol) [0x0082C22B]\n\t(No symbol) [0x0085E612]\n\t(No symbol) [0x008485D4]\n\t(No symbol) [0x0085C9EB]\n\t(No symbol) [0x00848386]\n\t(No symbol) [0x0082163C]\n\t(No symbol) [0x0082269D]\n\tGetHandleVerifier [0x00C19A22+2655074]\n\tGetHandleVerifier [0x00C0CA24+2601828]\n\tGetHandleVerifier [0x00A28C0A+619850]\n\tGetHandleVerifier [0x00A27830+614768]\n\t(No symbol) [0x009105FC]\n\t(No symbol) [0x00915968]\n\t(No symbol) [0x00915A55]\n\t(No symbol) [0x0092051B]\n\tBaseThreadInitThunk [0x751000F9+25]\n\tRtlGetAppContainerNamedObjectPath [0x77177BBE+286]\n\tRtlGetAppContainerNamedObjectPath [0x77177B8E+238]\n",
     "output_type": "error",
     "traceback": [
      "\u001b[1;31m---------------------------------------------------------------------------\u001b[0m",
      "\u001b[1;31mNoSuchElementException\u001b[0m                    Traceback (most recent call last)",
      "Input \u001b[1;32mIn [239]\u001b[0m, in \u001b[0;36m<cell line: 20>\u001b[1;34m()\u001b[0m\n\u001b[0;32m     17\u001b[0m data \u001b[38;5;241m=\u001b[39m BeautifulSoup(page_source1, \u001b[38;5;124m'\u001b[39m\u001b[38;5;124mhtml.parser\u001b[39m\u001b[38;5;124m'\u001b[39m)\n\u001b[0;32m     18\u001b[0m \u001b[38;5;66;03m#class name div  bubbles-group\u001b[39;00m\n\u001b[0;32m     19\u001b[0m \u001b[38;5;66;03m#path = driver.find_element(By.CLASS_NAME, \"bubbles-date-group\")\u001b[39;00m\n\u001b[1;32m---> 20\u001b[0m path \u001b[38;5;241m=\u001b[39m \u001b[43mdriver\u001b[49m\u001b[38;5;241;43m.\u001b[39;49m\u001b[43mfind_element\u001b[49m\u001b[43m(\u001b[49m\u001b[43mBy\u001b[49m\u001b[38;5;241;43m.\u001b[39;49m\u001b[43mXPATH\u001b[49m\u001b[43m,\u001b[49m\u001b[43m \u001b[49m\u001b[38;5;124;43m'\u001b[39;49m\u001b[38;5;124;43m//*[@id=\u001b[39;49m\u001b[38;5;124;43m\"\u001b[39;49m\u001b[38;5;124;43mcolumn-center\u001b[39;49m\u001b[38;5;124;43m\"\u001b[39;49m\u001b[38;5;124;43m]/div/div/div[3]/div/div/section/div[7]/div[6]/div/div/div\u001b[39;49m\u001b[38;5;124;43m'\u001b[39;49m\u001b[43m)\u001b[49m \u001b[38;5;66;03m#session xpath\u001b[39;00m\n\u001b[0;32m     21\u001b[0m \u001b[38;5;28mprint\u001b[39m(path)\n",
      "File \u001b[1;32m~\\anaconda3\\lib\\site-packages\\selenium\\webdriver\\remote\\webdriver.py:1251\u001b[0m, in \u001b[0;36mWebDriver.find_element\u001b[1;34m(self, by, value)\u001b[0m\n\u001b[0;32m   1248\u001b[0m     by \u001b[38;5;241m=\u001b[39m By\u001b[38;5;241m.\u001b[39mCSS_SELECTOR\n\u001b[0;32m   1249\u001b[0m     value \u001b[38;5;241m=\u001b[39m \u001b[38;5;124m'\u001b[39m\u001b[38;5;124m[name=\u001b[39m\u001b[38;5;124m\"\u001b[39m\u001b[38;5;132;01m%s\u001b[39;00m\u001b[38;5;124m\"\u001b[39m\u001b[38;5;124m]\u001b[39m\u001b[38;5;124m'\u001b[39m \u001b[38;5;241m%\u001b[39m value\n\u001b[1;32m-> 1251\u001b[0m \u001b[38;5;28;01mreturn\u001b[39;00m \u001b[38;5;28;43mself\u001b[39;49m\u001b[38;5;241;43m.\u001b[39;49m\u001b[43mexecute\u001b[49m\u001b[43m(\u001b[49m\u001b[43mCommand\u001b[49m\u001b[38;5;241;43m.\u001b[39;49m\u001b[43mFIND_ELEMENT\u001b[49m\u001b[43m,\u001b[49m\u001b[43m \u001b[49m\u001b[43m{\u001b[49m\n\u001b[0;32m   1252\u001b[0m \u001b[43m    \u001b[49m\u001b[38;5;124;43m'\u001b[39;49m\u001b[38;5;124;43musing\u001b[39;49m\u001b[38;5;124;43m'\u001b[39;49m\u001b[43m:\u001b[49m\u001b[43m \u001b[49m\u001b[43mby\u001b[49m\u001b[43m,\u001b[49m\n\u001b[0;32m   1253\u001b[0m \u001b[43m    \u001b[49m\u001b[38;5;124;43m'\u001b[39;49m\u001b[38;5;124;43mvalue\u001b[39;49m\u001b[38;5;124;43m'\u001b[39;49m\u001b[43m:\u001b[49m\u001b[43m \u001b[49m\u001b[43mvalue\u001b[49m\u001b[43m}\u001b[49m\u001b[43m)\u001b[49m[\u001b[38;5;124m'\u001b[39m\u001b[38;5;124mvalue\u001b[39m\u001b[38;5;124m'\u001b[39m]\n",
      "File \u001b[1;32m~\\anaconda3\\lib\\site-packages\\selenium\\webdriver\\remote\\webdriver.py:430\u001b[0m, in \u001b[0;36mWebDriver.execute\u001b[1;34m(self, driver_command, params)\u001b[0m\n\u001b[0;32m    428\u001b[0m response \u001b[38;5;241m=\u001b[39m \u001b[38;5;28mself\u001b[39m\u001b[38;5;241m.\u001b[39mcommand_executor\u001b[38;5;241m.\u001b[39mexecute(driver_command, params)\n\u001b[0;32m    429\u001b[0m \u001b[38;5;28;01mif\u001b[39;00m response:\n\u001b[1;32m--> 430\u001b[0m     \u001b[38;5;28;43mself\u001b[39;49m\u001b[38;5;241;43m.\u001b[39;49m\u001b[43merror_handler\u001b[49m\u001b[38;5;241;43m.\u001b[39;49m\u001b[43mcheck_response\u001b[49m\u001b[43m(\u001b[49m\u001b[43mresponse\u001b[49m\u001b[43m)\u001b[49m\n\u001b[0;32m    431\u001b[0m     response[\u001b[38;5;124m'\u001b[39m\u001b[38;5;124mvalue\u001b[39m\u001b[38;5;124m'\u001b[39m] \u001b[38;5;241m=\u001b[39m \u001b[38;5;28mself\u001b[39m\u001b[38;5;241m.\u001b[39m_unwrap_value(\n\u001b[0;32m    432\u001b[0m         response\u001b[38;5;241m.\u001b[39mget(\u001b[38;5;124m'\u001b[39m\u001b[38;5;124mvalue\u001b[39m\u001b[38;5;124m'\u001b[39m, \u001b[38;5;28;01mNone\u001b[39;00m))\n\u001b[0;32m    433\u001b[0m     \u001b[38;5;28;01mreturn\u001b[39;00m response\n",
      "File \u001b[1;32m~\\anaconda3\\lib\\site-packages\\selenium\\webdriver\\remote\\errorhandler.py:247\u001b[0m, in \u001b[0;36mErrorHandler.check_response\u001b[1;34m(self, response)\u001b[0m\n\u001b[0;32m    245\u001b[0m         alert_text \u001b[38;5;241m=\u001b[39m value[\u001b[38;5;124m'\u001b[39m\u001b[38;5;124malert\u001b[39m\u001b[38;5;124m'\u001b[39m]\u001b[38;5;241m.\u001b[39mget(\u001b[38;5;124m'\u001b[39m\u001b[38;5;124mtext\u001b[39m\u001b[38;5;124m'\u001b[39m)\n\u001b[0;32m    246\u001b[0m     \u001b[38;5;28;01mraise\u001b[39;00m exception_class(message, screen, stacktrace, alert_text)  \u001b[38;5;66;03m# type: ignore[call-arg]  # mypy is not smart enough here\u001b[39;00m\n\u001b[1;32m--> 247\u001b[0m \u001b[38;5;28;01mraise\u001b[39;00m exception_class(message, screen, stacktrace)\n",
      "\u001b[1;31mNoSuchElementException\u001b[0m: Message: no such element: Unable to locate element: {\"method\":\"xpath\",\"selector\":\"//*[@id=\"column-center\"]/div/div/div[3]/div/div/section/div[7]/div[6]/div/div/div\"}\n  (Session info: chrome=108.0.5359.125)\nStacktrace:\nBacktrace:\n\t(No symbol) [0x0097F243]\n\t(No symbol) [0x00907FD1]\n\t(No symbol) [0x007FD04D]\n\t(No symbol) [0x0082C0B0]\n\t(No symbol) [0x0082C22B]\n\t(No symbol) [0x0085E612]\n\t(No symbol) [0x008485D4]\n\t(No symbol) [0x0085C9EB]\n\t(No symbol) [0x00848386]\n\t(No symbol) [0x0082163C]\n\t(No symbol) [0x0082269D]\n\tGetHandleVerifier [0x00C19A22+2655074]\n\tGetHandleVerifier [0x00C0CA24+2601828]\n\tGetHandleVerifier [0x00A28C0A+619850]\n\tGetHandleVerifier [0x00A27830+614768]\n\t(No symbol) [0x009105FC]\n\t(No symbol) [0x00915968]\n\t(No symbol) [0x00915A55]\n\t(No symbol) [0x0092051B]\n\tBaseThreadInitThunk [0x751000F9+25]\n\tRtlGetAppContainerNamedObjectPath [0x77177BBE+286]\n\tRtlGetAppContainerNamedObjectPath [0x77177B8E+238]\n"
     ]
    }
   ],
   "source": [
    "from selenium import webdriver\n",
    "from selenium.webdriver.common.by import By\n",
    "from selenium.webdriver.support.ui import WebDriverWait\n",
    "from selenium.webdriver.support import expected_conditions as EC \n",
    "import time\n",
    "from webdriver_manager.chrome import ChromeDriverManager\n",
    "import re\n",
    "from bs4 import BeautifulSoup\n",
    "import urllib\n",
    "from selenium.webdriver.common.keys import Keys\n",
    "import requests \n",
    "\n",
    "driver=webdriver.Chrome(ChromeDriverManager().install())\n",
    "driver.get('https://web.telegram.org/z/#5893902249')\n",
    "time.sleep(15)\n",
    "path = driver.find_element(By.XPATH, '//*[@id=\"column-center\"]/div/div/div[3]/div/div/section/div[7]/div[6]/div/div/div') #session xpath\n",
    "print(path)"
   ]
  },
  {
   "cell_type": "code",
   "execution_count": 232,
   "id": "8db6ad20",
   "metadata": {},
   "outputs": [
    {
     "data": {
      "text/plain": [
       "'df\\n01:45 PM'"
      ]
     },
     "execution_count": 232,
     "metadata": {},
     "output_type": "execute_result"
    }
   ],
   "source": [
    "path.text"
   ]
  },
  {
   "cell_type": "code",
   "execution_count": null,
   "id": "d2a02ccc",
   "metadata": {},
   "outputs": [],
   "source": []
  },
  {
   "cell_type": "code",
   "execution_count": null,
   "id": "9d4a2634",
   "metadata": {},
   "outputs": [],
   "source": []
  },
  {
   "cell_type": "code",
   "execution_count": null,
   "id": "973016ed",
   "metadata": {},
   "outputs": [],
   "source": []
  },
  {
   "cell_type": "code",
   "execution_count": null,
   "id": "8b56027b",
   "metadata": {},
   "outputs": [],
   "source": []
  },
  {
   "cell_type": "code",
   "execution_count": 1,
   "id": "0b0f846d",
   "metadata": {},
   "outputs": [
    {
     "data": {
      "text/plain": [
       "array([3, 5, 5, 5])"
      ]
     },
     "execution_count": 1,
     "metadata": {},
     "output_type": "execute_result"
    }
   ],
   "source": [
    "import numpy as np\n",
    "\n",
    "A = np.array([1,2,3,4])\n",
    "\n",
    "B = np.array([2,3,2,1])\n",
    "\n",
    "\n",
    "\n",
    "C = A + B\n",
    "C"
   ]
  },
  {
   "cell_type": "code",
   "execution_count": null,
   "id": "99d4ffaa",
   "metadata": {},
   "outputs": [],
   "source": []
  },
  {
   "cell_type": "code",
   "execution_count": null,
   "id": "8cdd4444",
   "metadata": {},
   "outputs": [],
   "source": [
    "bubble hide-name is-out can-have-tail is-read is-group-last"
   ]
  }
 ],
 "metadata": {
  "kernelspec": {
   "display_name": "Python 3 (ipykernel)",
   "language": "python",
   "name": "python3"
  },
  "language_info": {
   "codemirror_mode": {
    "name": "ipython",
    "version": 3
   },
   "file_extension": ".py",
   "mimetype": "text/x-python",
   "name": "python",
   "nbconvert_exporter": "python",
   "pygments_lexer": "ipython3",
   "version": "3.9.12"
  }
 },
 "nbformat": 4,
 "nbformat_minor": 5
}
